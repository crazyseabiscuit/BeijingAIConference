{
 "cells": [
  {
   "cell_type": "markdown",
   "metadata": {},
   "source": [
    "# 计算不同特征的PSI值，比较它们的稳定性"
   ]
  },
  {
   "cell_type": "code",
   "execution_count": 4,
   "metadata": {
    "collapsed": true
   },
   "outputs": [],
   "source": [
    "from __future__ import division\n",
    "import math\n",
    "import numpy as np\n",
    "\n",
    "import pandas as pd\n",
    "from matplotlib import pylab\n",
    "import matplotlib.pyplot as plt\n",
    "\n",
    "%matplotlib inline"
   ]
  },
  {
   "cell_type": "markdown",
   "metadata": {},
   "source": [
    "# 1. 读数据\n",
    "- PSI\n",
    "    - PSI_12m.csv包括1-12月的贷款数据，PSI_6m.csv包括1-6月的贷款数据\n",
    "    - 可根据需要选择其中一个数据计算PSI值\n",
    "    - 二者均共41个字段，其中issue_d表示申请贷款的月份，其余字段为特征\n",
    "- LCDataDictionary.csv是Leng Club数据中的变量含义"
   ]
  },
  {
   "cell_type": "code",
   "execution_count": 33,
   "metadata": {},
   "outputs": [
    {
     "name": "stdout",
     "output_type": "stream",
     "text": [
      "一共12个月的数据\n"
     ]
    },
    {
     "data": {
      "text/html": [
       "<div>\n",
       "<style>\n",
       "    .dataframe thead tr:only-child th {\n",
       "        text-align: right;\n",
       "    }\n",
       "\n",
       "    .dataframe thead th {\n",
       "        text-align: left;\n",
       "    }\n",
       "\n",
       "    .dataframe tbody tr th {\n",
       "        vertical-align: top;\n",
       "    }\n",
       "</style>\n",
       "<table border=\"1\" class=\"dataframe\">\n",
       "  <thead>\n",
       "    <tr style=\"text-align: right;\">\n",
       "      <th></th>\n",
       "      <th>issue_d</th>\n",
       "      <th>tot_coll_amt</th>\n",
       "      <th>tot_cur_bal</th>\n",
       "      <th>total_rev_hi_lim</th>\n",
       "      <th>acc_open_past_24mths</th>\n",
       "      <th>avg_cur_bal</th>\n",
       "      <th>bc_open_to_buy</th>\n",
       "      <th>bc_util</th>\n",
       "      <th>chargeoff_within_12_mths</th>\n",
       "      <th>delinq_amnt</th>\n",
       "      <th>...</th>\n",
       "      <th>num_tl_90g_dpd_24m</th>\n",
       "      <th>num_tl_op_past_12m</th>\n",
       "      <th>pct_tl_nvr_dlq</th>\n",
       "      <th>percent_bc_gt_75</th>\n",
       "      <th>pub_rec_bankruptcies</th>\n",
       "      <th>tax_liens</th>\n",
       "      <th>tot_hi_cred_lim</th>\n",
       "      <th>total_bal_ex_mort</th>\n",
       "      <th>total_bc_limit</th>\n",
       "      <th>total_il_high_credit_limit</th>\n",
       "    </tr>\n",
       "  </thead>\n",
       "  <tbody>\n",
       "    <tr>\n",
       "      <th>0</th>\n",
       "      <td>12</td>\n",
       "      <td>321.0</td>\n",
       "      <td>146867.0</td>\n",
       "      <td>52200.0</td>\n",
       "      <td>3.0</td>\n",
       "      <td>8639.0</td>\n",
       "      <td>17248.0</td>\n",
       "      <td>35.6</td>\n",
       "      <td>0.0</td>\n",
       "      <td>0.0</td>\n",
       "      <td>...</td>\n",
       "      <td>0.0</td>\n",
       "      <td>1.0</td>\n",
       "      <td>91.3</td>\n",
       "      <td>33.3</td>\n",
       "      <td>0.0</td>\n",
       "      <td>0.0</td>\n",
       "      <td>220950.0</td>\n",
       "      <td>49644.0</td>\n",
       "      <td>26800.0</td>\n",
       "      <td>71700.0</td>\n",
       "    </tr>\n",
       "    <tr>\n",
       "      <th>1</th>\n",
       "      <td>12</td>\n",
       "      <td>0.0</td>\n",
       "      <td>265836.0</td>\n",
       "      <td>51000.0</td>\n",
       "      <td>3.0</td>\n",
       "      <td>24167.0</td>\n",
       "      <td>17922.0</td>\n",
       "      <td>61.0</td>\n",
       "      <td>0.0</td>\n",
       "      <td>0.0</td>\n",
       "      <td>...</td>\n",
       "      <td>0.0</td>\n",
       "      <td>1.0</td>\n",
       "      <td>100.0</td>\n",
       "      <td>60.0</td>\n",
       "      <td>0.0</td>\n",
       "      <td>0.0</td>\n",
       "      <td>309638.0</td>\n",
       "      <td>62407.0</td>\n",
       "      <td>45900.0</td>\n",
       "      <td>45838.0</td>\n",
       "    </tr>\n",
       "    <tr>\n",
       "      <th>2</th>\n",
       "      <td>12</td>\n",
       "      <td>8341.0</td>\n",
       "      <td>27957.0</td>\n",
       "      <td>30300.0</td>\n",
       "      <td>7.0</td>\n",
       "      <td>1997.0</td>\n",
       "      <td>8182.0</td>\n",
       "      <td>50.1</td>\n",
       "      <td>0.0</td>\n",
       "      <td>0.0</td>\n",
       "      <td>...</td>\n",
       "      <td>0.0</td>\n",
       "      <td>2.0</td>\n",
       "      <td>95.7</td>\n",
       "      <td>28.6</td>\n",
       "      <td>1.0</td>\n",
       "      <td>0.0</td>\n",
       "      <td>61099.0</td>\n",
       "      <td>27957.0</td>\n",
       "      <td>16400.0</td>\n",
       "      <td>30799.0</td>\n",
       "    </tr>\n",
       "  </tbody>\n",
       "</table>\n",
       "<p>3 rows × 41 columns</p>\n",
       "</div>"
      ],
      "text/plain": [
       "   issue_d  tot_coll_amt  tot_cur_bal  total_rev_hi_lim  acc_open_past_24mths  \\\n",
       "0       12         321.0     146867.0           52200.0                   3.0   \n",
       "1       12           0.0     265836.0           51000.0                   3.0   \n",
       "2       12        8341.0      27957.0           30300.0                   7.0   \n",
       "\n",
       "   avg_cur_bal  bc_open_to_buy  bc_util  chargeoff_within_12_mths  \\\n",
       "0       8639.0         17248.0     35.6                       0.0   \n",
       "1      24167.0         17922.0     61.0                       0.0   \n",
       "2       1997.0          8182.0     50.1                       0.0   \n",
       "\n",
       "   delinq_amnt             ...              num_tl_90g_dpd_24m  \\\n",
       "0          0.0             ...                             0.0   \n",
       "1          0.0             ...                             0.0   \n",
       "2          0.0             ...                             0.0   \n",
       "\n",
       "   num_tl_op_past_12m  pct_tl_nvr_dlq  percent_bc_gt_75  pub_rec_bankruptcies  \\\n",
       "0                 1.0            91.3              33.3                   0.0   \n",
       "1                 1.0           100.0              60.0                   0.0   \n",
       "2                 2.0            95.7              28.6                   1.0   \n",
       "\n",
       "   tax_liens  tot_hi_cred_lim  total_bal_ex_mort  total_bc_limit  \\\n",
       "0        0.0         220950.0            49644.0         26800.0   \n",
       "1        0.0         309638.0            62407.0         45900.0   \n",
       "2        0.0          61099.0            27957.0         16400.0   \n",
       "\n",
       "   total_il_high_credit_limit  \n",
       "0                     71700.0  \n",
       "1                     45838.0  \n",
       "2                     30799.0  \n",
       "\n",
       "[3 rows x 41 columns]"
      ]
     },
     "execution_count": 33,
     "metadata": {},
     "output_type": "execute_result"
    }
   ],
   "source": [
    "df = pd.read_csv('../data/PSI_12m.csv')\n",
    "# df = pd.read_csv('../data/PSI_6m.csv')\n",
    "month_max = max(df.issue_d)\n",
    "print '一共'+str(month_max)+'个月的数据'\n",
    "df.head(3)"
   ]
  },
  {
   "cell_type": "code",
   "execution_count": 8,
   "metadata": {},
   "outputs": [
    {
     "data": {
      "text/html": [
       "<div>\n",
       "<style>\n",
       "    .dataframe thead tr:only-child th {\n",
       "        text-align: right;\n",
       "    }\n",
       "\n",
       "    .dataframe thead th {\n",
       "        text-align: left;\n",
       "    }\n",
       "\n",
       "    .dataframe tbody tr th {\n",
       "        vertical-align: top;\n",
       "    }\n",
       "</style>\n",
       "<table border=\"1\" class=\"dataframe\">\n",
       "  <thead>\n",
       "    <tr style=\"text-align: right;\">\n",
       "      <th></th>\n",
       "      <th>Description</th>\n",
       "    </tr>\n",
       "    <tr>\n",
       "      <th>feature</th>\n",
       "      <th></th>\n",
       "    </tr>\n",
       "  </thead>\n",
       "  <tbody>\n",
       "    <tr>\n",
       "      <th>acc_now_delinq</th>\n",
       "      <td>The number of accounts on which the borrower i...</td>\n",
       "    </tr>\n",
       "    <tr>\n",
       "      <th>acc_open_past_24mths</th>\n",
       "      <td>Number of trades opened in past 24 months.</td>\n",
       "    </tr>\n",
       "    <tr>\n",
       "      <th>addr_state</th>\n",
       "      <td>The state provided by the borrower in the loan...</td>\n",
       "    </tr>\n",
       "  </tbody>\n",
       "</table>\n",
       "</div>"
      ],
      "text/plain": [
       "                                                            Description\n",
       "feature                                                                \n",
       "acc_now_delinq        The number of accounts on which the borrower i...\n",
       "acc_open_past_24mths         Number of trades opened in past 24 months.\n",
       "addr_state            The state provided by the borrower in the loan..."
      ]
     },
     "execution_count": 8,
     "metadata": {},
     "output_type": "execute_result"
    }
   ],
   "source": [
    "dict_df = pd.read_csv('../data/LCDataDictionary_clean.csv')\n",
    "dict_df = dict_df.set_index('feature')\n",
    "dict_df.head(3)"
   ]
  },
  {
   "cell_type": "markdown",
   "metadata": {},
   "source": [
    "# 2. 计算tot_coll_amt特征在1月和6月的PSI值"
   ]
  },
  {
   "cell_type": "markdown",
   "metadata": {},
   "source": [
    "## 删除没有tot_coll_amt特征的数据"
   ]
  },
  {
   "cell_type": "code",
   "execution_count": 82,
   "metadata": {
    "collapsed": true
   },
   "outputs": [],
   "source": [
    "df_temp = df[['issue_d','tot_coll_amt']]\n",
    "df_temp = df_temp[df_temp['issue_d'].isin([1,6])]\n",
    "df_temp = df_temp.dropna(how='any')"
   ]
  },
  {
   "cell_type": "markdown",
   "metadata": {},
   "source": [
    "## 按照tot_coll_amt对数据进行排序和分组\n",
    "\n",
    "- 要求\n",
    "    - 每组都至少有10%的用户（最后一组例外）\n",
    "    - 同一score的账户必须分入同一组"
   ]
  },
  {
   "cell_type": "code",
   "execution_count": 69,
   "metadata": {},
   "outputs": [
    {
     "name": "stdout",
     "output_type": "stream",
     "text": [
      "1月数据条数： 35107\n",
      "6月数据条数： 28485\n"
     ]
    }
   ],
   "source": [
    "df_temp = df_temp.sort_values(by='tot_coll_amt')\n",
    "df_temp = df_temp.reset_index(level=0, drop=True)\n",
    "\n",
    "\n",
    "before_total = df_temp[df_temp['issue_d']==1].shape[0]\n",
    "after_total = df_temp[df_temp['issue_d']==6].shape[0]\n",
    "total = before_total + after_total\n",
    "print '1月数据条数：', before_total\n",
    "print '6月数据条数：', after_total"
   ]
  },
  {
   "cell_type": "code",
   "execution_count": 70,
   "metadata": {},
   "outputs": [
    {
     "name": "stderr",
     "output_type": "stream",
     "text": [
      "/Users/Aurora/anaconda/lib/python2.7/site-packages/ipykernel_launcher.py:17: DeprecationWarning: \n",
      ".ix is deprecated. Please use\n",
      ".loc for label based indexing or\n",
      ".iloc for positional indexing\n",
      "\n",
      "See the documentation here:\n",
      "http://pandas.pydata.org/pandas-docs/stable/indexing.html#deprecate_ix\n"
     ]
    },
    {
     "name": "stdout",
     "output_type": "stream",
     "text": [
      "每组最后一个账户的ID分别是: \n",
      "[53663, 60023, 63591]\n"
     ]
    }
   ],
   "source": [
    "bin_size = int(math.ceil(total * 0.1))\n",
    "\n",
    "bins = []  # 记录每组最后一个账户\n",
    "\n",
    "num_bins = 0\n",
    "\n",
    "i = 0\n",
    "start_index = 0\n",
    "while i < total:\n",
    "\n",
    "    end_index = start_index + bin_size - 1\n",
    "    if end_index >= total - 1:\n",
    "    # 最后一组，直接分组\n",
    "        end_index = total - 1\n",
    "    else:\n",
    "    # 非最后一组，查看当前组内最后一个账户，是否与下个账户tot_coll_amt特征值相同。如果相同，则将下个账户分入当前组\n",
    "        while end_index + 1 <= total - 1 and df_temp.ix[end_index]['tot_coll_amt'] == df_temp.ix[end_index + 1]['tot_coll_amt']:\n",
    "            end_index = end_index + 1\n",
    "\n",
    "    bins.append(end_index)\n",
    "    num_bins = num_bins + 1\n",
    "\n",
    "    start_index = end_index + 1\n",
    "    i = end_index + 1\n",
    "\n",
    "print '每组最后一个账户的ID分别是: '\n",
    "print bins"
   ]
  },
  {
   "cell_type": "markdown",
   "metadata": {},
   "source": [
    "## 计算PSI值"
   ]
  },
  {
   "cell_type": "code",
   "execution_count": 71,
   "metadata": {},
   "outputs": [
    {
     "name": "stdout",
     "output_type": "stream",
     "text": [
      "PSI:  4.07916064765\n"
     ]
    }
   ],
   "source": [
    "start_index = 0\n",
    "\n",
    "PSI = 0\n",
    "\n",
    "i = 0\n",
    "while i < num_bins:\n",
    "    s1 = df_temp[start_index:(bins[i] + 1)]\n",
    "    s2 = s1[s1['issue_d'] == 0]\n",
    "    s3 = s1[s1['issue_d'] == 6]\n",
    "\n",
    "    before_in_bin = s2.index.size \n",
    "    after_in_bin = s3.index.size\n",
    "\n",
    "    befor_ratio_in_bin = before_in_bin / before_total + 0.01\n",
    "    after_ratio_in_bin = after_in_bin / after_total + 0.01\n",
    "\n",
    "    psi = (befor_ratio_in_bin - after_ratio_in_bin) * math.log(befor_ratio_in_bin / after_ratio_in_bin)\n",
    "    PSI= PSI + psi\n",
    "\n",
    "    start_index = bins[i] + 1\n",
    "    i= i + 1\n",
    "\n",
    "\n",
    "print 'PSI: ', PSI"
   ]
  },
  {
   "cell_type": "markdown",
   "metadata": {},
   "source": [
    "# 2. 计算所有特征的PSI值，依次让2月同1月对比，3月同1月对比...12月同1月对比"
   ]
  },
  {
   "cell_type": "code",
   "execution_count": 67,
   "metadata": {},
   "outputs": [
    {
     "data": {
      "text/plain": [
       "[2, 3, 4]"
      ]
     },
     "execution_count": 67,
     "metadata": {},
     "output_type": "execute_result"
    }
   ],
   "source": [
    "sorted([3,2,4])"
   ]
  },
  {
   "cell_type": "code",
   "execution_count": 73,
   "metadata": {
    "collapsed": true
   },
   "outputs": [],
   "source": [
    "def get_PSI(time,feature):\n",
    "    \"\"\"time and feature are both lists.\n",
    "       return the PSI value.\n",
    "    \"\"\"\n",
    "    df_temp = pd.DataFrame(zip(time,feature),columns=['issue_d','feature_score'])\n",
    "    df_temp = df_temp.dropna(how='any')\n",
    "    df_temp = df_temp.sort_values(by='feature_score')\n",
    "    df_temp = df_temp.reset_index(level=0, drop=True)\n",
    "    issue_d_values = sorted(list(set(time)))\n",
    "    before_time = issue_d_values[0]\n",
    "    after_time = issue_d_values[1]\n",
    "\n",
    "    before_total = df_temp[df_temp['issue_d']==before_time].shape[0]\n",
    "    after_total = df_temp[df_temp['issue_d']==after_time].shape[0]\n",
    "    total = before_total + after_total\n",
    "    bin_size = int(math.ceil(total * 0.1))\n",
    "\n",
    "    bins = []  # 记录每组最后一个账户\n",
    "    num_bins = 0\n",
    "\n",
    "    i = 0\n",
    "    start_index = 0\n",
    "    while i < total:\n",
    "\n",
    "        end_index = start_index + bin_size - 1\n",
    "        if end_index >= total - 1:\n",
    "        # 最后一组，直接分组\n",
    "            end_index = total - 1\n",
    "        else:\n",
    "        # 非最后一组，查看当前组内最后一个账户，是否与下个账户feature_score特征值相同。如果相同，则将下个账户分入当前组\n",
    "            while end_index + 1 <= total - 1 and df_temp.ix[end_index]['feature_score'] == df_temp.ix[end_index + 1]['feature_score']:\n",
    "                end_index = end_index + 1\n",
    "\n",
    "        bins.append(end_index)\n",
    "        num_bins = num_bins + 1\n",
    "\n",
    "        start_index = end_index + 1\n",
    "        i = end_index + 1\n",
    "        \n",
    "    start_index = 0\n",
    "    PSI = 0\n",
    "    i = 0\n",
    "    while i < num_bins:\n",
    "        s1 = df_temp[start_index:(bins[i] + 1)]\n",
    "        s2 = s1[s1['issue_d'] == before_time]\n",
    "        s3 = s1[s1['issue_d'] == after_time]\n",
    "\n",
    "        before_in_bin = s2.index.size \n",
    "        after_in_bin = s3.index.size\n",
    "\n",
    "        befor_ratio_in_bin = before_in_bin / before_total + 0.01\n",
    "        after_ratio_in_bin = after_in_bin / after_total + 0.01\n",
    "\n",
    "        psi = (befor_ratio_in_bin - after_ratio_in_bin) * math.log(befor_ratio_in_bin / after_ratio_in_bin)\n",
    "        PSI= PSI + psi\n",
    "\n",
    "        start_index = bins[i] + 1\n",
    "        i= i + 1\n",
    "\n",
    "    print num_bins\n",
    "    return PSI\n",
    "\n"
   ]
  },
  {
   "cell_type": "code",
   "execution_count": 74,
   "metadata": {
    "collapsed": true
   },
   "outputs": [],
   "source": [
    "def get_PSI_features(time, feature_df):\n",
    "    \"\"\"time is a list and feature_df is a data frame.\n",
    "       return the PSI values of every feature in the feature_df.\n",
    "    \"\"\"    \n",
    "    PSI = []\n",
    "\n",
    "    for feature in feature_df.columns:\n",
    "        cur_PSI = get_PSI(time,feature_df[feature])\n",
    "        PSI.append(cur_PSI)\n",
    "    return PSI"
   ]
  },
  {
   "cell_type": "code",
   "execution_count": 75,
   "metadata": {
    "collapsed": true
   },
   "outputs": [],
   "source": [
    "def get_nan_cnt(feature_df):\n",
    "    \"\"\"feature_df is a data frame.\n",
    "       return the missing value counts of every feature.\n",
    "    \"\"\"\n",
    "    nan_cnt = []\n",
    "    nan_cnt =  (feature_df!=feature_df).sum(axis=0)\n",
    "    return nan_cnt\n"
   ]
  },
  {
   "cell_type": "markdown",
   "metadata": {},
   "source": [
    "#### 草稿开始"
   ]
  },
  {
   "cell_type": "code",
   "execution_count": 88,
   "metadata": {},
   "outputs": [
    {
     "name": "stderr",
     "output_type": "stream",
     "text": [
      "/Users/Aurora/anaconda/lib/python2.7/site-packages/ipykernel_launcher.py:31: DeprecationWarning: \n",
      ".ix is deprecated. Please use\n",
      ".loc for label based indexing or\n",
      ".iloc for positional indexing\n",
      "\n",
      "See the documentation here:\n",
      "http://pandas.pydata.org/pandas-docs/stable/indexing.html#deprecate_ix\n"
     ]
    },
    {
     "name": "stdout",
     "output_type": "stream",
     "text": [
      "3\n"
     ]
    },
    {
     "data": {
      "text/plain": [
       "0.0015922768020650829"
      ]
     },
     "execution_count": 88,
     "metadata": {},
     "output_type": "execute_result"
    }
   ],
   "source": [
    "get_PSI(df_temp.issue_d,df_temp.tot_coll_amt)"
   ]
  },
  {
   "cell_type": "code",
   "execution_count": 79,
   "metadata": {
    "collapsed": true
   },
   "outputs": [],
   "source": [
    "df_temp1 = df_temp.copy()"
   ]
  },
  {
   "cell_type": "code",
   "execution_count": 78,
   "metadata": {
    "collapsed": true
   },
   "outputs": [],
   "source": [
    "time = df.issue_d\n",
    "feature = df.tot_coll_amt"
   ]
  },
  {
   "cell_type": "code",
   "execution_count": 80,
   "metadata": {
    "collapsed": true
   },
   "outputs": [],
   "source": [
    "df_temp = pd.DataFrame(zip(time,feature),columns=['issue_d','feature_score'])\n",
    "df_temp = df_temp.dropna(how='any')\n",
    "df_temp = df_temp.sort_values(by='feature_score')\n",
    "df_temp = df_temp.reset_index(level=0, drop=True)"
   ]
  },
  {
   "cell_type": "code",
   "execution_count": null,
   "metadata": {
    "collapsed": true
   },
   "outputs": [],
   "source": [
    "df_temp = pd.DataFrame(zip(time,feature),columns=['issue_d','feature_score'])\n",
    "df_temp = df_temp.dropna(how='any')\n",
    "df_temp = df_temp.sort_values(by='feature_score')\n",
    "df_temp = df_temp.reset_index(level=0, drop=True)\n",
    "issue_d_values = sorted(list(set(time)))\n",
    "before_time = issue_d_values[0]\n",
    "after_time = issue_d_values[1]\n",
    "\n",
    "before_total = df_temp[df_temp['issue_d']==before_time].shape[0]\n",
    "after_total = df_temp[df_temp['issue_d']==after_time].shape[0]\n",
    "total = before_total + after_total\n",
    "bin_size = int(math.ceil(total * 0.1))\n",
    "\n",
    "bins = []  # 记录每组最后一个账户\n",
    "num_bins = 0\n",
    "\n",
    "i = 0\n",
    "start_index = 0\n",
    "while i < total:\n",
    "\n",
    "    end_index = start_index + bin_size - 1\n",
    "    if end_index >= total - 1:\n",
    "    # 最后一组，直接分组\n",
    "        end_index = total - 1\n",
    "    else:\n",
    "    # 非最后一组，查看当前组内最后一个账户，是否与下个账户feature_score特征值相同。如果相同，则将下个账户分入当前组\n",
    "        while end_index + 1 <= total - 1 and df_temp.ix[end_index]['feature_score'] == df_temp.ix[end_index + 1]['feature_score']:\n",
    "            end_index = end_index + 1\n",
    "\n",
    "    bins.append(end_index)\n",
    "    num_bins = num_bins + 1\n",
    "\n",
    "    start_index = end_index + 1\n",
    "    i = end_index + 1\n",
    "\n",
    "start_index = 0\n",
    "PSI = 0\n",
    "i = 0\n",
    "while i < num_bins:\n",
    "    s1 = df_temp[start_index:(bins[i] + 1)]\n",
    "    s2 = s1[s1['issue_d'] == before_time]\n",
    "    s3 = s1[s1['issue_d'] == after_time]\n",
    "\n",
    "    before_in_bin = s2.index.size \n",
    "    after_in_bin = s3.index.size\n",
    "\n",
    "    befor_ratio_in_bin = before_in_bin / before_total + 0.01\n",
    "    after_ratio_in_bin = after_in_bin / after_total + 0.01\n",
    "\n",
    "    psi = (befor_ratio_in_bin - after_ratio_in_bin) * math.log(befor_ratio_in_bin / after_ratio_in_bin)\n",
    "    PSI= PSI + psi\n",
    "\n",
    "    start_index = bins[i] + 1\n",
    "    i= i + 1\n",
    "\n",
    "print num_bins\n",
    "return PSI"
   ]
  },
  {
   "cell_type": "markdown",
   "metadata": {},
   "source": [
    "##### 草稿结束"
   ]
  },
  {
   "cell_type": "markdown",
   "metadata": {},
   "source": [
    "## 数据预处理"
   ]
  },
  {
   "cell_type": "markdown",
   "metadata": {},
   "source": [
    "### 删除缺失值较多的特征"
   ]
  },
  {
   "cell_type": "code",
   "execution_count": 36,
   "metadata": {},
   "outputs": [
    {
     "name": "stdout",
     "output_type": "stream",
     "text": [
      "删除如下缺失较多的特征：\n"
     ]
    },
    {
     "data": {
      "text/html": [
       "<div>\n",
       "<style>\n",
       "    .dataframe thead tr:only-child th {\n",
       "        text-align: right;\n",
       "    }\n",
       "\n",
       "    .dataframe thead th {\n",
       "        text-align: left;\n",
       "    }\n",
       "\n",
       "    .dataframe tbody tr th {\n",
       "        vertical-align: top;\n",
       "    }\n",
       "</style>\n",
       "<table border=\"1\" class=\"dataframe\">\n",
       "  <thead>\n",
       "    <tr style=\"text-align: right;\">\n",
       "      <th></th>\n",
       "      <th>nan count</th>\n",
       "    </tr>\n",
       "  </thead>\n",
       "  <tbody>\n",
       "    <tr>\n",
       "      <th>mths_since_recent_bc_dlq</th>\n",
       "      <td>312495</td>\n",
       "    </tr>\n",
       "    <tr>\n",
       "      <th>mths_since_recent_revol_delinq</th>\n",
       "      <td>269358</td>\n",
       "    </tr>\n",
       "    <tr>\n",
       "      <th>mths_since_recent_inq</th>\n",
       "      <td>44599</td>\n",
       "    </tr>\n",
       "    <tr>\n",
       "      <th>num_tl_120dpd_2m</th>\n",
       "      <td>19230</td>\n",
       "    </tr>\n",
       "    <tr>\n",
       "      <th>mo_sin_old_il_acct</th>\n",
       "      <td>12254</td>\n",
       "    </tr>\n",
       "    <tr>\n",
       "      <th>percent_bc_gt_75</th>\n",
       "      <td>4239</td>\n",
       "    </tr>\n",
       "    <tr>\n",
       "      <th>bc_util</th>\n",
       "      <td>4227</td>\n",
       "    </tr>\n",
       "    <tr>\n",
       "      <th>bc_open_to_buy</th>\n",
       "      <td>3963</td>\n",
       "    </tr>\n",
       "    <tr>\n",
       "      <th>mths_since_recent_bc</th>\n",
       "      <td>3798</td>\n",
       "    </tr>\n",
       "  </tbody>\n",
       "</table>\n",
       "</div>"
      ],
      "text/plain": [
       "                                nan count\n",
       "mths_since_recent_bc_dlq           312495\n",
       "mths_since_recent_revol_delinq     269358\n",
       "mths_since_recent_inq               44599\n",
       "num_tl_120dpd_2m                    19230\n",
       "mo_sin_old_il_acct                  12254\n",
       "percent_bc_gt_75                     4239\n",
       "bc_util                              4227\n",
       "bc_open_to_buy                       3963\n",
       "mths_since_recent_bc                 3798"
      ]
     },
     "execution_count": 36,
     "metadata": {},
     "output_type": "execute_result"
    }
   ],
   "source": [
    "features = [i for i in df.columns if i!='issue_d']\n",
    "nan_cnt = get_nan_cnt(df[features]).sort_values(ascending=False)\n",
    "remain_features = [i for i in df.columns if i not in nan_cnt.index[:9]]\n",
    "df = df[remain_features]\n",
    "\n",
    "print '删除如下缺失较多的特征：'\n",
    "pd.DataFrame(nan_cnt[:9],columns=['nan count'])"
   ]
  },
  {
   "cell_type": "markdown",
   "metadata": {},
   "source": [
    "### 删除变量取值很少的特征"
   ]
  },
  {
   "cell_type": "code",
   "execution_count": 40,
   "metadata": {},
   "outputs": [
    {
     "name": "stdout",
     "output_type": "stream",
     "text": [
      "删除如下取值小于100的特征：\n"
     ]
    },
    {
     "data": {
      "text/html": [
       "<div>\n",
       "<style>\n",
       "    .dataframe thead tr:only-child th {\n",
       "        text-align: right;\n",
       "    }\n",
       "\n",
       "    .dataframe thead th {\n",
       "        text-align: left;\n",
       "    }\n",
       "\n",
       "    .dataframe tbody tr th {\n",
       "        vertical-align: top;\n",
       "    }\n",
       "</style>\n",
       "<table border=\"1\" class=\"dataframe\">\n",
       "  <thead>\n",
       "    <tr style=\"text-align: right;\">\n",
       "      <th></th>\n",
       "      <th>feature</th>\n",
       "      <th>value count</th>\n",
       "    </tr>\n",
       "  </thead>\n",
       "  <tbody>\n",
       "    <tr>\n",
       "      <th>22</th>\n",
       "      <td>num_tl_30dpd</td>\n",
       "      <td>5</td>\n",
       "    </tr>\n",
       "    <tr>\n",
       "      <th>6</th>\n",
       "      <td>chargeoff_within_12_mths</td>\n",
       "      <td>10</td>\n",
       "    </tr>\n",
       "    <tr>\n",
       "      <th>26</th>\n",
       "      <td>pub_rec_bankruptcies</td>\n",
       "      <td>11</td>\n",
       "    </tr>\n",
       "    <tr>\n",
       "      <th>0</th>\n",
       "      <td>issue_d</td>\n",
       "      <td>12</td>\n",
       "    </tr>\n",
       "    <tr>\n",
       "      <th>27</th>\n",
       "      <td>tax_liens</td>\n",
       "      <td>25</td>\n",
       "    </tr>\n",
       "    <tr>\n",
       "      <th>23</th>\n",
       "      <td>num_tl_90g_dpd_24m</td>\n",
       "      <td>25</td>\n",
       "    </tr>\n",
       "    <tr>\n",
       "      <th>24</th>\n",
       "      <td>num_tl_op_past_12m</td>\n",
       "      <td>28</td>\n",
       "    </tr>\n",
       "    <tr>\n",
       "      <th>13</th>\n",
       "      <td>num_actv_bc_tl</td>\n",
       "      <td>31</td>\n",
       "    </tr>\n",
       "    <tr>\n",
       "      <th>12</th>\n",
       "      <td>num_accts_ever_120_pd</td>\n",
       "      <td>35</td>\n",
       "    </tr>\n",
       "    <tr>\n",
       "      <th>11</th>\n",
       "      <td>mort_acc</td>\n",
       "      <td>36</td>\n",
       "    </tr>\n",
       "    <tr>\n",
       "      <th>20</th>\n",
       "      <td>num_rev_tl_bal_gt_0</td>\n",
       "      <td>43</td>\n",
       "    </tr>\n",
       "    <tr>\n",
       "      <th>14</th>\n",
       "      <td>num_actv_rev_tl</td>\n",
       "      <td>46</td>\n",
       "    </tr>\n",
       "    <tr>\n",
       "      <th>4</th>\n",
       "      <td>acc_open_past_24mths</td>\n",
       "      <td>47</td>\n",
       "    </tr>\n",
       "    <tr>\n",
       "      <th>15</th>\n",
       "      <td>num_bc_sats</td>\n",
       "      <td>48</td>\n",
       "    </tr>\n",
       "    <tr>\n",
       "      <th>18</th>\n",
       "      <td>num_op_rev_tl</td>\n",
       "      <td>60</td>\n",
       "    </tr>\n",
       "    <tr>\n",
       "      <th>16</th>\n",
       "      <td>num_bc_tl</td>\n",
       "      <td>61</td>\n",
       "    </tr>\n",
       "    <tr>\n",
       "      <th>21</th>\n",
       "      <td>num_sats</td>\n",
       "      <td>72</td>\n",
       "    </tr>\n",
       "    <tr>\n",
       "      <th>19</th>\n",
       "      <td>num_rev_accts</td>\n",
       "      <td>92</td>\n",
       "    </tr>\n",
       "  </tbody>\n",
       "</table>\n",
       "</div>"
      ],
      "text/plain": [
       "                     feature  value count\n",
       "22              num_tl_30dpd            5\n",
       "6   chargeoff_within_12_mths           10\n",
       "26      pub_rec_bankruptcies           11\n",
       "0                    issue_d           12\n",
       "27                 tax_liens           25\n",
       "23        num_tl_90g_dpd_24m           25\n",
       "24        num_tl_op_past_12m           28\n",
       "13            num_actv_bc_tl           31\n",
       "12     num_accts_ever_120_pd           35\n",
       "11                  mort_acc           36\n",
       "20       num_rev_tl_bal_gt_0           43\n",
       "14           num_actv_rev_tl           46\n",
       "4       acc_open_past_24mths           47\n",
       "15               num_bc_sats           48\n",
       "18             num_op_rev_tl           60\n",
       "16                 num_bc_tl           61\n",
       "21                  num_sats           72\n",
       "19             num_rev_accts           92"
      ]
     },
     "execution_count": 40,
     "metadata": {},
     "output_type": "execute_result"
    }
   ],
   "source": [
    "value_cnt = []\n",
    "features = []\n",
    "for col in df.columns:\n",
    "    if col != 'category':\n",
    "        value_cnt.append(len(set(df[col])))\n",
    "        features.append(col)\n",
    "\n",
    "value_cnt_df = pd.DataFrame(zip(features,value_cnt),columns=['feature','value count'])\\\n",
    "               .sort_values('value count')\n",
    "\n",
    "remain_features = [i for i in df.columns if i not in value_cnt_df.feature[:18]]\n",
    "df = df[remain_features]\n",
    "print '删除如下取值小于100的特征：'\n",
    "value_cnt_df.head(18)"
   ]
  },
  {
   "cell_type": "markdown",
   "metadata": {},
   "source": [
    "##  选取部分特征计算PSI"
   ]
  },
  {
   "cell_type": "code",
   "execution_count": 42,
   "metadata": {},
   "outputs": [
    {
     "name": "stdout",
     "output_type": "stream",
     "text": [
      "选取的特征及其含义：\n"
     ]
    },
    {
     "data": {
      "text/html": [
       "<div>\n",
       "<style>\n",
       "    .dataframe thead tr:only-child th {\n",
       "        text-align: right;\n",
       "    }\n",
       "\n",
       "    .dataframe thead th {\n",
       "        text-align: left;\n",
       "    }\n",
       "\n",
       "    .dataframe tbody tr th {\n",
       "        vertical-align: top;\n",
       "    }\n",
       "</style>\n",
       "<table border=\"1\" class=\"dataframe\">\n",
       "  <thead>\n",
       "    <tr style=\"text-align: right;\">\n",
       "      <th></th>\n",
       "      <th>feature</th>\n",
       "      <th>Description</th>\n",
       "    </tr>\n",
       "  </thead>\n",
       "  <tbody>\n",
       "    <tr>\n",
       "      <th>0</th>\n",
       "      <td>tot_coll_amt</td>\n",
       "      <td>Total collection amounts ever owed</td>\n",
       "    </tr>\n",
       "    <tr>\n",
       "      <th>1</th>\n",
       "      <td>tot_cur_bal</td>\n",
       "      <td>Total current balance of all accounts</td>\n",
       "    </tr>\n",
       "    <tr>\n",
       "      <th>2</th>\n",
       "      <td>total_rev_hi_lim</td>\n",
       "      <td>Total revolving high credit/credit limit</td>\n",
       "    </tr>\n",
       "    <tr>\n",
       "      <th>3</th>\n",
       "      <td>acc_open_past_24mths</td>\n",
       "      <td>Number of trades opened in past 24 months.</td>\n",
       "    </tr>\n",
       "  </tbody>\n",
       "</table>\n",
       "</div>"
      ],
      "text/plain": [
       "                feature                                 Description\n",
       "0          tot_coll_amt          Total collection amounts ever owed\n",
       "1           tot_cur_bal       Total current balance of all accounts\n",
       "2      total_rev_hi_lim    Total revolving high credit/credit limit\n",
       "3  acc_open_past_24mths  Number of trades opened in past 24 months."
      ]
     },
     "execution_count": 42,
     "metadata": {},
     "output_type": "execute_result"
    }
   ],
   "source": [
    "PSI_list = []\n",
    "before_time = 1\n",
    "feature_cols = [ i for i in df.columns if i!= 'issue_d'][:4]\n",
    "print '选取的特征及其含义：'\n",
    "\n",
    "description_list = []\n",
    "for feature in feature_cols:\n",
    "    description_list.append(dict_df.loc[feature,'Description'])\n",
    "pd.DataFrame(zip(feature_cols,description_list),columns=['feature','Description'])"
   ]
  },
  {
   "cell_type": "markdown",
   "metadata": {},
   "source": [
    "## 计算不同月份同1月比较的PSI值"
   ]
  },
  {
   "cell_type": "code",
   "execution_count": 43,
   "metadata": {},
   "outputs": [
    {
     "name": "stderr",
     "output_type": "stream",
     "text": [
      "/Users/Aurora/anaconda/lib/python2.7/site-packages/ipykernel_launcher.py:31: DeprecationWarning: \n",
      ".ix is deprecated. Please use\n",
      ".loc for label based indexing or\n",
      ".iloc for positional indexing\n",
      "\n",
      "See the documentation here:\n",
      "http://pandas.pydata.org/pandas-docs/stable/indexing.html#deprecate_ix\n"
     ]
    },
    {
     "name": "stdout",
     "output_type": "stream",
     "text": [
      "完成上述特征在1月和2月的比较\n",
      "完成上述特征在1月和3月的比较\n",
      "完成上述特征在1月和4月的比较\n",
      "完成上述特征在1月和5月的比较\n",
      "完成上述特征在1月和6月的比较\n",
      "完成上述特征在1月和7月的比较\n",
      "完成上述特征在1月和8月的比较\n",
      "完成上述特征在1月和9月的比较\n",
      "完成上述特征在1月和10月的比较\n",
      "完成上述特征在1月和11月的比较\n",
      "完成上述特征在1月和12月的比较\n"
     ]
    }
   ],
   "source": [
    "for after_time in range(2,month_max+1):\n",
    "    cur_df = df[df['issue_d'].isin([before_time, after_time])]\n",
    "    PSI_list.append(get_PSI_features(cur_df['issue_d'],cur_df[feature_cols]))\n",
    "    print '完成上述特征在1月和'+str(after_time)+'月的比较'"
   ]
  },
  {
   "cell_type": "code",
   "execution_count": 44,
   "metadata": {},
   "outputs": [
    {
     "data": {
      "text/html": [
       "<div>\n",
       "<style>\n",
       "    .dataframe thead tr:only-child th {\n",
       "        text-align: right;\n",
       "    }\n",
       "\n",
       "    .dataframe thead th {\n",
       "        text-align: left;\n",
       "    }\n",
       "\n",
       "    .dataframe tbody tr th {\n",
       "        vertical-align: top;\n",
       "    }\n",
       "</style>\n",
       "<table border=\"1\" class=\"dataframe\">\n",
       "  <thead>\n",
       "    <tr style=\"text-align: right;\">\n",
       "      <th></th>\n",
       "      <th>tot_coll_amt</th>\n",
       "      <th>tot_cur_bal</th>\n",
       "      <th>total_rev_hi_lim</th>\n",
       "      <th>acc_open_past_24mths</th>\n",
       "    </tr>\n",
       "  </thead>\n",
       "  <tbody>\n",
       "    <tr>\n",
       "      <th>2</th>\n",
       "      <td>0.000002</td>\n",
       "      <td>0.001637</td>\n",
       "      <td>0.001228</td>\n",
       "      <td>0.000394</td>\n",
       "    </tr>\n",
       "    <tr>\n",
       "      <th>3</th>\n",
       "      <td>0.000055</td>\n",
       "      <td>0.000851</td>\n",
       "      <td>0.000841</td>\n",
       "      <td>0.001453</td>\n",
       "    </tr>\n",
       "    <tr>\n",
       "      <th>4</th>\n",
       "      <td>0.000535</td>\n",
       "      <td>0.000655</td>\n",
       "      <td>0.000775</td>\n",
       "      <td>0.003623</td>\n",
       "    </tr>\n",
       "    <tr>\n",
       "      <th>5</th>\n",
       "      <td>0.000588</td>\n",
       "      <td>0.001281</td>\n",
       "      <td>0.000702</td>\n",
       "      <td>0.005104</td>\n",
       "    </tr>\n",
       "    <tr>\n",
       "      <th>6</th>\n",
       "      <td>0.001592</td>\n",
       "      <td>0.001200</td>\n",
       "      <td>0.000833</td>\n",
       "      <td>0.004786</td>\n",
       "    </tr>\n",
       "    <tr>\n",
       "      <th>7</th>\n",
       "      <td>0.000295</td>\n",
       "      <td>0.000961</td>\n",
       "      <td>0.002964</td>\n",
       "      <td>0.006806</td>\n",
       "    </tr>\n",
       "    <tr>\n",
       "      <th>8</th>\n",
       "      <td>0.000606</td>\n",
       "      <td>0.000490</td>\n",
       "      <td>0.002462</td>\n",
       "      <td>0.003358</td>\n",
       "    </tr>\n",
       "    <tr>\n",
       "      <th>9</th>\n",
       "      <td>0.000118</td>\n",
       "      <td>0.002110</td>\n",
       "      <td>0.007273</td>\n",
       "      <td>0.004785</td>\n",
       "    </tr>\n",
       "    <tr>\n",
       "      <th>10</th>\n",
       "      <td>0.000798</td>\n",
       "      <td>0.002108</td>\n",
       "      <td>0.005047</td>\n",
       "      <td>0.001729</td>\n",
       "    </tr>\n",
       "    <tr>\n",
       "      <th>11</th>\n",
       "      <td>0.000807</td>\n",
       "      <td>0.001239</td>\n",
       "      <td>0.004596</td>\n",
       "      <td>0.003197</td>\n",
       "    </tr>\n",
       "    <tr>\n",
       "      <th>12</th>\n",
       "      <td>0.002112</td>\n",
       "      <td>0.001101</td>\n",
       "      <td>0.004956</td>\n",
       "      <td>0.009409</td>\n",
       "    </tr>\n",
       "  </tbody>\n",
       "</table>\n",
       "</div>"
      ],
      "text/plain": [
       "    tot_coll_amt  tot_cur_bal  total_rev_hi_lim  acc_open_past_24mths\n",
       "2       0.000002     0.001637          0.001228              0.000394\n",
       "3       0.000055     0.000851          0.000841              0.001453\n",
       "4       0.000535     0.000655          0.000775              0.003623\n",
       "5       0.000588     0.001281          0.000702              0.005104\n",
       "6       0.001592     0.001200          0.000833              0.004786\n",
       "7       0.000295     0.000961          0.002964              0.006806\n",
       "8       0.000606     0.000490          0.002462              0.003358\n",
       "9       0.000118     0.002110          0.007273              0.004785\n",
       "10      0.000798     0.002108          0.005047              0.001729\n",
       "11      0.000807     0.001239          0.004596              0.003197\n",
       "12      0.002112     0.001101          0.004956              0.009409"
      ]
     },
     "execution_count": 44,
     "metadata": {},
     "output_type": "execute_result"
    }
   ],
   "source": [
    "PSI_df = pd.DataFrame(PSI_list, columns = feature_cols,index = range(2,month_max+1))\n",
    "PSI_df"
   ]
  },
  {
   "cell_type": "code",
   "execution_count": 51,
   "metadata": {},
   "outputs": [
    {
     "data": {
      "image/png": "[encoded data removed]",
      "text/plain": [
       "<matplotlib.figure.Figure at 0x1111b6a50>"
      ]
     },
     "metadata": {},
     "output_type": "display_data"
    }
   ],
   "source": [
    "pylab.figure(figsize=[8,5])\n",
    "for feature in feature_cols:\n",
    "    pylab.plot(range(2,month_max+1), PSI_df[feature], '-o',label=feature)\n",
    "pylab.legend(loc='upper left')\n",
    "pylab.ylabel(\"PSI\")\n",
    "pylab.xlabel(\"Month\")\n",
    "pylab.title('Stability of Different Features: Compared with Jan')\n",
    "pylab.savefig('../output/Stability_of_Different_Features.png')"
   ]
  },
  {
   "cell_type": "markdown",
   "metadata": {},
   "source": [
    "## 计算各月同上月比较的PSI值"
   ]
  },
  {
   "cell_type": "code",
   "execution_count": 47,
   "metadata": {},
   "outputs": [
    {
     "name": "stderr",
     "output_type": "stream",
     "text": [
      "/Users/Aurora/anaconda/lib/python2.7/site-packages/ipykernel_launcher.py:31: DeprecationWarning: \n",
      ".ix is deprecated. Please use\n",
      ".loc for label based indexing or\n",
      ".iloc for positional indexing\n",
      "\n",
      "See the documentation here:\n",
      "http://pandas.pydata.org/pandas-docs/stable/indexing.html#deprecate_ix\n"
     ]
    },
    {
     "name": "stdout",
     "output_type": "stream",
     "text": [
      "完成上述特征在1月和2月的比较\n",
      "完成上述特征在2月和3月的比较\n",
      "完成上述特征在3月和4月的比较\n",
      "完成上述特征在4月和5月的比较\n",
      "完成上述特征在5月和6月的比较\n",
      "完成上述特征在6月和7月的比较\n",
      "完成上述特征在7月和8月的比较\n",
      "完成上述特征在8月和9月的比较\n",
      "完成上述特征在9月和10月的比较\n",
      "完成上述特征在10月和11月的比较\n",
      "完成上述特征在11月和12月的比较\n"
     ]
    }
   ],
   "source": [
    "PSI_list2 = []\n",
    "for after_time in range(2,month_max+1):\n",
    "    before_time = after_time - 1\n",
    "    cur_df = df[df['issue_d'].isin([before_time, after_time])]\n",
    "    PSI_list2.append(get_PSI_features(cur_df['issue_d'],cur_df[feature_cols]))\n",
    "    print '完成上述特征在'+str(before_time)+'月和'+str(after_time)+'月的比较'"
   ]
  },
  {
   "cell_type": "code",
   "execution_count": 48,
   "metadata": {},
   "outputs": [
    {
     "data": {
      "text/html": [
       "<div>\n",
       "<style>\n",
       "    .dataframe thead tr:only-child th {\n",
       "        text-align: right;\n",
       "    }\n",
       "\n",
       "    .dataframe thead th {\n",
       "        text-align: left;\n",
       "    }\n",
       "\n",
       "    .dataframe tbody tr th {\n",
       "        vertical-align: top;\n",
       "    }\n",
       "</style>\n",
       "<table border=\"1\" class=\"dataframe\">\n",
       "  <thead>\n",
       "    <tr style=\"text-align: right;\">\n",
       "      <th></th>\n",
       "      <th>tot_coll_amt</th>\n",
       "      <th>tot_cur_bal</th>\n",
       "      <th>total_rev_hi_lim</th>\n",
       "      <th>acc_open_past_24mths</th>\n",
       "    </tr>\n",
       "  </thead>\n",
       "  <tbody>\n",
       "    <tr>\n",
       "      <th>2</th>\n",
       "      <td>0.000002</td>\n",
       "      <td>0.001637</td>\n",
       "      <td>0.001228</td>\n",
       "      <td>0.000394</td>\n",
       "    </tr>\n",
       "    <tr>\n",
       "      <th>3</th>\n",
       "      <td>0.000035</td>\n",
       "      <td>0.001474</td>\n",
       "      <td>0.002423</td>\n",
       "      <td>0.001215</td>\n",
       "    </tr>\n",
       "    <tr>\n",
       "      <th>4</th>\n",
       "      <td>0.000304</td>\n",
       "      <td>0.001016</td>\n",
       "      <td>0.000280</td>\n",
       "      <td>0.001112</td>\n",
       "    </tr>\n",
       "    <tr>\n",
       "      <th>5</th>\n",
       "      <td>0.000211</td>\n",
       "      <td>0.001267</td>\n",
       "      <td>0.000671</td>\n",
       "      <td>0.000407</td>\n",
       "    </tr>\n",
       "    <tr>\n",
       "      <th>6</th>\n",
       "      <td>0.000245</td>\n",
       "      <td>0.000752</td>\n",
       "      <td>0.000709</td>\n",
       "      <td>0.000310</td>\n",
       "    </tr>\n",
       "    <tr>\n",
       "      <th>7</th>\n",
       "      <td>0.000627</td>\n",
       "      <td>0.001858</td>\n",
       "      <td>0.002277</td>\n",
       "      <td>0.000638</td>\n",
       "    </tr>\n",
       "    <tr>\n",
       "      <th>8</th>\n",
       "      <td>0.000063</td>\n",
       "      <td>0.000977</td>\n",
       "      <td>0.000502</td>\n",
       "      <td>0.005197</td>\n",
       "    </tr>\n",
       "    <tr>\n",
       "      <th>9</th>\n",
       "      <td>0.000193</td>\n",
       "      <td>0.002163</td>\n",
       "      <td>0.001621</td>\n",
       "      <td>0.002270</td>\n",
       "    </tr>\n",
       "    <tr>\n",
       "      <th>10</th>\n",
       "      <td>0.000316</td>\n",
       "      <td>0.001401</td>\n",
       "      <td>0.000653</td>\n",
       "      <td>0.001588</td>\n",
       "    </tr>\n",
       "    <tr>\n",
       "      <th>11</th>\n",
       "      <td>0.000022</td>\n",
       "      <td>0.000644</td>\n",
       "      <td>0.001630</td>\n",
       "      <td>0.000771</td>\n",
       "    </tr>\n",
       "    <tr>\n",
       "      <th>12</th>\n",
       "      <td>0.000314</td>\n",
       "      <td>0.000581</td>\n",
       "      <td>0.000614</td>\n",
       "      <td>0.003075</td>\n",
       "    </tr>\n",
       "  </tbody>\n",
       "</table>\n",
       "</div>"
      ],
      "text/plain": [
       "    tot_coll_amt  tot_cur_bal  total_rev_hi_lim  acc_open_past_24mths\n",
       "2       0.000002     0.001637          0.001228              0.000394\n",
       "3       0.000035     0.001474          0.002423              0.001215\n",
       "4       0.000304     0.001016          0.000280              0.001112\n",
       "5       0.000211     0.001267          0.000671              0.000407\n",
       "6       0.000245     0.000752          0.000709              0.000310\n",
       "7       0.000627     0.001858          0.002277              0.000638\n",
       "8       0.000063     0.000977          0.000502              0.005197\n",
       "9       0.000193     0.002163          0.001621              0.002270\n",
       "10      0.000316     0.001401          0.000653              0.001588\n",
       "11      0.000022     0.000644          0.001630              0.000771\n",
       "12      0.000314     0.000581          0.000614              0.003075"
      ]
     },
     "execution_count": 48,
     "metadata": {},
     "output_type": "execute_result"
    }
   ],
   "source": [
    "PSI_df2 = pd.DataFrame(PSI_list2, columns = feature_cols,index = range(2,month_max+1))\n",
    "PSI_df2"
   ]
  },
  {
   "cell_type": "code",
   "execution_count": 50,
   "metadata": {},
   "outputs": [
    {
     "data": {
      "image/png": "[encoded data removed]",
      "text/plain": [
       "<matplotlib.figure.Figure at 0x1111d1d90>"
      ]
     },
     "metadata": {},
     "output_type": "display_data"
    }
   ],
   "source": [
    "pylab.figure(figsize=[8,5])\n",
    "for feature in feature_cols:\n",
    "    pylab.plot(range(2,month_max+1), PSI_df2[feature], '-o',label=feature)\n",
    "pylab.legend(loc='upper left')\n",
    "pylab.ylabel(\"PSI\")\n",
    "pylab.xlabel(\"Month\")\n",
    "pylab.title('Stability of Different Features: Compared with Last Month')\n",
    "pylab.savefig('../output/Stability_of_Different_Features.png')"
   ]
  },
  {
   "cell_type": "code",
   "execution_count": null,
   "metadata": {
    "collapsed": true
   },
   "outputs": [],
   "source": []
  }
 ],
 "metadata": {
  "anaconda-cloud": {},
  "kernelspec": {
   "display_name": "Python 2",
   "language": "python",
   "name": "python2"
  },
  "language_info": {
   "codemirror_mode": {
    "name": "ipython",
    "version": 2
   },
   "file_extension": ".py",
   "mimetype": "text/x-python",
   "name": "python",
   "nbconvert_exporter": "python",
   "pygments_lexer": "ipython2",
   "version": "2.7.13"
  }
 },
 "nbformat": 4,
 "nbformat_minor": 2
}
