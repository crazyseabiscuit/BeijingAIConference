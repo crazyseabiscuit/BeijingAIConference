{
 "cells": [
  {
   "cell_type": "markdown",
   "metadata": {},
   "source": [
    "# 数据预处理"
   ]
  },
  {
   "cell_type": "code",
   "execution_count": 1,
   "metadata": {
    "collapsed": true
   },
   "outputs": [],
   "source": [
    "import numpy as np\n",
    "\n",
    "import pandas as pd\n",
    "import matplotlib.pyplot as plt\n",
    "from matplotlib import pylab\n",
    "\n",
    "%matplotlib inline"
   ]
  },
  {
   "cell_type": "markdown",
   "metadata": {},
   "source": [
    "## 读取数据\n",
    "- data_all是Lending Club 2015年的借贷数据"
   ]
  },
  {
   "cell_type": "code",
   "execution_count": 3,
   "metadata": {
    "collapsed": false
   },
   "outputs": [
    {
     "name": "stdout",
     "output_type": "stream",
     "text": [
      "数据规模: (421095, 85)\n"
     ]
    }
   ],
   "source": [
    "raw_df = pd.read_csv('../data/data_all.csv')\n",
    "print '数据规模:',raw_df.shape"
   ]
  },
  {
   "cell_type": "code",
   "execution_count": 4,
   "metadata": {
    "collapsed": false
   },
   "outputs": [
    {
     "data": {
      "text/html": [
       "<div>\n",
       "<style>\n",
       "    .dataframe thead tr:only-child th {\n",
       "        text-align: right;\n",
       "    }\n",
       "\n",
       "    .dataframe thead th {\n",
       "        text-align: left;\n",
       "    }\n",
       "\n",
       "    .dataframe tbody tr th {\n",
       "        vertical-align: top;\n",
       "    }\n",
       "</style>\n",
       "<table border=\"1\" class=\"dataframe\">\n",
       "  <thead>\n",
       "    <tr style=\"text-align: right;\">\n",
       "      <th></th>\n",
       "      <th>id</th>\n",
       "      <th>member_id</th>\n",
       "      <th>loan_amnt</th>\n",
       "      <th>term</th>\n",
       "      <th>emp_title</th>\n",
       "      <th>emp_length</th>\n",
       "      <th>home_ownership</th>\n",
       "      <th>annual_inc</th>\n",
       "      <th>verification_status</th>\n",
       "      <th>issue_d</th>\n",
       "      <th>...</th>\n",
       "      <th>num_tl_90g_dpd_24m</th>\n",
       "      <th>num_tl_op_past_12m</th>\n",
       "      <th>pct_tl_nvr_dlq</th>\n",
       "      <th>percent_bc_gt_75</th>\n",
       "      <th>pub_rec_bankruptcies</th>\n",
       "      <th>tax_liens</th>\n",
       "      <th>tot_hi_cred_lim</th>\n",
       "      <th>total_bal_ex_mort</th>\n",
       "      <th>total_bc_limit</th>\n",
       "      <th>total_il_high_credit_limit</th>\n",
       "    </tr>\n",
       "  </thead>\n",
       "  <tbody>\n",
       "    <tr>\n",
       "      <th>0</th>\n",
       "      <td>68444620</td>\n",
       "      <td>73334399</td>\n",
       "      <td>35000</td>\n",
       "      <td>60 months</td>\n",
       "      <td>Foreign Service Officer</td>\n",
       "      <td>10+ years</td>\n",
       "      <td>MORTGAGE</td>\n",
       "      <td>128000.0</td>\n",
       "      <td>Source Verified</td>\n",
       "      <td>Dec-2015</td>\n",
       "      <td>...</td>\n",
       "      <td>0</td>\n",
       "      <td>1</td>\n",
       "      <td>91.3</td>\n",
       "      <td>33.3</td>\n",
       "      <td>0</td>\n",
       "      <td>0</td>\n",
       "      <td>220950</td>\n",
       "      <td>49644</td>\n",
       "      <td>26800</td>\n",
       "      <td>71700</td>\n",
       "    </tr>\n",
       "    <tr>\n",
       "      <th>1</th>\n",
       "      <td>68426545</td>\n",
       "      <td>73316365</td>\n",
       "      <td>16000</td>\n",
       "      <td>60 months</td>\n",
       "      <td>Senior Structural Designer</td>\n",
       "      <td>1 year</td>\n",
       "      <td>MORTGAGE</td>\n",
       "      <td>70000.0</td>\n",
       "      <td>Not Verified</td>\n",
       "      <td>Dec-2015</td>\n",
       "      <td>...</td>\n",
       "      <td>0</td>\n",
       "      <td>1</td>\n",
       "      <td>100.0</td>\n",
       "      <td>60.0</td>\n",
       "      <td>0</td>\n",
       "      <td>0</td>\n",
       "      <td>309638</td>\n",
       "      <td>62407</td>\n",
       "      <td>45900</td>\n",
       "      <td>45838</td>\n",
       "    </tr>\n",
       "    <tr>\n",
       "      <th>2</th>\n",
       "      <td>68466926</td>\n",
       "      <td>73356763</td>\n",
       "      <td>10000</td>\n",
       "      <td>36 months</td>\n",
       "      <td>SERVICE MANAGER</td>\n",
       "      <td>6 years</td>\n",
       "      <td>RENT</td>\n",
       "      <td>85000.0</td>\n",
       "      <td>Not Verified</td>\n",
       "      <td>Dec-2015</td>\n",
       "      <td>...</td>\n",
       "      <td>0</td>\n",
       "      <td>2</td>\n",
       "      <td>95.7</td>\n",
       "      <td>28.6</td>\n",
       "      <td>1</td>\n",
       "      <td>0</td>\n",
       "      <td>61099</td>\n",
       "      <td>27957</td>\n",
       "      <td>16400</td>\n",
       "      <td>30799</td>\n",
       "    </tr>\n",
       "    <tr>\n",
       "      <th>3</th>\n",
       "      <td>68356614</td>\n",
       "      <td>73246437</td>\n",
       "      <td>7200</td>\n",
       "      <td>36 months</td>\n",
       "      <td>Legal Administrative Assistant</td>\n",
       "      <td>10+ years</td>\n",
       "      <td>MORTGAGE</td>\n",
       "      <td>72500.0</td>\n",
       "      <td>Verified</td>\n",
       "      <td>Dec-2015</td>\n",
       "      <td>...</td>\n",
       "      <td>0</td>\n",
       "      <td>3</td>\n",
       "      <td>100.0</td>\n",
       "      <td>0.0</td>\n",
       "      <td>0</td>\n",
       "      <td>0</td>\n",
       "      <td>189950</td>\n",
       "      <td>20256</td>\n",
       "      <td>15500</td>\n",
       "      <td>22450</td>\n",
       "    </tr>\n",
       "    <tr>\n",
       "      <th>4</th>\n",
       "      <td>68387134</td>\n",
       "      <td>73276991</td>\n",
       "      <td>2500</td>\n",
       "      <td>36 months</td>\n",
       "      <td>Teacher</td>\n",
       "      <td>10+ years</td>\n",
       "      <td>MORTGAGE</td>\n",
       "      <td>50000.0</td>\n",
       "      <td>Verified</td>\n",
       "      <td>Dec-2015</td>\n",
       "      <td>...</td>\n",
       "      <td>1</td>\n",
       "      <td>3</td>\n",
       "      <td>68.4</td>\n",
       "      <td>0.0</td>\n",
       "      <td>0</td>\n",
       "      <td>0</td>\n",
       "      <td>196429</td>\n",
       "      <td>197169</td>\n",
       "      <td>700</td>\n",
       "      <td>193929</td>\n",
       "    </tr>\n",
       "  </tbody>\n",
       "</table>\n",
       "<p>5 rows × 85 columns</p>\n",
       "</div>"
      ],
      "text/plain": [
       "         id  member_id  loan_amnt        term                       emp_title  \\\n",
       "0  68444620   73334399      35000   60 months         Foreign Service Officer   \n",
       "1  68426545   73316365      16000   60 months      Senior Structural Designer   \n",
       "2  68466926   73356763      10000   36 months                 SERVICE MANAGER   \n",
       "3  68356614   73246437       7200   36 months  Legal Administrative Assistant   \n",
       "4  68387134   73276991       2500   36 months                         Teacher   \n",
       "\n",
       "  emp_length home_ownership  annual_inc verification_status   issue_d  \\\n",
       "0  10+ years       MORTGAGE    128000.0     Source Verified  Dec-2015   \n",
       "1     1 year       MORTGAGE     70000.0        Not Verified  Dec-2015   \n",
       "2    6 years           RENT     85000.0        Not Verified  Dec-2015   \n",
       "3  10+ years       MORTGAGE     72500.0            Verified  Dec-2015   \n",
       "4  10+ years       MORTGAGE     50000.0            Verified  Dec-2015   \n",
       "\n",
       "             ...              num_tl_90g_dpd_24m num_tl_op_past_12m  \\\n",
       "0            ...                               0                  1   \n",
       "1            ...                               0                  1   \n",
       "2            ...                               0                  2   \n",
       "3            ...                               0                  3   \n",
       "4            ...                               1                  3   \n",
       "\n",
       "  pct_tl_nvr_dlq percent_bc_gt_75 pub_rec_bankruptcies tax_liens  \\\n",
       "0           91.3             33.3                    0         0   \n",
       "1          100.0             60.0                    0         0   \n",
       "2           95.7             28.6                    1         0   \n",
       "3          100.0              0.0                    0         0   \n",
       "4           68.4              0.0                    0         0   \n",
       "\n",
       "  tot_hi_cred_lim  total_bal_ex_mort  total_bc_limit  \\\n",
       "0          220950              49644           26800   \n",
       "1          309638              62407           45900   \n",
       "2           61099              27957           16400   \n",
       "3          189950              20256           15500   \n",
       "4          196429             197169             700   \n",
       "\n",
       "  total_il_high_credit_limit  \n",
       "0                      71700  \n",
       "1                      45838  \n",
       "2                      30799  \n",
       "3                      22450  \n",
       "4                     193929  \n",
       "\n",
       "[5 rows x 85 columns]"
      ]
     },
     "execution_count": 4,
     "metadata": {},
     "output_type": "execute_result"
    }
   ],
   "source": [
    "raw_df.head()"
   ]
  },
  {
   "cell_type": "markdown",
   "metadata": {},
   "source": [
    "## 删除如下的特征\n",
    "- 非数值型特征\n",
    "- 对识别欺诈无意义的特征：id, member_id"
   ]
  },
  {
   "cell_type": "code",
   "execution_count": 5,
   "metadata": {
    "collapsed": true
   },
   "outputs": [],
   "source": [
    "reamin_features =[feat for feat in raw_df.select_dtypes(include=['float64', 'int64']).keys() \\\n",
    "                  if feat not in ['id', 'loan_status', 'member_id','issue_d']]\n",
    "feature_df = raw_df[reamin_features]\n",
    "df = raw_df.copy()\n",
    "df = df[reamin_features+['loan_status','issue_d']]"
   ]
  },
  {
   "cell_type": "markdown",
   "metadata": {},
   "source": [
    "## 将月份转化为数值"
   ]
  },
  {
   "cell_type": "code",
   "execution_count": 6,
   "metadata": {
    "collapsed": true
   },
   "outputs": [],
   "source": [
    "def map_month(x):\n",
    "    \"\"\" Map the month strings to integers.\n",
    "    \"\"\"\n",
    "    if x!=x:\n",
    "        return 0\n",
    "    if \"Jan\" in x:\n",
    "        return 1\n",
    "    if \"Apr\" in x:\n",
    "        return 4\n",
    "    if 'Aug' in x:\n",
    "        return 8\n",
    "    if 'Dec' in x:\n",
    "        return 12\n",
    "    if 'Feb' in x:\n",
    "        return 2\n",
    "    if 'Jul' in x:\n",
    "        return 7\n",
    "    if 'Jun' in x:\n",
    "        return 6\n",
    "    if 'Mar' in x:\n",
    "        return 3\n",
    "    if 'May' in x:\n",
    "         return 5\n",
    "    if 'Nov' in x:\n",
    "        return 11\n",
    "    if 'Oct' in x:\n",
    "        return 10\n",
    "    if 'Sep' in x:\n",
    "        return 9"
   ]
  },
  {
   "cell_type": "code",
   "execution_count": 7,
   "metadata": {
    "collapsed": false
   },
   "outputs": [
    {
     "name": "stdout",
     "output_type": "stream",
     "text": [
      "一共12个月的数据\n"
     ]
    }
   ],
   "source": [
    "df.issue_d = map(map_month,df.issue_d)\n",
    "month_max = max(df.issue_d)\n",
    "print '一共'+str(month_max)+'个月的数据'"
   ]
  },
  {
   "cell_type": "markdown",
   "metadata": {},
   "source": [
    "## 统计各特征的缺失比例\n",
    "- 这里不包括计算KS、IV、PSI的标签数据: loan_status, issue_d"
   ]
  },
  {
   "cell_type": "code",
   "execution_count": 8,
   "metadata": {
    "collapsed": true
   },
   "outputs": [],
   "source": [
    "def get_nan_cnt(feature_df):\n",
    "    \"\"\"feature_df is a data frame.\n",
    "       return the missing value counts of every feature.\n",
    "    \"\"\"\n",
    "    nan_cnt = []\n",
    "    nan_cnt =  (feature_df!=feature_df).sum(axis=0)\n",
    "    return nan_cnt"
   ]
  },
  {
   "cell_type": "code",
   "execution_count": 9,
   "metadata": {
    "collapsed": false
   },
   "outputs": [
    {
     "name": "stdout",
     "output_type": "stream",
     "text": [
      "缺失比例最高的一些特征：\n"
     ]
    },
    {
     "data": {
      "text/html": [
       "<div>\n",
       "<style>\n",
       "    .dataframe thead tr:only-child th {\n",
       "        text-align: right;\n",
       "    }\n",
       "\n",
       "    .dataframe thead th {\n",
       "        text-align: left;\n",
       "    }\n",
       "\n",
       "    .dataframe tbody tr th {\n",
       "        vertical-align: top;\n",
       "    }\n",
       "</style>\n",
       "<table border=\"1\" class=\"dataframe\">\n",
       "  <thead>\n",
       "    <tr style=\"text-align: right;\">\n",
       "      <th></th>\n",
       "      <th>nan_ratio</th>\n",
       "    </tr>\n",
       "    <tr>\n",
       "      <th>feature</th>\n",
       "      <th></th>\n",
       "    </tr>\n",
       "  </thead>\n",
       "  <tbody>\n",
       "    <tr>\n",
       "      <th>il_util</th>\n",
       "      <td>0.955789</td>\n",
       "    </tr>\n",
       "    <tr>\n",
       "      <th>mths_since_rcnt_il</th>\n",
       "      <td>0.950581</td>\n",
       "    </tr>\n",
       "    <tr>\n",
       "      <th>open_acc_6m</th>\n",
       "      <td>0.949247</td>\n",
       "    </tr>\n",
       "    <tr>\n",
       "      <th>inq_last_12m</th>\n",
       "      <td>0.949247</td>\n",
       "    </tr>\n",
       "    <tr>\n",
       "      <th>total_cu_tl</th>\n",
       "      <td>0.949247</td>\n",
       "    </tr>\n",
       "    <tr>\n",
       "      <th>inq_fi</th>\n",
       "      <td>0.949247</td>\n",
       "    </tr>\n",
       "    <tr>\n",
       "      <th>all_util</th>\n",
       "      <td>0.949247</td>\n",
       "    </tr>\n",
       "    <tr>\n",
       "      <th>max_bal_bc</th>\n",
       "      <td>0.949247</td>\n",
       "    </tr>\n",
       "    <tr>\n",
       "      <th>open_rv_24m</th>\n",
       "      <td>0.949247</td>\n",
       "    </tr>\n",
       "    <tr>\n",
       "      <th>open_rv_12m</th>\n",
       "      <td>0.949247</td>\n",
       "    </tr>\n",
       "    <tr>\n",
       "      <th>total_bal_il</th>\n",
       "      <td>0.949247</td>\n",
       "    </tr>\n",
       "    <tr>\n",
       "      <th>open_il_24m</th>\n",
       "      <td>0.949247</td>\n",
       "    </tr>\n",
       "    <tr>\n",
       "      <th>open_il_12m</th>\n",
       "      <td>0.949247</td>\n",
       "    </tr>\n",
       "    <tr>\n",
       "      <th>open_il_6m</th>\n",
       "      <td>0.949247</td>\n",
       "    </tr>\n",
       "    <tr>\n",
       "      <th>mths_since_last_record</th>\n",
       "      <td>0.823282</td>\n",
       "    </tr>\n",
       "    <tr>\n",
       "      <th>mths_since_recent_bc_dlq</th>\n",
       "      <td>0.742101</td>\n",
       "    </tr>\n",
       "    <tr>\n",
       "      <th>mths_since_recent_revol_delinq</th>\n",
       "      <td>0.639661</td>\n",
       "    </tr>\n",
       "    <tr>\n",
       "      <th>mths_since_last_delinq</th>\n",
       "      <td>0.484361</td>\n",
       "    </tr>\n",
       "    <tr>\n",
       "      <th>mths_since_recent_inq</th>\n",
       "      <td>0.105912</td>\n",
       "    </tr>\n",
       "    <tr>\n",
       "      <th>num_tl_120dpd_2m</th>\n",
       "      <td>0.045667</td>\n",
       "    </tr>\n",
       "  </tbody>\n",
       "</table>\n",
       "</div>"
      ],
      "text/plain": [
       "                                nan_ratio\n",
       "feature                                  \n",
       "il_util                          0.955789\n",
       "mths_since_rcnt_il               0.950581\n",
       "open_acc_6m                      0.949247\n",
       "inq_last_12m                     0.949247\n",
       "total_cu_tl                      0.949247\n",
       "inq_fi                           0.949247\n",
       "all_util                         0.949247\n",
       "max_bal_bc                       0.949247\n",
       "open_rv_24m                      0.949247\n",
       "open_rv_12m                      0.949247\n",
       "total_bal_il                     0.949247\n",
       "open_il_24m                      0.949247\n",
       "open_il_12m                      0.949247\n",
       "open_il_6m                       0.949247\n",
       "mths_since_last_record           0.823282\n",
       "mths_since_recent_bc_dlq         0.742101\n",
       "mths_since_recent_revol_delinq   0.639661\n",
       "mths_since_last_delinq           0.484361\n",
       "mths_since_recent_inq            0.105912\n",
       "num_tl_120dpd_2m                 0.045667"
      ]
     },
     "execution_count": 9,
     "metadata": {},
     "output_type": "execute_result"
    }
   ],
   "source": [
    "nan_cnt = get_nan_cnt(feature_df)\n",
    "total = raw_df.shape[0]\n",
    "nan_cnt = nan_cnt *1.0 / total\n",
    "nan_df = pd.DataFrame(nan_cnt,columns=['nan_ratio'])\n",
    "nan_df.index.name = 'feature'\n",
    "print '缺失比例最高的一些特征：'\n",
    "nan_df.sort_values(by='nan_ratio',ascending=False).head(20)"
   ]
  },
  {
   "cell_type": "markdown",
   "metadata": {},
   "source": [
    "## 输出缺失比例和处理后的数据"
   ]
  },
  {
   "cell_type": "code",
   "execution_count": 10,
   "metadata": {
    "collapsed": true
   },
   "outputs": [],
   "source": [
    "df.to_csv('../data/data_clean.csv',index=False)\n",
    "nan_df.to_csv('../output/Completeness.csv')"
   ]
  },
  {
   "cell_type": "code",
   "execution_count": null,
   "metadata": {
    "collapsed": true
   },
   "outputs": [],
   "source": []
  }
 ],
 "metadata": {
  "anaconda-cloud": {},
  "kernelspec": {
   "display_name": "Python [default]",
   "language": "python",
   "name": "python2"
  },
  "language_info": {
   "codemirror_mode": {
    "name": "ipython",
    "version": 2
   },
   "file_extension": ".py",
   "mimetype": "text/x-python",
   "name": "python",
   "nbconvert_exporter": "python",
   "pygments_lexer": "ipython2",
   "version": "2.7.12"
  }
 },
 "nbformat": 4,
 "nbformat_minor": 2
}
