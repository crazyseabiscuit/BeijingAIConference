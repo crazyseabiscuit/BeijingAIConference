{
 "cells": [
  {
   "cell_type": "markdown",
   "metadata": {},
   "source": [
    "# 计算不同特征的KS和IV值，比较特征的有效性"
   ]
  },
  {
   "cell_type": "code",
   "execution_count": 1,
   "metadata": {
    "collapsed": true
   },
   "outputs": [],
   "source": [
    "from __future__ import division\n",
    "import math\n",
    "import numpy as np\n",
    "\n",
    "import pandas as pd\n",
    "import matplotlib.pyplot as plt\n",
    "from matplotlib import pylab\n",
    "\n",
    "%matplotlib inline\n",
    "pd.set_option('display.max_colwidth', -1)"
   ]
  },
  {
   "cell_type": "markdown",
   "metadata": {},
   "source": [
    "# 1. 计算单个变量的KS和IV值\n",
    "## 1.1 读数据\n",
    "\n",
    "KS_IV_example.csv是课上计算KS和IV案例的数据，每一行都表示一个账户\n",
    "\n",
    "数据包括2个字段：category， score\n",
    "\n",
    "category = 0/1 表示账户的好/坏\n",
    "\n",
    "score 表示账户的信用评分\n"
   ]
  },
  {
   "cell_type": "code",
   "execution_count": 2,
   "metadata": {},
   "outputs": [
    {
     "data": {
      "text/html": [
       "<div>\n",
       "<style>\n",
       "    .dataframe thead tr:only-child th {\n",
       "        text-align: right;\n",
       "    }\n",
       "\n",
       "    .dataframe thead th {\n",
       "        text-align: left;\n",
       "    }\n",
       "\n",
       "    .dataframe tbody tr th {\n",
       "        vertical-align: top;\n",
       "    }\n",
       "</style>\n",
       "<table border=\"1\" class=\"dataframe\">\n",
       "  <thead>\n",
       "    <tr style=\"text-align: right;\">\n",
       "      <th></th>\n",
       "      <th>category</th>\n",
       "      <th>score</th>\n",
       "    </tr>\n",
       "  </thead>\n",
       "  <tbody>\n",
       "    <tr>\n",
       "      <th>0</th>\n",
       "      <td>1</td>\n",
       "      <td>99</td>\n",
       "    </tr>\n",
       "    <tr>\n",
       "      <th>1</th>\n",
       "      <td>1</td>\n",
       "      <td>99</td>\n",
       "    </tr>\n",
       "    <tr>\n",
       "      <th>2</th>\n",
       "      <td>1</td>\n",
       "      <td>99</td>\n",
       "    </tr>\n",
       "  </tbody>\n",
       "</table>\n",
       "</div>"
      ],
      "text/plain": [
       "   category  score\n",
       "0  1         99   \n",
       "1  1         99   \n",
       "2  1         99   "
      ]
     },
     "execution_count": 2,
     "metadata": {},
     "output_type": "execute_result"
    }
   ],
   "source": [
    "df = pd.read_csv('../data/KS_IV_example.csv')\n",
    "df.head(3)"
   ]
  },
  {
   "cell_type": "code",
   "execution_count": 3,
   "metadata": {},
   "outputs": [
    {
     "name": "stdout",
     "output_type": "stream",
     "text": [
      "好账户共有： 2121\n",
      "坏账户共有： 879\n"
     ]
    }
   ],
   "source": [
    "value_counts = df['category'].value_counts()\n",
    "good_total = value_counts[0]\n",
    "bad_total = value_counts[1]\n",
    "total = good_total + bad_total\n",
    "print '好账户共有：', good_total\n",
    "print '坏账户共有：', bad_total"
   ]
  },
  {
   "cell_type": "markdown",
   "metadata": {},
   "source": [
    "## 1.2 按照信用评分score对账户进行分组\n",
    "\n",
    "- 要求\n",
    "    - 每组都至少有10%的用户（最后一组例外）\n",
    "    - 同一score的账户必须分入同一组"
   ]
  },
  {
   "cell_type": "code",
   "execution_count": 4,
   "metadata": {
    "collapsed": true
   },
   "outputs": [],
   "source": [
    "# 按照score值重新排序df\n",
    "df_temp = df.sort_values(by='score')\n",
    "df_sorted = df_temp.reset_index(level=0, drop=True)"
   ]
  },
  {
   "cell_type": "code",
   "execution_count": 5,
   "metadata": {},
   "outputs": [
    {
     "name": "stdout",
     "output_type": "stream",
     "text": [
      "每组最后一个账户的ID分别是: \n",
      "[303, 757, 1394, 1768, 2113, 2422, 2732, 2999]\n"
     ]
    },
    {
     "name": "stderr",
     "output_type": "stream",
     "text": [
      "/Users/Aurora/anaconda/lib/python2.7/site-packages/ipykernel_launcher.py:18: DeprecationWarning: \n",
      ".ix is deprecated. Please use\n",
      ".loc for label based indexing or\n",
      ".iloc for positional indexing\n",
      "\n",
      "See the documentation here:\n",
      "http://pandas.pydata.org/pandas-docs/stable/indexing.html#deprecate_ix\n"
     ]
    }
   ],
   "source": [
    "bin_size = int(math.ceil(total * 0.1))\n",
    "\n",
    "bins = []  # 记录每组最后一个账户\n",
    "bin_size_list = [] # 记录每组账户个数\n",
    "\n",
    "num_bins = 0\n",
    "\n",
    "i = 0\n",
    "start_index = 0\n",
    "while i < total:\n",
    "\n",
    "    end_index = start_index + bin_size - 1\n",
    "    if end_index >= total - 1:\n",
    "    # 最后一组，直接分组\n",
    "        end_index = total - 1\n",
    "    else:\n",
    "    # 非最后一组，查看当前组内最后一个账户，是否与下个账户score相同。如果相同，则将下个账户分入当前组\n",
    "        while end_index + 1 <= total - 1 and df_sorted.ix[end_index]['score'] == df_sorted.ix[end_index + 1]['score']:\n",
    "            end_index = end_index + 1\n",
    "\n",
    "    bins.append(end_index)\n",
    "    bin_size_list.append(end_index-start_index)\n",
    "    num_bins = num_bins + 1\n",
    "\n",
    "    start_index = end_index + 1\n",
    "    i = end_index + 1\n",
    "    \n",
    "print '每组最后一个账户的ID分别是: '\n",
    "print bins"
   ]
  },
  {
   "cell_type": "markdown",
   "metadata": {},
   "source": [
    "## 1.3 计算KS和IV值\n",
    "\n",
    "### KS值的计算：计算累积好坏比的最大值\n",
    "\n",
    "![](../others/KS_example.png)\n",
    "\n",
    "\n",
    "\n",
    "### IV\n",
    "\n",
    "![](../others/IV_equation.png)\n",
    "  \n"
   ]
  },
  {
   "cell_type": "code",
   "execution_count": 6,
   "metadata": {
    "collapsed": true
   },
   "outputs": [],
   "source": [
    "cum_good_ratio = 0\n",
    "cum_bad_ratio = 0\n",
    "cum_good_ratio_list = [0]\n",
    "cum_bad_ratio_list = [0]\n",
    "\n",
    "IV = 0\n",
    "KS = 0\n",
    "start_index = 0\n",
    "\n",
    "i = 0\n",
    "while i < num_bins:\n",
    "    s1 = df_sorted[start_index:(bins[i] + 1)]\n",
    "    s2 = s1[s1['category'] == 0]\n",
    "    s3 = s1[s1['category'] == 1]\n",
    "\n",
    "    good_in_bin = s2.index.size\n",
    "    bad_in_bin = s3.index.size\n",
    "\n",
    "    good_ratio_in_bin = good_in_bin / good_total\n",
    "    bad_ratio_in_bin = bad_in_bin / bad_total\n",
    "    cum_good_ratio = cum_good_ratio + good_ratio_in_bin\n",
    "    cum_bad_ratio = cum_bad_ratio + bad_ratio_in_bin\n",
    "    cum_good_ratio_list.append(cum_good_ratio)\n",
    "    cum_bad_ratio_list.append(cum_bad_ratio)\n",
    "\n",
    "    margin = abs(cum_good_ratio - cum_bad_ratio)\n",
    "    if (margin > KS):\n",
    "        KS = margin\n",
    "\n",
    "    iv = (good_ratio_in_bin - bad_ratio_in_bin) * math.log(good_ratio_in_bin / bad_ratio_in_bin)\n",
    "    IV = IV + iv\n",
    "\n",
    "    start_index = bins[i] + 1\n",
    "    i= i + 1"
   ]
  },
  {
   "cell_type": "code",
   "execution_count": 7,
   "metadata": {},
   "outputs": [
    {
     "name": "stdout",
     "output_type": "stream",
     "text": [
      "KS:  27.6 %\n",
      "IV:  0.515219683831\n"
     ]
    }
   ],
   "source": [
    "print 'KS: ',round(KS * 100, 1),'%'\n",
    "print 'IV: ',IV"
   ]
  },
  {
   "cell_type": "code",
   "execution_count": 8,
   "metadata": {},
   "outputs": [
    {
     "data": {
      "image/png": "[encoded data removed]",
      "text/plain": [
       "<matplotlib.figure.Figure at 0x1135aa410>"
      ]
     },
     "metadata": {},
     "output_type": "display_data"
    }
   ],
   "source": [
    "bin_ratio = [0]+[i*1.0/total for i in bin_size_list]\n",
    "pylab.figure()\n",
    "pylab.plot(range(len(cum_good_ratio_list)), cum_good_ratio_list, '-o',label='good')\n",
    "pylab.plot(range(len(cum_bad_ratio_list)), cum_bad_ratio_list, '-o',label='bad')\n",
    "pylab.legend(loc='upper left')\n",
    "pylab.bar(range(len(bin_ratio)),bin_ratio)\n",
    "\n",
    "pylab.ylabel(\"cum ratio\")\n",
    "pylab.xlabel(\"bin\")\n",
    "pylab.title('KS = '+str(round(KS * 100, 1))[:4]+\"%\")\n",
    "pylab.savefig('../output/KS_example.png')"
   ]
  },
  {
   "cell_type": "markdown",
   "metadata": {},
   "source": [
    "# 2. 计算数据集中所有变量的KS和IV值"
   ]
  },
  {
   "cell_type": "markdown",
   "metadata": {},
   "source": [
    "## 需要的函数"
   ]
  },
  {
   "cell_type": "code",
   "execution_count": 9,
   "metadata": {
    "collapsed": true
   },
   "outputs": [],
   "source": [
    "def get_KS_IV(category, score):\n",
    "    \"\"\"category and score are both lists.\n",
    "       return the KS and IV value.\n",
    "    \"\"\" \n",
    "    cur_df = pd.DataFrame(zip(category,score),columns=['category','feature_score'])\n",
    "    cur_df = cur_df.sort_values(by='feature_score')\n",
    "    cur_df = cur_df.reset_index(level=0, drop=True)\n",
    "    \n",
    "    value_counts = cur_df['category'].value_counts()\n",
    "    good_total = value_counts[0]\n",
    "    bad_total = value_counts[1]\n",
    "    total = good_total + bad_total\n",
    "    \n",
    "    bin_size = int(math.ceil(total * 0.1))\n",
    "    bins = []# 记录每组最后一个账户\n",
    "\n",
    "    num_bins = 0\n",
    "    i = 0\n",
    "    start_index = 0\n",
    "    while i < total:\n",
    "\n",
    "        end_index = start_index + bin_size - 1\n",
    "        if end_index >= total - 1:\n",
    "            # 最后一组，直接分组\n",
    "            end_index = total - 1\n",
    "        else:\n",
    "            # 非最后一组，查看当前组内最后一个账户，是否与下个账户score相同。如果相同，则将下个账户分入当前组\n",
    "            while end_index + 1 <= total - 1 and cur_df.ix[end_index]['feature_score'] == cur_df.ix[end_index + 1]['feature_score']:\n",
    "                end_index = end_index + 1\n",
    "\n",
    "        bins.append(end_index)\n",
    "        num_bins = num_bins + 1\n",
    "\n",
    "        start_index = end_index + 1\n",
    "        i = end_index + 1\n",
    "    \n",
    "    cum_good_ratio = 0\n",
    "    cum_bad_ratio = 0\n",
    "\n",
    "    IV = 0\n",
    "    KS = 0\n",
    "\n",
    "    i = 0\n",
    "    while i < num_bins:\n",
    "        s1 = cur_df[start_index:(bins[i] + 1)]\n",
    "        s2 = s1[s1['category'] == 0]\n",
    "        s3 = s1[s1['category'] == 1]\n",
    "\n",
    "        good_in_bin = s2.index.size\n",
    "        bad_in_bin = s3.index.size\n",
    "\n",
    "        good_ratio_in_bin = good_in_bin / good_total+0.01\n",
    "        bad_ratio_in_bin = bad_in_bin / bad_total+0.01\n",
    "        cum_good_ratio = cum_good_ratio + good_ratio_in_bin\n",
    "        cum_bad_ratio = cum_bad_ratio + bad_ratio_in_bin\n",
    "\n",
    "        margin = abs(cum_good_ratio - cum_bad_ratio)\n",
    "        if (margin > KS):\n",
    "            KS = margin\n",
    "\n",
    "        iv = (good_ratio_in_bin - bad_ratio_in_bin) * math.log(good_ratio_in_bin / bad_ratio_in_bin)\n",
    "        IV = IV + iv\n",
    "\n",
    "        start_index = bins[i] + 1\n",
    "        i= i + 1\n",
    "    return KS,IV\n"
   ]
  },
  {
   "cell_type": "code",
   "execution_count": 10,
   "metadata": {
    "collapsed": true
   },
   "outputs": [],
   "source": [
    "def get_KS_IV_features(category,feature_df):\n",
    "    \"\"\"categoty is the list to indicate whether the account is good. \n",
    "       feature_df is a data frame.\n",
    "       return the KS and IV value lists.\n",
    "    \"\"\"\n",
    "    KS_IV = []\n",
    "\n",
    "    for feature in feature_df.columns:\n",
    "        cur_KS, cur_IV = get_KS_IV(category,feature_df[feature])\n",
    "        KS_IV.append([cur_KS, cur_IV])\n",
    "        print '计算完毕: '+feature\n",
    "    return KS_IV"
   ]
  },
  {
   "cell_type": "markdown",
   "metadata": {},
   "source": [
    "## 2.1 读数据\n",
    "\n",
    "- data_clean.csv是1_preprocess处理后的数据\n",
    "    - 每行都表示一个借款账户\n",
    "    - loan_status = 0/1， 表示账户的好/坏\n",
    "- LCDataDictionary.csv是Leng Club数据中的变量含义\n",
    "- Completeness.csv是各变量缺失比例的数据"
   ]
  },
  {
   "cell_type": "code",
   "execution_count": 11,
   "metadata": {},
   "outputs": [
    {
     "data": {
      "text/html": [
       "<div>\n",
       "<style>\n",
       "    .dataframe thead tr:only-child th {\n",
       "        text-align: right;\n",
       "    }\n",
       "\n",
       "    .dataframe thead th {\n",
       "        text-align: left;\n",
       "    }\n",
       "\n",
       "    .dataframe tbody tr th {\n",
       "        vertical-align: top;\n",
       "    }\n",
       "</style>\n",
       "<table border=\"1\" class=\"dataframe\">\n",
       "  <thead>\n",
       "    <tr style=\"text-align: right;\">\n",
       "      <th></th>\n",
       "      <th>loan_amnt</th>\n",
       "      <th>annual_inc</th>\n",
       "      <th>dti</th>\n",
       "      <th>delinq_2yrs</th>\n",
       "      <th>fico_range_low</th>\n",
       "      <th>fico_range_high</th>\n",
       "      <th>inq_last_6mths</th>\n",
       "      <th>mths_since_last_delinq</th>\n",
       "      <th>mths_since_last_record</th>\n",
       "      <th>open_acc</th>\n",
       "      <th>...</th>\n",
       "      <th>pct_tl_nvr_dlq</th>\n",
       "      <th>percent_bc_gt_75</th>\n",
       "      <th>pub_rec_bankruptcies</th>\n",
       "      <th>tax_liens</th>\n",
       "      <th>tot_hi_cred_lim</th>\n",
       "      <th>total_bal_ex_mort</th>\n",
       "      <th>total_bc_limit</th>\n",
       "      <th>total_il_high_credit_limit</th>\n",
       "      <th>loan_status</th>\n",
       "      <th>issue_d</th>\n",
       "    </tr>\n",
       "  </thead>\n",
       "  <tbody>\n",
       "    <tr>\n",
       "      <th>0</th>\n",
       "      <td>35000</td>\n",
       "      <td>128000.0</td>\n",
       "      <td>6.46</td>\n",
       "      <td>0</td>\n",
       "      <td>685</td>\n",
       "      <td>689</td>\n",
       "      <td>0</td>\n",
       "      <td>46.0</td>\n",
       "      <td>NaN</td>\n",
       "      <td>17</td>\n",
       "      <td>...</td>\n",
       "      <td>91.3</td>\n",
       "      <td>33.3</td>\n",
       "      <td>0</td>\n",
       "      <td>0</td>\n",
       "      <td>220950</td>\n",
       "      <td>49644</td>\n",
       "      <td>26800</td>\n",
       "      <td>71700</td>\n",
       "      <td>0</td>\n",
       "      <td>12</td>\n",
       "    </tr>\n",
       "    <tr>\n",
       "      <th>1</th>\n",
       "      <td>16000</td>\n",
       "      <td>70000.0</td>\n",
       "      <td>26.40</td>\n",
       "      <td>0</td>\n",
       "      <td>720</td>\n",
       "      <td>724</td>\n",
       "      <td>0</td>\n",
       "      <td>NaN</td>\n",
       "      <td>NaN</td>\n",
       "      <td>13</td>\n",
       "      <td>...</td>\n",
       "      <td>100.0</td>\n",
       "      <td>60.0</td>\n",
       "      <td>0</td>\n",
       "      <td>0</td>\n",
       "      <td>309638</td>\n",
       "      <td>62407</td>\n",
       "      <td>45900</td>\n",
       "      <td>45838</td>\n",
       "      <td>0</td>\n",
       "      <td>12</td>\n",
       "    </tr>\n",
       "    <tr>\n",
       "      <th>2</th>\n",
       "      <td>10000</td>\n",
       "      <td>85000.0</td>\n",
       "      <td>13.07</td>\n",
       "      <td>0</td>\n",
       "      <td>685</td>\n",
       "      <td>689</td>\n",
       "      <td>1</td>\n",
       "      <td>NaN</td>\n",
       "      <td>106.0</td>\n",
       "      <td>14</td>\n",
       "      <td>...</td>\n",
       "      <td>95.7</td>\n",
       "      <td>28.6</td>\n",
       "      <td>1</td>\n",
       "      <td>0</td>\n",
       "      <td>61099</td>\n",
       "      <td>27957</td>\n",
       "      <td>16400</td>\n",
       "      <td>30799</td>\n",
       "      <td>0</td>\n",
       "      <td>12</td>\n",
       "    </tr>\n",
       "  </tbody>\n",
       "</table>\n",
       "<p>3 rows × 70 columns</p>\n",
       "</div>"
      ],
      "text/plain": [
       "   loan_amnt  annual_inc    dti  delinq_2yrs  fico_range_low  fico_range_high  \\\n",
       "0  35000      128000.0    6.46   0            685             689               \n",
       "1  16000      70000.0     26.40  0            720             724               \n",
       "2  10000      85000.0     13.07  0            685             689               \n",
       "\n",
       "   inq_last_6mths  mths_since_last_delinq  mths_since_last_record  open_acc  \\\n",
       "0  0               46.0                   NaN                      17         \n",
       "1  0              NaN                     NaN                      13         \n",
       "2  1              NaN                      106.0                   14         \n",
       "\n",
       "    ...     pct_tl_nvr_dlq  percent_bc_gt_75  pub_rec_bankruptcies  tax_liens  \\\n",
       "0   ...     91.3            33.3              0                     0           \n",
       "1   ...     100.0           60.0              0                     0           \n",
       "2   ...     95.7            28.6              1                     0           \n",
       "\n",
       "   tot_hi_cred_lim  total_bal_ex_mort  total_bc_limit  \\\n",
       "0  220950           49644              26800            \n",
       "1  309638           62407              45900            \n",
       "2  61099            27957              16400            \n",
       "\n",
       "   total_il_high_credit_limit  loan_status  issue_d  \n",
       "0  71700                       0            12       \n",
       "1  45838                       0            12       \n",
       "2  30799                       0            12       \n",
       "\n",
       "[3 rows x 70 columns]"
      ]
     },
     "execution_count": 11,
     "metadata": {},
     "output_type": "execute_result"
    }
   ],
   "source": [
    "df = pd.read_csv('../data/data_clean.csv')\n",
    "df.head(3)"
   ]
  },
  {
   "cell_type": "code",
   "execution_count": 12,
   "metadata": {},
   "outputs": [
    {
     "data": {
      "text/html": [
       "<div>\n",
       "<style>\n",
       "    .dataframe thead tr:only-child th {\n",
       "        text-align: right;\n",
       "    }\n",
       "\n",
       "    .dataframe thead th {\n",
       "        text-align: left;\n",
       "    }\n",
       "\n",
       "    .dataframe tbody tr th {\n",
       "        vertical-align: top;\n",
       "    }\n",
       "</style>\n",
       "<table border=\"1\" class=\"dataframe\">\n",
       "  <thead>\n",
       "    <tr style=\"text-align: right;\">\n",
       "      <th></th>\n",
       "      <th>Description</th>\n",
       "    </tr>\n",
       "    <tr>\n",
       "      <th>feature</th>\n",
       "      <th></th>\n",
       "    </tr>\n",
       "  </thead>\n",
       "  <tbody>\n",
       "    <tr>\n",
       "      <th>acc_now_delinq</th>\n",
       "      <td>The number of accounts on which the borrower is now delinquent.</td>\n",
       "    </tr>\n",
       "    <tr>\n",
       "      <th>acc_open_past_24mths</th>\n",
       "      <td>Number of trades opened in past 24 months.</td>\n",
       "    </tr>\n",
       "    <tr>\n",
       "      <th>addr_state</th>\n",
       "      <td>The state provided by the borrower in the loan application</td>\n",
       "    </tr>\n",
       "  </tbody>\n",
       "</table>\n",
       "</div>"
      ],
      "text/plain": [
       "                                                                          Description\n",
       "feature                                                                              \n",
       "acc_now_delinq        The number of accounts on which the borrower is now delinquent.\n",
       "acc_open_past_24mths  Number of trades opened in past 24 months.                     \n",
       "addr_state            The state provided by the borrower in the loan application     "
      ]
     },
     "execution_count": 12,
     "metadata": {},
     "output_type": "execute_result"
    }
   ],
   "source": [
    "dict_df = pd.read_csv('../data/LCDataDictionary_clean.csv')\n",
    "dict_df = dict_df.set_index('feature')\n",
    "dict_df.head(3)"
   ]
  },
  {
   "cell_type": "code",
   "execution_count": 13,
   "metadata": {},
   "outputs": [
    {
     "data": {
      "text/html": [
       "<div>\n",
       "<style>\n",
       "    .dataframe thead tr:only-child th {\n",
       "        text-align: right;\n",
       "    }\n",
       "\n",
       "    .dataframe thead th {\n",
       "        text-align: left;\n",
       "    }\n",
       "\n",
       "    .dataframe tbody tr th {\n",
       "        vertical-align: top;\n",
       "    }\n",
       "</style>\n",
       "<table border=\"1\" class=\"dataframe\">\n",
       "  <thead>\n",
       "    <tr style=\"text-align: right;\">\n",
       "      <th></th>\n",
       "      <th>nan_ratio</th>\n",
       "    </tr>\n",
       "    <tr>\n",
       "      <th>feature</th>\n",
       "      <th></th>\n",
       "    </tr>\n",
       "  </thead>\n",
       "  <tbody>\n",
       "    <tr>\n",
       "      <th>loan_amnt</th>\n",
       "      <td>0.0</td>\n",
       "    </tr>\n",
       "    <tr>\n",
       "      <th>annual_inc</th>\n",
       "      <td>0.0</td>\n",
       "    </tr>\n",
       "    <tr>\n",
       "      <th>dti</th>\n",
       "      <td>0.0</td>\n",
       "    </tr>\n",
       "  </tbody>\n",
       "</table>\n",
       "</div>"
      ],
      "text/plain": [
       "            nan_ratio\n",
       "feature              \n",
       "loan_amnt   0.0      \n",
       "annual_inc  0.0      \n",
       "dti         0.0      "
      ]
     },
     "execution_count": 13,
     "metadata": {},
     "output_type": "execute_result"
    }
   ],
   "source": [
    "comp_df = pd.read_csv('../output/Completeness.csv')\n",
    "comp_df = comp_df.set_index('feature')\n",
    "comp_df.head(3)"
   ]
  },
  {
   "cell_type": "markdown",
   "metadata": {},
   "source": [
    "## 2.2 计算各变量的KS和IV值"
   ]
  },
  {
   "cell_type": "code",
   "execution_count": 41,
   "metadata": {},
   "outputs": [
    {
     "name": "stderr",
     "output_type": "stream",
     "text": [
      "/Users/Aurora/anaconda/lib/python2.7/site-packages/ipykernel_launcher.py:28: DeprecationWarning: \n",
      ".ix is deprecated. Please use\n",
      ".loc for label based indexing or\n",
      ".iloc for positional indexing\n",
      "\n",
      "See the documentation here:\n",
      "http://pandas.pydata.org/pandas-docs/stable/indexing.html#deprecate_ix\n"
     ]
    },
    {
     "name": "stdout",
     "output_type": "stream",
     "text": [
      "计算完毕: loan_amnt\n",
      "计算完毕: annual_inc\n",
      "计算完毕: dti\n",
      "计算完毕: delinq_2yrs\n",
      "计算完毕: fico_range_low\n",
      "计算完毕: fico_range_high\n",
      "计算完毕: inq_last_6mths\n",
      "计算完毕: mths_since_last_delinq\n",
      "计算完毕: mths_since_last_record\n",
      "计算完毕: open_acc\n",
      "计算完毕: pub_rec\n",
      "计算完毕: revol_bal\n",
      "计算完毕: total_acc\n",
      "计算完毕: acc_now_delinq\n",
      "计算完毕: tot_coll_amt\n",
      "计算完毕: tot_cur_bal\n",
      "计算完毕: open_acc_6m\n",
      "计算完毕: open_il_6m\n",
      "计算完毕: open_il_12m\n",
      "计算完毕: open_il_24m\n",
      "计算完毕: mths_since_rcnt_il\n",
      "计算完毕: total_bal_il\n",
      "计算完毕: il_util\n",
      "计算完毕: open_rv_12m\n",
      "计算完毕: open_rv_24m\n",
      "计算完毕: max_bal_bc\n",
      "计算完毕: all_util\n",
      "计算完毕: total_rev_hi_lim\n",
      "计算完毕: inq_fi\n",
      "计算完毕: total_cu_tl\n",
      "计算完毕: inq_last_12m\n",
      "计算完毕: acc_open_past_24mths\n",
      "计算完毕: avg_cur_bal\n",
      "计算完毕: bc_open_to_buy\n",
      "计算完毕: bc_util\n",
      "计算完毕: chargeoff_within_12_mths\n",
      "计算完毕: delinq_amnt\n",
      "计算完毕: mo_sin_old_il_acct\n",
      "计算完毕: mo_sin_old_rev_tl_op\n",
      "计算完毕: mo_sin_rcnt_rev_tl_op\n",
      "计算完毕: mo_sin_rcnt_tl\n",
      "计算完毕: mort_acc\n",
      "计算完毕: mths_since_recent_bc\n",
      "计算完毕: mths_since_recent_bc_dlq\n",
      "计算完毕: mths_since_recent_inq\n",
      "计算完毕: mths_since_recent_revol_delinq\n",
      "计算完毕: num_accts_ever_120_pd\n",
      "计算完毕: num_actv_bc_tl\n",
      "计算完毕: num_actv_rev_tl\n",
      "计算完毕: num_bc_sats\n",
      "计算完毕: num_bc_tl\n",
      "计算完毕: num_il_tl\n",
      "计算完毕: num_op_rev_tl\n",
      "计算完毕: num_rev_accts\n",
      "计算完毕: num_rev_tl_bal_gt_0\n",
      "计算完毕: num_sats\n",
      "计算完毕: num_tl_120dpd_2m\n",
      "计算完毕: num_tl_30dpd\n",
      "计算完毕: num_tl_90g_dpd_24m\n",
      "计算完毕: num_tl_op_past_12m\n",
      "计算完毕: pct_tl_nvr_dlq\n",
      "计算完毕: percent_bc_gt_75\n",
      "计算完毕: pub_rec_bankruptcies\n",
      "计算完毕: tax_liens\n",
      "计算完毕: tot_hi_cred_lim\n",
      "计算完毕: total_bal_ex_mort\n",
      "计算完毕: total_bc_limit\n",
      "计算完毕: total_il_high_credit_limit\n"
     ]
    }
   ],
   "source": [
    "# features = ['tot_coll_amt','tot_cur_bal','chargeoff_within_12_mths','num_bc_sats']\n",
    "features = [i for i in df.columns if i not in ['loan_status','issue_d']]\n",
    "KS_IV = get_KS_IV_features(df.loan_status, df[features])\n",
    "KS_IV_df = pd.DataFrame(KS_IV, columns = ['KS','IV'],index = features)\n",
    "KS_IV_df.index.name='feature'"
   ]
  },
  {
   "cell_type": "markdown",
   "metadata": {},
   "source": [
    "## 2.3 查看部分变量的结果"
   ]
  },
  {
   "cell_type": "code",
   "execution_count": 14,
   "metadata": {
    "collapsed": true
   },
   "outputs": [],
   "source": [
    "# KS_IV_df = pd.read_csv('../output/Effectiveness.csv')\n",
    "# KS_IV_df = KS_IV_df.set_index('feature')"
   ]
  },
  {
   "cell_type": "code",
   "execution_count": 16,
   "metadata": {},
   "outputs": [
    {
     "data": {
      "text/html": [
       "<div>\n",
       "<style>\n",
       "    .dataframe thead tr:only-child th {\n",
       "        text-align: right;\n",
       "    }\n",
       "\n",
       "    .dataframe thead th {\n",
       "        text-align: left;\n",
       "    }\n",
       "\n",
       "    .dataframe tbody tr th {\n",
       "        vertical-align: top;\n",
       "    }\n",
       "</style>\n",
       "<table border=\"1\" class=\"dataframe\">\n",
       "  <thead>\n",
       "    <tr style=\"text-align: right;\">\n",
       "      <th></th>\n",
       "      <th>nan_ratio</th>\n",
       "      <th>KS</th>\n",
       "      <th>IV</th>\n",
       "      <th>feature desctiption</th>\n",
       "    </tr>\n",
       "    <tr>\n",
       "      <th>feature</th>\n",
       "      <th></th>\n",
       "      <th></th>\n",
       "      <th></th>\n",
       "      <th></th>\n",
       "    </tr>\n",
       "  </thead>\n",
       "  <tbody>\n",
       "    <tr>\n",
       "      <th>delinq_2yrs</th>\n",
       "      <td>0.000000</td>\n",
       "      <td>0.006555</td>\n",
       "      <td>0.000425</td>\n",
       "      <td>The number of 30+ days past-due incidences of delinquency in the borrower's credit file for the past 2 years</td>\n",
       "    </tr>\n",
       "    <tr>\n",
       "      <th>fico_range_low</th>\n",
       "      <td>0.000000</td>\n",
       "      <td>0.070732</td>\n",
       "      <td>0.072710</td>\n",
       "      <td>The lower boundary range the borrower's FICO at loan origination belongs to.</td>\n",
       "    </tr>\n",
       "    <tr>\n",
       "      <th>fico_range_high</th>\n",
       "      <td>0.000000</td>\n",
       "      <td>0.070732</td>\n",
       "      <td>0.072710</td>\n",
       "      <td>The upper boundary range the borrower's FICO at loan origination belongs to.</td>\n",
       "    </tr>\n",
       "    <tr>\n",
       "      <th>inq_last_6mths</th>\n",
       "      <td>0.000000</td>\n",
       "      <td>0.114747</td>\n",
       "      <td>0.037908</td>\n",
       "      <td>The number of inquiries in past 6 months (excluding auto and mortgage inquiries)</td>\n",
       "    </tr>\n",
       "    <tr>\n",
       "      <th>mths_since_last_record</th>\n",
       "      <td>0.823282</td>\n",
       "      <td>0.120586</td>\n",
       "      <td>0.091712</td>\n",
       "      <td>The number of months since the last public record.</td>\n",
       "    </tr>\n",
       "  </tbody>\n",
       "</table>\n",
       "</div>"
      ],
      "text/plain": [
       "                        nan_ratio        KS        IV  \\\n",
       "feature                                                 \n",
       "delinq_2yrs             0.000000   0.006555  0.000425   \n",
       "fico_range_low          0.000000   0.070732  0.072710   \n",
       "fico_range_high         0.000000   0.070732  0.072710   \n",
       "inq_last_6mths          0.000000   0.114747  0.037908   \n",
       "mths_since_last_record  0.823282   0.120586  0.091712   \n",
       "\n",
       "                                                                                                                 feature desctiption  \n",
       "feature                                                                                                                               \n",
       "delinq_2yrs             The number of 30+ days past-due incidences of delinquency in the borrower's credit file for the past 2 years  \n",
       "fico_range_low          The lower boundary range the borrower's FICO at loan origination belongs to.                                  \n",
       "fico_range_high         The upper boundary range the borrower's FICO at loan origination belongs to.                                  \n",
       "inq_last_6mths          The number of inquiries in past 6 months (excluding auto and mortgage inquiries)                              \n",
       "mths_since_last_record  The number of months since the last public record.                                                            "
      ]
     },
     "execution_count": 16,
     "metadata": {},
     "output_type": "execute_result"
    }
   ],
   "source": [
    "show_features = ['delinq_2yrs','fico_range_low','fico_range_high','inq_last_6mths','mths_since_last_record']\n",
    "show_KS_IV_df=KS_IV_df.loc[show_features,]\n",
    "description_list = []\n",
    "for feature in show_features:\n",
    "    description_list.append(dict_df.loc[feature,'Description'])\n",
    "show_KS_IV_df['feature desctiption'] = description_list\n",
    "show_KS_IV_df = pd.concat([comp_df.loc[show_features,],show_KS_IV_df],axis=1)\n",
    "show_KS_IV_df"
   ]
  },
  {
   "cell_type": "code",
   "execution_count": 17,
   "metadata": {},
   "outputs": [
    {
     "data": {
      "image/png": "[encoded data removed]",
      "text/plain": [
       "<matplotlib.figure.Figure at 0x11697fad0>"
      ]
     },
     "metadata": {},
     "output_type": "display_data"
    }
   ],
   "source": [
    "show_KS_IV_df['KS'].plot.barh()\n",
    "plt.title('KS of Different Features')\n",
    "plt.tight_layout()\n",
    "plt.savefig('../output/KS.png')"
   ]
  },
  {
   "cell_type": "code",
   "execution_count": 18,
   "metadata": {},
   "outputs": [
    {
     "data": {
      "image/png": "[encoded data removed]",
      "text/plain": [
       "<matplotlib.figure.Figure at 0x116c7fc90>"
      ]
     },
     "metadata": {},
     "output_type": "display_data"
    }
   ],
   "source": [
    "show_KS_IV_df['IV'].plot.barh()\n",
    "plt.title('IV of Different Features')\n",
    "plt.tight_layout()\n",
    "plt.savefig('../output/IV.png')"
   ]
  },
  {
   "cell_type": "code",
   "execution_count": 19,
   "metadata": {},
   "outputs": [
    {
     "data": {
      "image/png": "[encoded data removed]",
      "text/plain": [
       "<matplotlib.figure.Figure at 0x10aecda90>"
      ]
     },
     "metadata": {},
     "output_type": "display_data"
    }
   ],
   "source": [
    "show_KS_IV_df[['KS','IV']].plot.barh(figsize=[6,4])\n",
    "plt.title('Effectiveness of Different Features')\n",
    "plt.tight_layout()\n",
    "plt.savefig('../output/Effectiveness.png')"
   ]
  },
  {
   "cell_type": "markdown",
   "metadata": {
    "collapsed": true
   },
   "source": [
    "## 2.4 输出结果到Effectiveness.csv"
   ]
  },
  {
   "cell_type": "code",
   "execution_count": 20,
   "metadata": {
    "collapsed": true
   },
   "outputs": [],
   "source": [
    "KS_IV_df.to_csv('../output/Effectiveness.csv')"
   ]
  },
  {
   "cell_type": "code",
   "execution_count": null,
   "metadata": {
    "collapsed": true
   },
   "outputs": [],
   "source": []
  }
 ],
 "metadata": {
  "anaconda-cloud": {},
  "kernelspec": {
   "display_name": "Python 2",
   "language": "python",
   "name": "python2"
  },
  "language_info": {
   "codemirror_mode": {
    "name": "ipython",
    "version": 2
   },
   "file_extension": ".py",
   "mimetype": "text/x-python",
   "name": "python",
   "nbconvert_exporter": "python",
   "pygments_lexer": "ipython2",
   "version": "2.7.13"
  }
 },
 "nbformat": 4,
 "nbformat_minor": 2
}
