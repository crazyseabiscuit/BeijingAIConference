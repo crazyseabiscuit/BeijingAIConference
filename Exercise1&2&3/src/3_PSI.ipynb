{
 "cells": [
  {
   "cell_type": "markdown",
   "metadata": {},
   "source": [
    "# 计算不同特征的PSI值，比较它们的稳定性"
   ]
  },
  {
   "cell_type": "code",
   "execution_count": 1,
   "metadata": {
    "collapsed": true
   },
   "outputs": [],
   "source": [
    "from __future__ import division\n",
    "import math\n",
    "import numpy as np\n",
    "\n",
    "import pandas as pd\n",
    "from matplotlib import pylab\n",
    "import matplotlib.pyplot as plt\n",
    "\n",
    "%matplotlib inline\n",
    "pd.set_option('display.max_colwidth', -1)"
   ]
  },
  {
   "cell_type": "markdown",
   "metadata": {},
   "source": [
    "# 1. 读数据\n",
    "\n",
    "- data_clean.csv是1_preprocess处理后的数据\n",
    "    - 每行都表示一个借款账户\n",
    "    - issue_d表示申请贷款的月份\n",
    "- LCDataDictionary.csv是Leng Club数据中的变量含义\n",
    "- Completeness.csv是各变量缺失比例的数据\n",
    "- Effectiveness.csv是各变量KS和IV的数据"
   ]
  },
  {
   "cell_type": "code",
   "execution_count": 2,
   "metadata": {},
   "outputs": [
    {
     "name": "stdout",
     "output_type": "stream",
     "text": [
      "一共12个月的数据\n"
     ]
    },
    {
     "data": {
      "text/html": [
       "<div>\n",
       "<style>\n",
       "    .dataframe thead tr:only-child th {\n",
       "        text-align: right;\n",
       "    }\n",
       "\n",
       "    .dataframe thead th {\n",
       "        text-align: left;\n",
       "    }\n",
       "\n",
       "    .dataframe tbody tr th {\n",
       "        vertical-align: top;\n",
       "    }\n",
       "</style>\n",
       "<table border=\"1\" class=\"dataframe\">\n",
       "  <thead>\n",
       "    <tr style=\"text-align: right;\">\n",
       "      <th></th>\n",
       "      <th>loan_amnt</th>\n",
       "      <th>annual_inc</th>\n",
       "      <th>dti</th>\n",
       "      <th>delinq_2yrs</th>\n",
       "      <th>fico_range_low</th>\n",
       "      <th>fico_range_high</th>\n",
       "      <th>inq_last_6mths</th>\n",
       "      <th>mths_since_last_delinq</th>\n",
       "      <th>mths_since_last_record</th>\n",
       "      <th>open_acc</th>\n",
       "      <th>...</th>\n",
       "      <th>pct_tl_nvr_dlq</th>\n",
       "      <th>percent_bc_gt_75</th>\n",
       "      <th>pub_rec_bankruptcies</th>\n",
       "      <th>tax_liens</th>\n",
       "      <th>tot_hi_cred_lim</th>\n",
       "      <th>total_bal_ex_mort</th>\n",
       "      <th>total_bc_limit</th>\n",
       "      <th>total_il_high_credit_limit</th>\n",
       "      <th>loan_status</th>\n",
       "      <th>issue_d</th>\n",
       "    </tr>\n",
       "  </thead>\n",
       "  <tbody>\n",
       "    <tr>\n",
       "      <th>0</th>\n",
       "      <td>35000</td>\n",
       "      <td>128000.0</td>\n",
       "      <td>6.46</td>\n",
       "      <td>0</td>\n",
       "      <td>685</td>\n",
       "      <td>689</td>\n",
       "      <td>0</td>\n",
       "      <td>46.0</td>\n",
       "      <td>NaN</td>\n",
       "      <td>17</td>\n",
       "      <td>...</td>\n",
       "      <td>91.3</td>\n",
       "      <td>33.3</td>\n",
       "      <td>0</td>\n",
       "      <td>0</td>\n",
       "      <td>220950</td>\n",
       "      <td>49644</td>\n",
       "      <td>26800</td>\n",
       "      <td>71700</td>\n",
       "      <td>0</td>\n",
       "      <td>12</td>\n",
       "    </tr>\n",
       "    <tr>\n",
       "      <th>1</th>\n",
       "      <td>16000</td>\n",
       "      <td>70000.0</td>\n",
       "      <td>26.40</td>\n",
       "      <td>0</td>\n",
       "      <td>720</td>\n",
       "      <td>724</td>\n",
       "      <td>0</td>\n",
       "      <td>NaN</td>\n",
       "      <td>NaN</td>\n",
       "      <td>13</td>\n",
       "      <td>...</td>\n",
       "      <td>100.0</td>\n",
       "      <td>60.0</td>\n",
       "      <td>0</td>\n",
       "      <td>0</td>\n",
       "      <td>309638</td>\n",
       "      <td>62407</td>\n",
       "      <td>45900</td>\n",
       "      <td>45838</td>\n",
       "      <td>0</td>\n",
       "      <td>12</td>\n",
       "    </tr>\n",
       "    <tr>\n",
       "      <th>2</th>\n",
       "      <td>10000</td>\n",
       "      <td>85000.0</td>\n",
       "      <td>13.07</td>\n",
       "      <td>0</td>\n",
       "      <td>685</td>\n",
       "      <td>689</td>\n",
       "      <td>1</td>\n",
       "      <td>NaN</td>\n",
       "      <td>106.0</td>\n",
       "      <td>14</td>\n",
       "      <td>...</td>\n",
       "      <td>95.7</td>\n",
       "      <td>28.6</td>\n",
       "      <td>1</td>\n",
       "      <td>0</td>\n",
       "      <td>61099</td>\n",
       "      <td>27957</td>\n",
       "      <td>16400</td>\n",
       "      <td>30799</td>\n",
       "      <td>0</td>\n",
       "      <td>12</td>\n",
       "    </tr>\n",
       "  </tbody>\n",
       "</table>\n",
       "<p>3 rows × 70 columns</p>\n",
       "</div>"
      ],
      "text/plain": [
       "   loan_amnt  annual_inc    dti  delinq_2yrs  fico_range_low  fico_range_high  \\\n",
       "0  35000      128000.0    6.46   0            685             689               \n",
       "1  16000      70000.0     26.40  0            720             724               \n",
       "2  10000      85000.0     13.07  0            685             689               \n",
       "\n",
       "   inq_last_6mths  mths_since_last_delinq  mths_since_last_record  open_acc  \\\n",
       "0  0               46.0                   NaN                      17         \n",
       "1  0              NaN                     NaN                      13         \n",
       "2  1              NaN                      106.0                   14         \n",
       "\n",
       "    ...     pct_tl_nvr_dlq  percent_bc_gt_75  pub_rec_bankruptcies  tax_liens  \\\n",
       "0   ...     91.3            33.3              0                     0           \n",
       "1   ...     100.0           60.0              0                     0           \n",
       "2   ...     95.7            28.6              1                     0           \n",
       "\n",
       "   tot_hi_cred_lim  total_bal_ex_mort  total_bc_limit  \\\n",
       "0  220950           49644              26800            \n",
       "1  309638           62407              45900            \n",
       "2  61099            27957              16400            \n",
       "\n",
       "   total_il_high_credit_limit  loan_status  issue_d  \n",
       "0  71700                       0            12       \n",
       "1  45838                       0            12       \n",
       "2  30799                       0            12       \n",
       "\n",
       "[3 rows x 70 columns]"
      ]
     },
     "execution_count": 2,
     "metadata": {},
     "output_type": "execute_result"
    }
   ],
   "source": [
    "df = pd.read_csv('../data/data_clean.csv')\n",
    "month_max = max(df.issue_d)\n",
    "print '一共'+str(month_max)+'个月的数据'\n",
    "df.head(3)"
   ]
  },
  {
   "cell_type": "code",
   "execution_count": 3,
   "metadata": {},
   "outputs": [
    {
     "data": {
      "text/html": [
       "<div>\n",
       "<style>\n",
       "    .dataframe thead tr:only-child th {\n",
       "        text-align: right;\n",
       "    }\n",
       "\n",
       "    .dataframe thead th {\n",
       "        text-align: left;\n",
       "    }\n",
       "\n",
       "    .dataframe tbody tr th {\n",
       "        vertical-align: top;\n",
       "    }\n",
       "</style>\n",
       "<table border=\"1\" class=\"dataframe\">\n",
       "  <thead>\n",
       "    <tr style=\"text-align: right;\">\n",
       "      <th></th>\n",
       "      <th>Description</th>\n",
       "    </tr>\n",
       "    <tr>\n",
       "      <th>feature</th>\n",
       "      <th></th>\n",
       "    </tr>\n",
       "  </thead>\n",
       "  <tbody>\n",
       "    <tr>\n",
       "      <th>acc_now_delinq</th>\n",
       "      <td>The number of accounts on which the borrower is now delinquent.</td>\n",
       "    </tr>\n",
       "    <tr>\n",
       "      <th>acc_open_past_24mths</th>\n",
       "      <td>Number of trades opened in past 24 months.</td>\n",
       "    </tr>\n",
       "    <tr>\n",
       "      <th>addr_state</th>\n",
       "      <td>The state provided by the borrower in the loan application</td>\n",
       "    </tr>\n",
       "  </tbody>\n",
       "</table>\n",
       "</div>"
      ],
      "text/plain": [
       "                                                                          Description\n",
       "feature                                                                              \n",
       "acc_now_delinq        The number of accounts on which the borrower is now delinquent.\n",
       "acc_open_past_24mths  Number of trades opened in past 24 months.                     \n",
       "addr_state            The state provided by the borrower in the loan application     "
      ]
     },
     "execution_count": 3,
     "metadata": {},
     "output_type": "execute_result"
    }
   ],
   "source": [
    "dict_df = pd.read_csv('../data/LCDataDictionary_clean.csv')\n",
    "dict_df = dict_df.set_index('feature')\n",
    "dict_df.head(3)"
   ]
  },
  {
   "cell_type": "code",
   "execution_count": 4,
   "metadata": {},
   "outputs": [
    {
     "data": {
      "text/html": [
       "<div>\n",
       "<style>\n",
       "    .dataframe thead tr:only-child th {\n",
       "        text-align: right;\n",
       "    }\n",
       "\n",
       "    .dataframe thead th {\n",
       "        text-align: left;\n",
       "    }\n",
       "\n",
       "    .dataframe tbody tr th {\n",
       "        vertical-align: top;\n",
       "    }\n",
       "</style>\n",
       "<table border=\"1\" class=\"dataframe\">\n",
       "  <thead>\n",
       "    <tr style=\"text-align: right;\">\n",
       "      <th></th>\n",
       "      <th>nan_ratio</th>\n",
       "    </tr>\n",
       "    <tr>\n",
       "      <th>feature</th>\n",
       "      <th></th>\n",
       "    </tr>\n",
       "  </thead>\n",
       "  <tbody>\n",
       "    <tr>\n",
       "      <th>loan_amnt</th>\n",
       "      <td>0.0</td>\n",
       "    </tr>\n",
       "    <tr>\n",
       "      <th>annual_inc</th>\n",
       "      <td>0.0</td>\n",
       "    </tr>\n",
       "    <tr>\n",
       "      <th>dti</th>\n",
       "      <td>0.0</td>\n",
       "    </tr>\n",
       "  </tbody>\n",
       "</table>\n",
       "</div>"
      ],
      "text/plain": [
       "            nan_ratio\n",
       "feature              \n",
       "loan_amnt   0.0      \n",
       "annual_inc  0.0      \n",
       "dti         0.0      "
      ]
     },
     "execution_count": 4,
     "metadata": {},
     "output_type": "execute_result"
    }
   ],
   "source": [
    "comp_df = pd.read_csv('../output/Completeness.csv')\n",
    "comp_df = comp_df.set_index('feature')\n",
    "comp_df.head(3)"
   ]
  },
  {
   "cell_type": "code",
   "execution_count": 5,
   "metadata": {},
   "outputs": [
    {
     "data": {
      "text/html": [
       "<div>\n",
       "<style>\n",
       "    .dataframe thead tr:only-child th {\n",
       "        text-align: right;\n",
       "    }\n",
       "\n",
       "    .dataframe thead th {\n",
       "        text-align: left;\n",
       "    }\n",
       "\n",
       "    .dataframe tbody tr th {\n",
       "        vertical-align: top;\n",
       "    }\n",
       "</style>\n",
       "<table border=\"1\" class=\"dataframe\">\n",
       "  <thead>\n",
       "    <tr style=\"text-align: right;\">\n",
       "      <th></th>\n",
       "      <th>KS</th>\n",
       "      <th>IV</th>\n",
       "    </tr>\n",
       "    <tr>\n",
       "      <th>feature</th>\n",
       "      <th></th>\n",
       "      <th></th>\n",
       "    </tr>\n",
       "  </thead>\n",
       "  <tbody>\n",
       "    <tr>\n",
       "      <th>loan_amnt</th>\n",
       "      <td>0.020218</td>\n",
       "      <td>0.004140</td>\n",
       "    </tr>\n",
       "    <tr>\n",
       "      <th>annual_inc</th>\n",
       "      <td>0.041286</td>\n",
       "      <td>0.021428</td>\n",
       "    </tr>\n",
       "    <tr>\n",
       "      <th>dti</th>\n",
       "      <td>0.076777</td>\n",
       "      <td>0.048852</td>\n",
       "    </tr>\n",
       "  </tbody>\n",
       "</table>\n",
       "</div>"
      ],
      "text/plain": [
       "                  KS        IV\n",
       "feature                       \n",
       "loan_amnt   0.020218  0.004140\n",
       "annual_inc  0.041286  0.021428\n",
       "dti         0.076777  0.048852"
      ]
     },
     "execution_count": 5,
     "metadata": {},
     "output_type": "execute_result"
    }
   ],
   "source": [
    "effe_df = pd.read_csv('../output/Effectiveness.csv')\n",
    "effe_df = effe_df.set_index('feature')\n",
    "effe_df.head(3)"
   ]
  },
  {
   "cell_type": "markdown",
   "metadata": {},
   "source": [
    "# 2. 计算tot_cur_bal特征在1月和6月的PSI值"
   ]
  },
  {
   "cell_type": "code",
   "execution_count": 6,
   "metadata": {},
   "outputs": [
    {
     "name": "stdout",
     "output_type": "stream",
     "text": [
      "1月数据条数： 35107\n",
      "6月数据条数： 28485\n"
     ]
    }
   ],
   "source": [
    "df_temp = df[['issue_d','tot_cur_bal']]\n",
    "df_temp = df_temp[df_temp['issue_d'].isin([1,6])]\n",
    "before_total = df_temp[df_temp['issue_d']==1].shape[0]\n",
    "after_total = df_temp[df_temp['issue_d']==6].shape[0]\n",
    "total = before_total + after_total\n",
    "print '1月数据条数：', before_total\n",
    "print '6月数据条数：', after_total"
   ]
  },
  {
   "cell_type": "markdown",
   "metadata": {},
   "source": [
    "## 如果存在缺失值，则将没有tot_cur_bal特征的数据单独归为一组，计算其psi"
   ]
  },
  {
   "cell_type": "code",
   "execution_count": 7,
   "metadata": {},
   "outputs": [
    {
     "name": "stderr",
     "output_type": "stream",
     "text": [
      "/Users/Aurora/anaconda/lib/python2.7/site-packages/ipykernel_launcher.py:2: DeprecationWarning: \n",
      ".ix is deprecated. Please use\n",
      ".loc for label based indexing or\n",
      ".iloc for positional indexing\n",
      "\n",
      "See the documentation here:\n",
      "http://pandas.pydata.org/pandas-docs/stable/indexing.html#deprecate_ix\n",
      "  \n"
     ]
    }
   ],
   "source": [
    "df_null_index = np.isnan(df_temp['tot_cur_bal'])\n",
    "df_null = df_temp.ix[df_null_index]\n",
    "if len(df_null) > 0:\n",
    "    before_in_bin = len(df_null[df_null['issue_d']==before_time])\n",
    "    after_in_bin = len(df_null[df_null['issue_d']==after_time])\n",
    "    befor_ratio_in_bin = before_in_bin / before_total + 0.01\n",
    "    after_ratio_in_bin = after_in_bin / after_total + 0.01\n",
    "    PSI  = (befor_ratio_in_bin - after_ratio_in_bin) * math.log(befor_ratio_in_bin / after_ratio_in_bin)\n",
    "    total_no_nan = total - before_in_bin -after_in_bin\n",
    "else:\n",
    "    PSI = 0\n",
    "    total_no_nan = total"
   ]
  },
  {
   "cell_type": "markdown",
   "metadata": {},
   "source": [
    "## 去除缺失值后按照tot_cur_bal对数据进行排序和分组\n",
    "\n",
    "- 要求\n",
    "    - 每组都至少有10%的用户（最后一组例外）\n",
    "    - 同一score的账户必须分入同一组"
   ]
  },
  {
   "cell_type": "code",
   "execution_count": 8,
   "metadata": {
    "collapsed": true
   },
   "outputs": [],
   "source": [
    "df_temp.dropna(how='any')\n",
    "df_temp = df_temp.sort_values(by='tot_cur_bal')\n",
    "df_temp = df_temp.reset_index(level=0, drop=True)"
   ]
  },
  {
   "cell_type": "code",
   "execution_count": 9,
   "metadata": {},
   "outputs": [
    {
     "name": "stdout",
     "output_type": "stream",
     "text": [
      "每组最后一个账户的ID分别是: \n",
      "[6359, 12720, 19080, 25441, 31801, 38161, 44521, 50881, 57241, 63591]\n"
     ]
    },
    {
     "name": "stderr",
     "output_type": "stream",
     "text": [
      "/Users/Aurora/anaconda/lib/python2.7/site-packages/ipykernel_launcher.py:17: DeprecationWarning: \n",
      ".ix is deprecated. Please use\n",
      ".loc for label based indexing or\n",
      ".iloc for positional indexing\n",
      "\n",
      "See the documentation here:\n",
      "http://pandas.pydata.org/pandas-docs/stable/indexing.html#deprecate_ix\n"
     ]
    }
   ],
   "source": [
    "bin_size = int(math.ceil(total_no_nan * 0.1))\n",
    "\n",
    "bins = []  # 记录每组最后一个账户\n",
    "\n",
    "num_bins = 0\n",
    "\n",
    "i = 0\n",
    "start_index = 0\n",
    "while i < total_no_nan:\n",
    "\n",
    "    end_index = start_index + bin_size - 1\n",
    "    if end_index >= total_no_nan - 1:\n",
    "    # 最后一组，直接分组\n",
    "        end_index = total_no_nan - 1\n",
    "    else:\n",
    "    # 非最后一组，查看当前组内最后一个账户，是否与下个账户tot_coll_amt特征值相同。如果相同，则将下个账户分入当前组\n",
    "        while end_index + 1 <= total_no_nan - 1 and df_temp.ix[end_index]['tot_cur_bal'] == df_temp.ix[end_index + 1]['tot_cur_bal']:\n",
    "            end_index = end_index + 1\n",
    "\n",
    "    bins.append(end_index)\n",
    "    num_bins = num_bins + 1\n",
    "\n",
    "    start_index = end_index + 1\n",
    "    i = end_index + 1\n",
    "\n",
    "print '每组最后一个账户的ID分别是: '\n",
    "print bins"
   ]
  },
  {
   "cell_type": "markdown",
   "metadata": {},
   "source": [
    "## 计算PSI值"
   ]
  },
  {
   "cell_type": "code",
   "execution_count": 10,
   "metadata": {},
   "outputs": [
    {
     "name": "stdout",
     "output_type": "stream",
     "text": [
      "PSI:  0.00119986886716\n"
     ]
    }
   ],
   "source": [
    "start_index = 0\n",
    "\n",
    "i = 0\n",
    "while i < num_bins:\n",
    "    s1 = df_temp[start_index:(bins[i] + 1)]\n",
    "    s2 = s1[s1['issue_d'] == 1]\n",
    "    s3 = s1[s1['issue_d'] == 6]\n",
    "\n",
    "    before_in_bin = s2.index.size \n",
    "    after_in_bin = s3.index.size\n",
    "\n",
    "    befor_ratio_in_bin = before_in_bin / before_total + 0.01\n",
    "    after_ratio_in_bin = after_in_bin / after_total + 0.01\n",
    "\n",
    "    psi = (befor_ratio_in_bin - after_ratio_in_bin) * math.log(befor_ratio_in_bin / after_ratio_in_bin)\n",
    "    PSI= PSI + psi\n",
    "\n",
    "    start_index = bins[i] + 1\n",
    "    i= i + 1\n",
    "\n",
    "\n",
    "print 'PSI: ', PSI"
   ]
  },
  {
   "cell_type": "markdown",
   "metadata": {},
   "source": [
    "# 2. 计算所有特征的PSI值，依次让2月同1月对比，3月同1月对比...12月同1月对比"
   ]
  },
  {
   "cell_type": "code",
   "execution_count": 11,
   "metadata": {
    "collapsed": true
   },
   "outputs": [],
   "source": [
    "def get_PSI(time,feature):\n",
    "    \"\"\"time and feature are both lists.\n",
    "       return the PSI value.\n",
    "    \"\"\"\n",
    "    df_temp = pd.DataFrame(zip(time,feature),columns=['issue_d','feature_score'])\n",
    "    issue_d_values = sorted(list(set(time)))\n",
    "    before_time = issue_d_values[0]\n",
    "    after_time = issue_d_values[1]\n",
    "    before_total = df_temp[df_temp['issue_d']==before_time].shape[0]\n",
    "    after_total = df_temp[df_temp['issue_d']==after_time].shape[0]\n",
    "    total = before_total + after_total\n",
    "    \n",
    "    df_null_index = np.isnan(df_temp['feature_score'])\n",
    "    df_null = df_temp.ix[df_null_index]\n",
    "    if len(df_null) > 0:\n",
    "        before_in_bin = len(df_null[df_null['issue_d']==before_time])\n",
    "        after_in_bin = len(df_null[df_null['issue_d']==after_time])\n",
    "        befor_ratio_in_bin = before_in_bin / before_total + 0.01\n",
    "        after_ratio_in_bin = after_in_bin / after_total + 0.01\n",
    "        PSI  = (befor_ratio_in_bin - after_ratio_in_bin) * math.log(befor_ratio_in_bin / after_ratio_in_bin)\n",
    "        total_no_nan = total - before_in_bin -after_in_bin\n",
    "    else:\n",
    "        PSI = 0\n",
    "        total_no_nan = total\n",
    "    \n",
    "    df_temp = df_temp.dropna(how='any')\n",
    "    df_temp = df_temp.sort_values(by='feature_score')\n",
    "    df_temp = df_temp.reset_index(level=0, drop=True)\n",
    "\n",
    "    \n",
    "    bin_size = int(math.ceil(total_no_nan * 0.1))\n",
    "\n",
    "    bins = []  # 记录每组最后一个账户\n",
    "    num_bins = 0\n",
    "\n",
    "    i = 0\n",
    "    start_index = 0\n",
    "    while i < total_no_nan:\n",
    "\n",
    "        end_index = start_index + bin_size - 1\n",
    "        if end_index >= total_no_nan - 1:\n",
    "        # 最后一组，直接分组\n",
    "            end_index = total_no_nan - 1\n",
    "        else:\n",
    "        # 非最后一组，查看当前组内最后一个账户，是否与下个账户feature_score特征值相同。如果相同，则将下个账户分入当前组\n",
    "            while end_index + 1 <= total_no_nan - 1 and df_temp.ix[end_index]['feature_score'] == df_temp.ix[end_index + 1]['feature_score']:\n",
    "                end_index = end_index + 1\n",
    "\n",
    "        bins.append(end_index)\n",
    "        num_bins = num_bins + 1\n",
    "\n",
    "        start_index = end_index + 1\n",
    "        i = end_index + 1\n",
    "        \n",
    "    start_index = 0\n",
    "    PSI = 0\n",
    "    i = 0\n",
    "    \n",
    "    while i < num_bins:\n",
    "        s1 = df_temp[start_index:(bins[i] + 1)]\n",
    "        s2 = s1[s1['issue_d'] == before_time]\n",
    "        s3 = s1[s1['issue_d'] == after_time]\n",
    "\n",
    "        before_in_bin = s2.index.size \n",
    "        after_in_bin = s3.index.size\n",
    "\n",
    "        befor_ratio_in_bin = before_in_bin / before_total + 0.01\n",
    "        after_ratio_in_bin = after_in_bin / after_total + 0.01\n",
    "\n",
    "        psi = (befor_ratio_in_bin - after_ratio_in_bin) * math.log(befor_ratio_in_bin / after_ratio_in_bin)\n",
    "        PSI= PSI + psi\n",
    "\n",
    "        start_index = bins[i] + 1\n",
    "        i= i + 1\n",
    "\n",
    "    return PSI\n",
    "\n"
   ]
  },
  {
   "cell_type": "code",
   "execution_count": 12,
   "metadata": {
    "collapsed": true
   },
   "outputs": [],
   "source": [
    "def get_PSI_features(time, feature_df):\n",
    "    \"\"\"time is a list and feature_df is a data frame.\n",
    "       return the PSI values of every feature in the feature_df.\n",
    "    \"\"\"    \n",
    "    PSI = []\n",
    "\n",
    "    for feature in feature_df.columns:\n",
    "        cur_PSI = get_PSI(time,feature_df[feature])\n",
    "        PSI.append(cur_PSI)\n",
    "    return PSI"
   ]
  },
  {
   "cell_type": "markdown",
   "metadata": {},
   "source": [
    "##  计算PSI\n",
    "- 可能耗时较长"
   ]
  },
  {
   "cell_type": "code",
   "execution_count": 13,
   "metadata": {
    "collapsed": true
   },
   "outputs": [],
   "source": [
    "PSI_list = []\n",
    "before_time = 1\n",
    "feature_cols = [i for i in df.columns if i not in ['issue_d','loan_status']]"
   ]
  },
  {
   "cell_type": "markdown",
   "metadata": {},
   "source": [
    "### 计算各月同1月比较的PSI值"
   ]
  },
  {
   "cell_type": "code",
   "execution_count": 14,
   "metadata": {},
   "outputs": [
    {
     "name": "stderr",
     "output_type": "stream",
     "text": [
      "/Users/Aurora/anaconda/lib/python2.7/site-packages/ipykernel_launcher.py:14: DeprecationWarning: \n",
      ".ix is deprecated. Please use\n",
      ".loc for label based indexing or\n",
      ".iloc for positional indexing\n",
      "\n",
      "See the documentation here:\n",
      "http://pandas.pydata.org/pandas-docs/stable/indexing.html#deprecate_ix\n",
      "  \n",
      "/Users/Aurora/anaconda/lib/python2.7/site-packages/ipykernel_launcher.py:46: DeprecationWarning: \n",
      ".ix is deprecated. Please use\n",
      ".loc for label based indexing or\n",
      ".iloc for positional indexing\n",
      "\n",
      "See the documentation here:\n",
      "http://pandas.pydata.org/pandas-docs/stable/indexing.html#deprecate_ix\n"
     ]
    },
    {
     "name": "stdout",
     "output_type": "stream",
     "text": [
      "完成所有特征在1月和2月的比较\n",
      "完成所有特征在1月和3月的比较\n",
      "完成所有特征在1月和4月的比较\n",
      "完成所有特征在1月和5月的比较\n",
      "完成所有特征在1月和6月的比较\n",
      "完成所有特征在1月和7月的比较\n",
      "完成所有特征在1月和8月的比较\n",
      "完成所有特征在1月和9月的比较\n",
      "完成所有特征在1月和10月的比较\n",
      "完成所有特征在1月和11月的比较\n",
      "完成所有特征在1月和12月的比较\n"
     ]
    }
   ],
   "source": [
    "for after_time in range(2,month_max+1):\n",
    "    cur_df = df[df['issue_d'].isin([before_time, after_time])]\n",
    "    PSI_list.append(get_PSI_features(cur_df['issue_d'],cur_df[feature_cols]))\n",
    "    print '完成所有特征在1月和'+str(after_time)+'月的比较'"
   ]
  },
  {
   "cell_type": "markdown",
   "metadata": {},
   "source": [
    "### 选取部分特征查看结果"
   ]
  },
  {
   "cell_type": "code",
   "execution_count": 14,
   "metadata": {},
   "outputs": [
    {
     "name": "stderr",
     "output_type": "stream",
     "text": [
      "/Users/Aurora/anaconda/lib/python2.7/site-packages/ipykernel_launcher.py:2: DeprecationWarning: \n",
      ".ix is deprecated. Please use\n",
      ".loc for label based indexing or\n",
      ".iloc for positional indexing\n",
      "\n",
      "See the documentation here:\n",
      "http://pandas.pydata.org/pandas-docs/stable/indexing.html#deprecate_ix\n",
      "  \n"
     ]
    },
    {
     "data": {
      "text/html": [
       "<div>\n",
       "<style>\n",
       "    .dataframe thead tr:only-child th {\n",
       "        text-align: right;\n",
       "    }\n",
       "\n",
       "    .dataframe thead th {\n",
       "        text-align: left;\n",
       "    }\n",
       "\n",
       "    .dataframe tbody tr th {\n",
       "        vertical-align: top;\n",
       "    }\n",
       "</style>\n",
       "<table border=\"1\" class=\"dataframe\">\n",
       "  <thead>\n",
       "    <tr style=\"text-align: right;\">\n",
       "      <th></th>\n",
       "      <th>Description</th>\n",
       "    </tr>\n",
       "    <tr>\n",
       "      <th>feature</th>\n",
       "      <th></th>\n",
       "    </tr>\n",
       "  </thead>\n",
       "  <tbody>\n",
       "    <tr>\n",
       "      <th>delinq_2yrs</th>\n",
       "      <td>The number of 30+ days past-due incidences of delinquency in the borrower's credit file for the past 2 years</td>\n",
       "    </tr>\n",
       "    <tr>\n",
       "      <th>fico_range_low</th>\n",
       "      <td>The lower boundary range the borrower's FICO at loan origination belongs to.</td>\n",
       "    </tr>\n",
       "    <tr>\n",
       "      <th>fico_range_high</th>\n",
       "      <td>The upper boundary range the borrower's FICO at loan origination belongs to.</td>\n",
       "    </tr>\n",
       "    <tr>\n",
       "      <th>inq_last_6mths</th>\n",
       "      <td>The number of inquiries in past 6 months (excluding auto and mortgage inquiries)</td>\n",
       "    </tr>\n",
       "    <tr>\n",
       "      <th>mths_since_last_record</th>\n",
       "      <td>The number of months since the last public record.</td>\n",
       "    </tr>\n",
       "  </tbody>\n",
       "</table>\n",
       "</div>"
      ],
      "text/plain": [
       "                                                                                                                         Description\n",
       "feature                                                                                                                             \n",
       "delinq_2yrs             The number of 30+ days past-due incidences of delinquency in the borrower's credit file for the past 2 years\n",
       "fico_range_low          The lower boundary range the borrower's FICO at loan origination belongs to.                                \n",
       "fico_range_high         The upper boundary range the borrower's FICO at loan origination belongs to.                                \n",
       "inq_last_6mths          The number of inquiries in past 6 months (excluding auto and mortgage inquiries)                            \n",
       "mths_since_last_record  The number of months since the last public record.                                                          "
      ]
     },
     "execution_count": 14,
     "metadata": {},
     "output_type": "execute_result"
    }
   ],
   "source": [
    "show_features = ['delinq_2yrs','fico_range_low','fico_range_high','inq_last_6mths','mths_since_last_record']\n",
    "dict_df.ix[show_features]"
   ]
  },
  {
   "cell_type": "code",
   "execution_count": 29,
   "metadata": {},
   "outputs": [
    {
     "name": "stderr",
     "output_type": "stream",
     "text": [
      "/Users/Aurora/anaconda/lib/python2.7/site-packages/ipykernel_launcher.py:5: DeprecationWarning: \n",
      ".ix is deprecated. Please use\n",
      ".loc for label based indexing or\n",
      ".iloc for positional indexing\n",
      "\n",
      "See the documentation here:\n",
      "http://pandas.pydata.org/pandas-docs/stable/indexing.html#deprecate_ix\n",
      "  \"\"\"\n"
     ]
    },
    {
     "data": {
      "text/html": [
       "<div>\n",
       "<style>\n",
       "    .dataframe thead tr:only-child th {\n",
       "        text-align: right;\n",
       "    }\n",
       "\n",
       "    .dataframe thead th {\n",
       "        text-align: left;\n",
       "    }\n",
       "\n",
       "    .dataframe tbody tr th {\n",
       "        vertical-align: top;\n",
       "    }\n",
       "</style>\n",
       "<table border=\"1\" class=\"dataframe\">\n",
       "  <thead>\n",
       "    <tr style=\"text-align: right;\">\n",
       "      <th></th>\n",
       "      <th>nan_ratio</th>\n",
       "      <th>KS</th>\n",
       "      <th>IV</th>\n",
       "      <th>PSI_1_2</th>\n",
       "      <th>PSI_1_3</th>\n",
       "      <th>PSI_1_4</th>\n",
       "      <th>PSI_1_5</th>\n",
       "      <th>PSI_1_6</th>\n",
       "      <th>PSI_1_7</th>\n",
       "      <th>PSI_1_8</th>\n",
       "      <th>PSI_1_9</th>\n",
       "      <th>PSI_1_10</th>\n",
       "      <th>PSI_1_11</th>\n",
       "      <th>PSI_1_12</th>\n",
       "    </tr>\n",
       "    <tr>\n",
       "      <th>feature</th>\n",
       "      <th></th>\n",
       "      <th></th>\n",
       "      <th></th>\n",
       "      <th></th>\n",
       "      <th></th>\n",
       "      <th></th>\n",
       "      <th></th>\n",
       "      <th></th>\n",
       "      <th></th>\n",
       "      <th></th>\n",
       "      <th></th>\n",
       "      <th></th>\n",
       "      <th></th>\n",
       "      <th></th>\n",
       "    </tr>\n",
       "  </thead>\n",
       "  <tbody>\n",
       "    <tr>\n",
       "      <th>delinq_2yrs</th>\n",
       "      <td>0.000000</td>\n",
       "      <td>0.006555</td>\n",
       "      <td>0.000425</td>\n",
       "      <td>0.000878</td>\n",
       "      <td>0.000085</td>\n",
       "      <td>0.000061</td>\n",
       "      <td>0.000280</td>\n",
       "      <td>0.000236</td>\n",
       "      <td>0.000055</td>\n",
       "      <td>0.000756</td>\n",
       "      <td>0.000337</td>\n",
       "      <td>0.000291</td>\n",
       "      <td>0.000259</td>\n",
       "      <td>0.000156</td>\n",
       "    </tr>\n",
       "    <tr>\n",
       "      <th>fico_range_low</th>\n",
       "      <td>0.000000</td>\n",
       "      <td>0.070732</td>\n",
       "      <td>0.072710</td>\n",
       "      <td>0.001460</td>\n",
       "      <td>0.000738</td>\n",
       "      <td>0.001401</td>\n",
       "      <td>0.001388</td>\n",
       "      <td>0.003543</td>\n",
       "      <td>0.006662</td>\n",
       "      <td>0.005569</td>\n",
       "      <td>0.010008</td>\n",
       "      <td>0.007808</td>\n",
       "      <td>0.009213</td>\n",
       "      <td>0.006920</td>\n",
       "    </tr>\n",
       "    <tr>\n",
       "      <th>fico_range_high</th>\n",
       "      <td>0.000000</td>\n",
       "      <td>0.070732</td>\n",
       "      <td>0.072710</td>\n",
       "      <td>0.001460</td>\n",
       "      <td>0.000738</td>\n",
       "      <td>0.001401</td>\n",
       "      <td>0.001388</td>\n",
       "      <td>0.003543</td>\n",
       "      <td>0.006662</td>\n",
       "      <td>0.005569</td>\n",
       "      <td>0.010008</td>\n",
       "      <td>0.007808</td>\n",
       "      <td>0.009213</td>\n",
       "      <td>0.006920</td>\n",
       "    </tr>\n",
       "    <tr>\n",
       "      <th>inq_last_6mths</th>\n",
       "      <td>0.000000</td>\n",
       "      <td>0.114747</td>\n",
       "      <td>0.037908</td>\n",
       "      <td>0.001311</td>\n",
       "      <td>0.001563</td>\n",
       "      <td>0.000789</td>\n",
       "      <td>0.001212</td>\n",
       "      <td>0.002861</td>\n",
       "      <td>0.003530</td>\n",
       "      <td>0.004349</td>\n",
       "      <td>0.002033</td>\n",
       "      <td>0.001997</td>\n",
       "      <td>0.001249</td>\n",
       "      <td>0.000885</td>\n",
       "    </tr>\n",
       "    <tr>\n",
       "      <th>mths_since_last_record</th>\n",
       "      <td>0.823282</td>\n",
       "      <td>0.120586</td>\n",
       "      <td>0.091712</td>\n",
       "      <td>0.000431</td>\n",
       "      <td>0.000811</td>\n",
       "      <td>0.002110</td>\n",
       "      <td>0.002362</td>\n",
       "      <td>0.003114</td>\n",
       "      <td>0.007309</td>\n",
       "      <td>0.004353</td>\n",
       "      <td>0.005961</td>\n",
       "      <td>0.011012</td>\n",
       "      <td>0.010481</td>\n",
       "      <td>0.010018</td>\n",
       "    </tr>\n",
       "  </tbody>\n",
       "</table>\n",
       "</div>"
      ],
      "text/plain": [
       "                        nan_ratio        KS        IV   PSI_1_2   PSI_1_3  \\\n",
       "feature                                                                     \n",
       "delinq_2yrs             0.000000   0.006555  0.000425  0.000878  0.000085   \n",
       "fico_range_low          0.000000   0.070732  0.072710  0.001460  0.000738   \n",
       "fico_range_high         0.000000   0.070732  0.072710  0.001460  0.000738   \n",
       "inq_last_6mths          0.000000   0.114747  0.037908  0.001311  0.001563   \n",
       "mths_since_last_record  0.823282   0.120586  0.091712  0.000431  0.000811   \n",
       "\n",
       "                         PSI_1_4   PSI_1_5   PSI_1_6   PSI_1_7   PSI_1_8  \\\n",
       "feature                                                                    \n",
       "delinq_2yrs             0.000061  0.000280  0.000236  0.000055  0.000756   \n",
       "fico_range_low          0.001401  0.001388  0.003543  0.006662  0.005569   \n",
       "fico_range_high         0.001401  0.001388  0.003543  0.006662  0.005569   \n",
       "inq_last_6mths          0.000789  0.001212  0.002861  0.003530  0.004349   \n",
       "mths_since_last_record  0.002110  0.002362  0.003114  0.007309  0.004353   \n",
       "\n",
       "                         PSI_1_9  PSI_1_10  PSI_1_11  PSI_1_12  \n",
       "feature                                                         \n",
       "delinq_2yrs             0.000337  0.000291  0.000259  0.000156  \n",
       "fico_range_low          0.010008  0.007808  0.009213  0.006920  \n",
       "fico_range_high         0.010008  0.007808  0.009213  0.006920  \n",
       "inq_last_6mths          0.002033  0.001997  0.001249  0.000885  \n",
       "mths_since_last_record  0.005961  0.011012  0.010481  0.010018  "
      ]
     },
     "execution_count": 29,
     "metadata": {},
     "output_type": "execute_result"
    }
   ],
   "source": [
    "index_names = ['PSI_1_'+str(i) for i in range(2,month_max+1)]\n",
    "PSI_df = pd.DataFrame(PSI_list, columns = feature_cols,index = index_names).T\n",
    "PSI_df.index.name='feature'\n",
    "\n",
    "show_df = pd.concat([comp_df.ix[show_features],effe_df.ix[show_features],PSI_df.ix[show_features]],axis=1)\n",
    "show_df"
   ]
  },
  {
   "cell_type": "code",
   "execution_count": 30,
   "metadata": {},
   "outputs": [
    {
     "data": {
      "image/png": "[encoded data removed]",
      "text/plain": [
       "<matplotlib.figure.Figure at 0x111edd810>"
      ]
     },
     "metadata": {},
     "output_type": "display_data"
    }
   ],
   "source": [
    "pylab.figure(figsize=[8,5])\n",
    "for feature in show_features:\n",
    "    pylab.plot(range(2,month_max+1), PSI_df.loc[feature], '-o',label=feature)\n",
    "pylab.legend(loc='upper left')\n",
    "pylab.ylabel(\"PSI\")\n",
    "pylab.xlabel(\"Month\")\n",
    "pylab.ylim([0,0.012])\n",
    "pylab.title('Stability of Different Features: Compared with Jan')\n",
    "pylab.savefig('../output/Stability_compare_with_Jan.png')"
   ]
  },
  {
   "cell_type": "markdown",
   "metadata": {},
   "source": [
    "### 计算各月同上月比较的PSI值"
   ]
  },
  {
   "cell_type": "code",
   "execution_count": 18,
   "metadata": {},
   "outputs": [
    {
     "name": "stderr",
     "output_type": "stream",
     "text": [
      "/Users/Aurora/anaconda/lib/python2.7/site-packages/ipykernel_launcher.py:14: DeprecationWarning: \n",
      ".ix is deprecated. Please use\n",
      ".loc for label based indexing or\n",
      ".iloc for positional indexing\n",
      "\n",
      "See the documentation here:\n",
      "http://pandas.pydata.org/pandas-docs/stable/indexing.html#deprecate_ix\n",
      "  \n",
      "/Users/Aurora/anaconda/lib/python2.7/site-packages/ipykernel_launcher.py:46: DeprecationWarning: \n",
      ".ix is deprecated. Please use\n",
      ".loc for label based indexing or\n",
      ".iloc for positional indexing\n",
      "\n",
      "See the documentation here:\n",
      "http://pandas.pydata.org/pandas-docs/stable/indexing.html#deprecate_ix\n"
     ]
    },
    {
     "name": "stdout",
     "output_type": "stream",
     "text": [
      "完成所有特征在1月和2月的比较\n",
      "完成所有特征在2月和3月的比较\n",
      "完成所有特征在3月和4月的比较\n",
      "完成所有特征在4月和5月的比较\n",
      "完成所有特征在5月和6月的比较\n",
      "完成所有特征在6月和7月的比较\n",
      "完成所有特征在7月和8月的比较\n",
      "完成所有特征在8月和9月的比较\n",
      "完成所有特征在9月和10月的比较\n",
      "完成所有特征在10月和11月的比较\n",
      "完成所有特征在11月和12月的比较\n"
     ]
    }
   ],
   "source": [
    "PSI_list2 = []\n",
    "for after_time in range(2,month_max+1):\n",
    "    before_time = after_time - 1\n",
    "    cur_df = df[df['issue_d'].isin([before_time, after_time])]\n",
    "    PSI_list2.append(get_PSI_features(cur_df['issue_d'],cur_df[feature_cols]))\n",
    "    print '完成所有特征在'+str(before_time)+'月和'+str(after_time)+'月的比较'"
   ]
  },
  {
   "cell_type": "code",
   "execution_count": 31,
   "metadata": {},
   "outputs": [
    {
     "name": "stderr",
     "output_type": "stream",
     "text": [
      "/Users/Aurora/anaconda/lib/python2.7/site-packages/ipykernel_launcher.py:3: DeprecationWarning: \n",
      ".ix is deprecated. Please use\n",
      ".loc for label based indexing or\n",
      ".iloc for positional indexing\n",
      "\n",
      "See the documentation here:\n",
      "http://pandas.pydata.org/pandas-docs/stable/indexing.html#deprecate_ix\n",
      "  This is separate from the ipykernel package so we can avoid doing imports until\n"
     ]
    },
    {
     "data": {
      "text/html": [
       "<div>\n",
       "<style>\n",
       "    .dataframe thead tr:only-child th {\n",
       "        text-align: right;\n",
       "    }\n",
       "\n",
       "    .dataframe thead th {\n",
       "        text-align: left;\n",
       "    }\n",
       "\n",
       "    .dataframe tbody tr th {\n",
       "        vertical-align: top;\n",
       "    }\n",
       "</style>\n",
       "<table border=\"1\" class=\"dataframe\">\n",
       "  <thead>\n",
       "    <tr style=\"text-align: right;\">\n",
       "      <th></th>\n",
       "      <th>nan_ratio</th>\n",
       "      <th>KS</th>\n",
       "      <th>IV</th>\n",
       "      <th>PSI_1_2</th>\n",
       "      <th>PSI_2_3</th>\n",
       "      <th>PSI_3_4</th>\n",
       "      <th>PSI_4_5</th>\n",
       "      <th>PSI_5_6</th>\n",
       "      <th>PSI_6_7</th>\n",
       "      <th>PSI_7_8</th>\n",
       "      <th>PSI_8_9</th>\n",
       "      <th>PSI_9_10</th>\n",
       "      <th>PSI_10_11</th>\n",
       "      <th>PSI_11_12</th>\n",
       "    </tr>\n",
       "    <tr>\n",
       "      <th>feature</th>\n",
       "      <th></th>\n",
       "      <th></th>\n",
       "      <th></th>\n",
       "      <th></th>\n",
       "      <th></th>\n",
       "      <th></th>\n",
       "      <th></th>\n",
       "      <th></th>\n",
       "      <th></th>\n",
       "      <th></th>\n",
       "      <th></th>\n",
       "      <th></th>\n",
       "      <th></th>\n",
       "      <th></th>\n",
       "    </tr>\n",
       "  </thead>\n",
       "  <tbody>\n",
       "    <tr>\n",
       "      <th>delinq_2yrs</th>\n",
       "      <td>0.000000</td>\n",
       "      <td>0.006555</td>\n",
       "      <td>0.000425</td>\n",
       "      <td>0.000878</td>\n",
       "      <td>0.000748</td>\n",
       "      <td>0.000061</td>\n",
       "      <td>0.000150</td>\n",
       "      <td>0.000020</td>\n",
       "      <td>0.00007</td>\n",
       "      <td>0.000424</td>\n",
       "      <td>0.001026</td>\n",
       "      <td>0.000722</td>\n",
       "      <td>0.000001</td>\n",
       "      <td>0.000030</td>\n",
       "    </tr>\n",
       "    <tr>\n",
       "      <th>fico_range_low</th>\n",
       "      <td>0.000000</td>\n",
       "      <td>0.070732</td>\n",
       "      <td>0.072710</td>\n",
       "      <td>0.001460</td>\n",
       "      <td>0.002201</td>\n",
       "      <td>0.001290</td>\n",
       "      <td>0.000266</td>\n",
       "      <td>0.001279</td>\n",
       "      <td>0.00088</td>\n",
       "      <td>0.000787</td>\n",
       "      <td>0.001564</td>\n",
       "      <td>0.000758</td>\n",
       "      <td>0.000485</td>\n",
       "      <td>0.000472</td>\n",
       "    </tr>\n",
       "    <tr>\n",
       "      <th>fico_range_high</th>\n",
       "      <td>0.000000</td>\n",
       "      <td>0.070732</td>\n",
       "      <td>0.072710</td>\n",
       "      <td>0.001460</td>\n",
       "      <td>0.002201</td>\n",
       "      <td>0.001290</td>\n",
       "      <td>0.000266</td>\n",
       "      <td>0.001279</td>\n",
       "      <td>0.00088</td>\n",
       "      <td>0.000787</td>\n",
       "      <td>0.001564</td>\n",
       "      <td>0.000758</td>\n",
       "      <td>0.000485</td>\n",
       "      <td>0.000472</td>\n",
       "    </tr>\n",
       "    <tr>\n",
       "      <th>inq_last_6mths</th>\n",
       "      <td>0.000000</td>\n",
       "      <td>0.114747</td>\n",
       "      <td>0.037908</td>\n",
       "      <td>0.001311</td>\n",
       "      <td>0.000339</td>\n",
       "      <td>0.000222</td>\n",
       "      <td>0.000169</td>\n",
       "      <td>0.000390</td>\n",
       "      <td>0.00017</td>\n",
       "      <td>0.000190</td>\n",
       "      <td>0.000659</td>\n",
       "      <td>0.000195</td>\n",
       "      <td>0.000491</td>\n",
       "      <td>0.000759</td>\n",
       "    </tr>\n",
       "    <tr>\n",
       "      <th>mths_since_last_record</th>\n",
       "      <td>0.823282</td>\n",
       "      <td>0.120586</td>\n",
       "      <td>0.091712</td>\n",
       "      <td>0.000431</td>\n",
       "      <td>0.000539</td>\n",
       "      <td>0.000571</td>\n",
       "      <td>0.000361</td>\n",
       "      <td>0.000405</td>\n",
       "      <td>0.00165</td>\n",
       "      <td>0.002716</td>\n",
       "      <td>0.001301</td>\n",
       "      <td>0.002048</td>\n",
       "      <td>0.000842</td>\n",
       "      <td>0.000229</td>\n",
       "    </tr>\n",
       "  </tbody>\n",
       "</table>\n",
       "</div>"
      ],
      "text/plain": [
       "                        nan_ratio        KS        IV   PSI_1_2   PSI_2_3  \\\n",
       "feature                                                                     \n",
       "delinq_2yrs             0.000000   0.006555  0.000425  0.000878  0.000748   \n",
       "fico_range_low          0.000000   0.070732  0.072710  0.001460  0.002201   \n",
       "fico_range_high         0.000000   0.070732  0.072710  0.001460  0.002201   \n",
       "inq_last_6mths          0.000000   0.114747  0.037908  0.001311  0.000339   \n",
       "mths_since_last_record  0.823282   0.120586  0.091712  0.000431  0.000539   \n",
       "\n",
       "                         PSI_3_4   PSI_4_5   PSI_5_6  PSI_6_7   PSI_7_8  \\\n",
       "feature                                                                   \n",
       "delinq_2yrs             0.000061  0.000150  0.000020  0.00007  0.000424   \n",
       "fico_range_low          0.001290  0.000266  0.001279  0.00088  0.000787   \n",
       "fico_range_high         0.001290  0.000266  0.001279  0.00088  0.000787   \n",
       "inq_last_6mths          0.000222  0.000169  0.000390  0.00017  0.000190   \n",
       "mths_since_last_record  0.000571  0.000361  0.000405  0.00165  0.002716   \n",
       "\n",
       "                         PSI_8_9  PSI_9_10  PSI_10_11  PSI_11_12  \n",
       "feature                                                           \n",
       "delinq_2yrs             0.001026  0.000722  0.000001   0.000030   \n",
       "fico_range_low          0.001564  0.000758  0.000485   0.000472   \n",
       "fico_range_high         0.001564  0.000758  0.000485   0.000472   \n",
       "inq_last_6mths          0.000659  0.000195  0.000491   0.000759   \n",
       "mths_since_last_record  0.001301  0.002048  0.000842   0.000229   "
      ]
     },
     "execution_count": 31,
     "metadata": {},
     "output_type": "execute_result"
    }
   ],
   "source": [
    "index_names = ['PSI_'+str(i-1)+'_'+str(i) for i in range(2,month_max+1)]\n",
    "PSI_df2 = pd.DataFrame(PSI_list2, columns = feature_cols,index = index_names).T\n",
    "show_df2 = pd.concat([comp_df.ix[show_features],effe_df.ix[show_features],PSI_df2.ix[show_features]],axis=1)\n",
    "show_df2\n"
   ]
  },
  {
   "cell_type": "code",
   "execution_count": 32,
   "metadata": {},
   "outputs": [
    {
     "data": {
      "image/png": "[encoded data removed]",
      "text/plain": [
       "<matplotlib.figure.Figure at 0x115581710>"
      ]
     },
     "metadata": {},
     "output_type": "display_data"
    }
   ],
   "source": [
    "pylab.figure(figsize=[8,5])\n",
    "for feature in show_features:\n",
    "    pylab.plot(range(2,month_max+1), PSI_df2.loc[feature,], '-o',label=feature)\n",
    "pylab.legend(loc='upper left')\n",
    "pylab.ylabel(\"PSI\")\n",
    "pylab.xlabel(\"Month\")\n",
    "pylab.ylim([0,0.012])\n",
    "pylab.title('Stability of Different Features: Compared with Last Month')\n",
    "pylab.savefig('../output/Stability_compare_with_last_month.png')"
   ]
  },
  {
   "cell_type": "markdown",
   "metadata": {
    "collapsed": true
   },
   "source": [
    "## 输出结果到Stability.csv"
   ]
  },
  {
   "cell_type": "code",
   "execution_count": 21,
   "metadata": {
    "collapsed": true
   },
   "outputs": [],
   "source": [
    "stab_df = pd.concat([PSI_df,PSI_df2],axis=1)\n",
    "stab_df.index_name = 'feature'\n",
    "stab_df.to_csv('../output/Stability.csv')"
   ]
  },
  {
   "cell_type": "markdown",
   "metadata": {},
   "source": [
    "## 合并所有结果输出到Comp_Effe_Stab.csv"
   ]
  },
  {
   "cell_type": "code",
   "execution_count": 22,
   "metadata": {
    "collapsed": true
   },
   "outputs": [],
   "source": [
    "pd.concat([dict_df.ix[feature_cols],comp_df,effe_df,stab_df], axis=1).to_csv('../output/Comp_Effe_Stab.csv')"
   ]
  },
  {
   "cell_type": "code",
   "execution_count": null,
   "metadata": {
    "collapsed": true
   },
   "outputs": [],
   "source": []
  }
 ],
 "metadata": {
  "anaconda-cloud": {},
  "kernelspec": {
   "display_name": "Python 2",
   "language": "python",
   "name": "python2"
  },
  "language_info": {
   "codemirror_mode": {
    "name": "ipython",
    "version": 2
   },
   "file_extension": ".py",
   "mimetype": "text/x-python",
   "name": "python",
   "nbconvert_exporter": "python",
   "pygments_lexer": "ipython2",
   "version": "2.7.13"
  }
 },
 "nbformat": 4,
 "nbformat_minor": 2
}
