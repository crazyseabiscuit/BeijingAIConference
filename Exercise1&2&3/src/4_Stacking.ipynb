{
 "cells": [
  {
   "cell_type": "markdown",
   "metadata": {},
   "source": [
    "# 构建Stacking预测模型\n",
    "- 目标：    \n",
    "   - 根据所有特征的完整性（ nan_ratio%）,有效性（KS/IV）和稳定性（PSI）来选取模型训练特征。\n",
    "   - 建立风控模型，对于测试集data_test.csv 中的每一条账户数据，预测其坏账（或成为坏账户）的概率（[0, 1]区间上的一个数）。"
   ]
  },
  {
   "cell_type": "code",
   "execution_count": 1,
   "metadata": {},
   "outputs": [
    {
     "name": "stderr",
     "output_type": "stream",
     "text": [
      "D:\\software installed\\Anaconda\\lib\\site-packages\\sklearn\\cross_validation.py:44: DeprecationWarning: This module was deprecated in version 0.18 in favor of the model_selection module into which all the refactored classes and functions are moved. Also note that the interface of the new CV iterators are different from that of this module. This module will be removed in 0.20.\n",
      "  \"This module will be removed in 0.20.\", DeprecationWarning)\n",
      "D:\\software installed\\Anaconda\\lib\\site-packages\\sklearn\\grid_search.py:43: DeprecationWarning: This module was deprecated in version 0.18 in favor of the model_selection module into which all the refactored classes and functions are moved. This module will be removed in 0.20.\n",
      "  DeprecationWarning)\n",
      "D:\\software installed\\Anaconda\\lib\\site-packages\\sklearn\\lda.py:6: DeprecationWarning: lda.LDA has been moved to discriminant_analysis.LinearDiscriminantAnalysis in 0.17 and will be removed in 0.19\n",
      "  \"in 0.17 and will be removed in 0.19\", DeprecationWarning)\n",
      "D:\\software installed\\Anaconda\\lib\\site-packages\\sklearn\\learning_curve.py:23: DeprecationWarning: This module was deprecated in version 0.18 in favor of the model_selection module into which all the functions are moved. This module will be removed in 0.20\n",
      "  DeprecationWarning)\n",
      "D:\\software installed\\Anaconda\\lib\\site-packages\\sklearn\\qda.py:6: DeprecationWarning: qda.QDA has been moved to discriminant_analysis.QuadraticDiscriminantAnalysis in 0.17 and will be removed in 0.19.\n",
      "  \"in 0.17 and will be removed in 0.19.\", DeprecationWarning)\n"
     ]
    }
   ],
   "source": [
    "import pandas as pd\n",
    "import numpy as np\n",
    "from sklearn import metrics\n",
    "from sklearn import tree  # We just train a decision tree classifier as an example. You can use whatever model you want.\n",
    "from sklearn.preprocessing import StandardScaler\n",
    "from sklearn.ensemble import AdaBoostClassifier\n",
    "from sklearn.ensemble import GradientBoostingClassifier\n",
    "from sklearn.ensemble import RandomForestClassifier\n",
    "from sklearn.neural_network import MLPClassifier\n",
    "from sklearn.linear_model import RidgeCV,Ridge\n",
    "from sklearn.cross_validation import KFold\n",
    "from sklearn import *\n",
    "import re"
   ]
  },
  {
   "cell_type": "markdown",
   "metadata": {},
   "source": [
    " # 1. 读取数据\n",
    "- data_all.csv是Lending Club 2015年的1月~12月借贷数据，做训练用\n",
    "    - 每行都表示一个借款账户\n",
    "    - loan_status = 0/1， 表示账户的好/坏\n",
    "    - 除了“loan_status”以外，共计85 个字段均为借贷账户的特征\n",
    "- data_test.csv是lending club 2016年第一季度的数据，做测试用，内容同上\n",
    "- Comp_Effe_Stab.csv 存储的是前两次作业计算出的不同特征的nan_ratio，KS/IV以及不同月份的PSI值"
   ]
  },
  {
   "cell_type": "code",
   "execution_count": 2,
   "metadata": {},
   "outputs": [
    {
     "name": "stderr",
     "output_type": "stream",
     "text": [
      "D:\\software installed\\Anaconda\\lib\\site-packages\\IPython\\core\\interactiveshell.py:2717: DtypeWarning: Columns (12) have mixed types. Specify dtype option on import or set low_memory=False.\n",
      "  interactivity=interactivity, compiler=compiler, result=result)\n"
     ]
    },
    {
     "name": "stdout",
     "output_type": "stream",
     "text": [
      "Number of samples: train 421095, test 40000\n",
      "Number of features: 85\n"
     ]
    },
    {
     "name": "stderr",
     "output_type": "stream",
     "text": [
      "D:\\software installed\\Anaconda\\lib\\site-packages\\IPython\\core\\interactiveshell.py:2717: DtypeWarning: Columns (9) have mixed types. Specify dtype option on import or set low_memory=False.\n",
      "  interactivity=interactivity, compiler=compiler, result=result)\n"
     ]
    },
    {
     "data": {
      "text/html": [
       "<div>\n",
       "<style>\n",
       "    .dataframe thead tr:only-child th {\n",
       "        text-align: right;\n",
       "    }\n",
       "\n",
       "    .dataframe thead th {\n",
       "        text-align: left;\n",
       "    }\n",
       "\n",
       "    .dataframe tbody tr th {\n",
       "        vertical-align: top;\n",
       "    }\n",
       "</style>\n",
       "<table border=\"1\" class=\"dataframe\">\n",
       "  <thead>\n",
       "    <tr style=\"text-align: right;\">\n",
       "      <th></th>\n",
       "      <th>feature</th>\n",
       "      <th>Description</th>\n",
       "      <th>nan_ratio</th>\n",
       "      <th>KS</th>\n",
       "      <th>IV</th>\n",
       "      <th>PSI_1_2</th>\n",
       "      <th>PSI_1_3</th>\n",
       "      <th>PSI_1_4</th>\n",
       "      <th>PSI_1_5</th>\n",
       "      <th>PSI_1_6</th>\n",
       "      <th>...</th>\n",
       "      <th>PSI_2_3</th>\n",
       "      <th>PSI_3_4</th>\n",
       "      <th>PSI_4_5</th>\n",
       "      <th>PSI_5_6</th>\n",
       "      <th>PSI_6_7</th>\n",
       "      <th>PSI_7_8</th>\n",
       "      <th>PSI_8_9</th>\n",
       "      <th>PSI_9_10</th>\n",
       "      <th>PSI_10_11</th>\n",
       "      <th>PSI_11_12</th>\n",
       "    </tr>\n",
       "  </thead>\n",
       "  <tbody>\n",
       "    <tr>\n",
       "      <th>0</th>\n",
       "      <td>loan_amnt</td>\n",
       "      <td>The listed amount of the loan applied for by t...</td>\n",
       "      <td>0.0</td>\n",
       "      <td>0.020218</td>\n",
       "      <td>0.004140</td>\n",
       "      <td>0.001331</td>\n",
       "      <td>0.000574</td>\n",
       "      <td>0.000530</td>\n",
       "      <td>0.000679</td>\n",
       "      <td>0.001082</td>\n",
       "      <td>...</td>\n",
       "      <td>0.000919</td>\n",
       "      <td>0.000996</td>\n",
       "      <td>0.000375</td>\n",
       "      <td>0.000619</td>\n",
       "      <td>0.000636</td>\n",
       "      <td>0.002025</td>\n",
       "      <td>0.001036</td>\n",
       "      <td>0.004327</td>\n",
       "      <td>0.000406</td>\n",
       "      <td>0.001354</td>\n",
       "    </tr>\n",
       "    <tr>\n",
       "      <th>1</th>\n",
       "      <td>annual_inc</td>\n",
       "      <td>The self-reported annual income provided by th...</td>\n",
       "      <td>0.0</td>\n",
       "      <td>0.041286</td>\n",
       "      <td>0.021428</td>\n",
       "      <td>0.000541</td>\n",
       "      <td>0.000597</td>\n",
       "      <td>0.000705</td>\n",
       "      <td>0.000274</td>\n",
       "      <td>0.000622</td>\n",
       "      <td>...</td>\n",
       "      <td>0.000503</td>\n",
       "      <td>0.000533</td>\n",
       "      <td>0.001059</td>\n",
       "      <td>0.000780</td>\n",
       "      <td>0.001864</td>\n",
       "      <td>0.000494</td>\n",
       "      <td>0.003911</td>\n",
       "      <td>0.001271</td>\n",
       "      <td>0.000079</td>\n",
       "      <td>0.000454</td>\n",
       "    </tr>\n",
       "    <tr>\n",
       "      <th>2</th>\n",
       "      <td>dti</td>\n",
       "      <td>A ratio calculated using the borrower's total ...</td>\n",
       "      <td>0.0</td>\n",
       "      <td>0.076777</td>\n",
       "      <td>0.048852</td>\n",
       "      <td>0.000538</td>\n",
       "      <td>0.000497</td>\n",
       "      <td>0.000539</td>\n",
       "      <td>0.000589</td>\n",
       "      <td>0.000336</td>\n",
       "      <td>...</td>\n",
       "      <td>0.000923</td>\n",
       "      <td>0.000638</td>\n",
       "      <td>0.000520</td>\n",
       "      <td>0.000588</td>\n",
       "      <td>0.002776</td>\n",
       "      <td>0.004847</td>\n",
       "      <td>0.001987</td>\n",
       "      <td>0.000577</td>\n",
       "      <td>0.000844</td>\n",
       "      <td>0.000294</td>\n",
       "    </tr>\n",
       "    <tr>\n",
       "      <th>3</th>\n",
       "      <td>delinq_2yrs</td>\n",
       "      <td>The number of 30+ days past-due incidences of ...</td>\n",
       "      <td>0.0</td>\n",
       "      <td>0.006555</td>\n",
       "      <td>0.000425</td>\n",
       "      <td>0.000878</td>\n",
       "      <td>0.000085</td>\n",
       "      <td>0.000061</td>\n",
       "      <td>0.000280</td>\n",
       "      <td>0.000236</td>\n",
       "      <td>...</td>\n",
       "      <td>0.000748</td>\n",
       "      <td>0.000061</td>\n",
       "      <td>0.000150</td>\n",
       "      <td>0.000020</td>\n",
       "      <td>0.000070</td>\n",
       "      <td>0.000424</td>\n",
       "      <td>0.001026</td>\n",
       "      <td>0.000722</td>\n",
       "      <td>0.000001</td>\n",
       "      <td>0.000030</td>\n",
       "    </tr>\n",
       "    <tr>\n",
       "      <th>4</th>\n",
       "      <td>fico_range_low</td>\n",
       "      <td>The lower boundary range the borrower's FICO a...</td>\n",
       "      <td>0.0</td>\n",
       "      <td>0.070732</td>\n",
       "      <td>0.072710</td>\n",
       "      <td>0.001460</td>\n",
       "      <td>0.000738</td>\n",
       "      <td>0.001401</td>\n",
       "      <td>0.001388</td>\n",
       "      <td>0.003543</td>\n",
       "      <td>...</td>\n",
       "      <td>0.002201</td>\n",
       "      <td>0.001290</td>\n",
       "      <td>0.000266</td>\n",
       "      <td>0.001279</td>\n",
       "      <td>0.000880</td>\n",
       "      <td>0.000787</td>\n",
       "      <td>0.001564</td>\n",
       "      <td>0.000758</td>\n",
       "      <td>0.000485</td>\n",
       "      <td>0.000472</td>\n",
       "    </tr>\n",
       "  </tbody>\n",
       "</table>\n",
       "<p>5 rows × 27 columns</p>\n",
       "</div>"
      ],
      "text/plain": [
       "          feature                                        Description  \\\n",
       "0       loan_amnt  The listed amount of the loan applied for by t...   \n",
       "1      annual_inc  The self-reported annual income provided by th...   \n",
       "2             dti  A ratio calculated using the borrower's total ...   \n",
       "3     delinq_2yrs  The number of 30+ days past-due incidences of ...   \n",
       "4  fico_range_low  The lower boundary range the borrower's FICO a...   \n",
       "\n",
       "   nan_ratio        KS        IV   PSI_1_2   PSI_1_3   PSI_1_4   PSI_1_5  \\\n",
       "0        0.0  0.020218  0.004140  0.001331  0.000574  0.000530  0.000679   \n",
       "1        0.0  0.041286  0.021428  0.000541  0.000597  0.000705  0.000274   \n",
       "2        0.0  0.076777  0.048852  0.000538  0.000497  0.000539  0.000589   \n",
       "3        0.0  0.006555  0.000425  0.000878  0.000085  0.000061  0.000280   \n",
       "4        0.0  0.070732  0.072710  0.001460  0.000738  0.001401  0.001388   \n",
       "\n",
       "    PSI_1_6    ...       PSI_2_3   PSI_3_4   PSI_4_5   PSI_5_6   PSI_6_7  \\\n",
       "0  0.001082    ...      0.000919  0.000996  0.000375  0.000619  0.000636   \n",
       "1  0.000622    ...      0.000503  0.000533  0.001059  0.000780  0.001864   \n",
       "2  0.000336    ...      0.000923  0.000638  0.000520  0.000588  0.002776   \n",
       "3  0.000236    ...      0.000748  0.000061  0.000150  0.000020  0.000070   \n",
       "4  0.003543    ...      0.002201  0.001290  0.000266  0.001279  0.000880   \n",
       "\n",
       "    PSI_7_8   PSI_8_9  PSI_9_10  PSI_10_11  PSI_11_12  \n",
       "0  0.002025  0.001036  0.004327   0.000406   0.001354  \n",
       "1  0.000494  0.003911  0.001271   0.000079   0.000454  \n",
       "2  0.004847  0.001987  0.000577   0.000844   0.000294  \n",
       "3  0.000424  0.001026  0.000722   0.000001   0.000030  \n",
       "4  0.000787  0.001564  0.000758   0.000485   0.000472  \n",
       "\n",
       "[5 rows x 27 columns]"
      ]
     },
     "execution_count": 2,
     "metadata": {},
     "output_type": "execute_result"
    }
   ],
   "source": [
    "raw_df_train = pd.read_csv('../data/data_all.csv') \n",
    "df_test = pd.read_csv('../data/data_test.csv')\n",
    "df_choose = pd.read_csv('../output/Comp_Effe_Stab.csv')\n",
    "\n",
    "print 'Number of samples: train %d, test %d' % (raw_df_train.shape[0], df_test.shape[0])\n",
    "print 'Number of features: %d' % (raw_df_train.shape[1])\n",
    "df_choose.head()"
   ]
  },
  {
   "cell_type": "markdown",
   "metadata": {},
   "source": [
    "# 2. 特征选择\n",
    "- nan_ratio表示空缺值所占的比例，KS/IV表示有效性，即区分好人和坏人的能力，PSI表示特征的稳定性\n",
    "- 在特征选择时，有以下几步：\n",
    "    - 删除非数值型特征和对识别欺诈无意义的特征（如id, member_id等），得到data_clean.csv（见1_preprocess.ipynb)\n",
    "    - 选择data_clean.csv中任何两个月份的PSI值小于0.1的特征\n",
    "    - 将data_clean.csv中计算出的nan_ratio大于一定阈值的特征删去，因为nan_ratio过大，表示该特征的数据缺失太多\n",
    "    - 尽量选择KS/IV值较大的特征，但是本数据集算出特征的KS/IV值相差不大，因此在本例中这部分不做重点考虑\n",
    "    \n",
    "  注：选择PSI小于0.1的原因\n",
    "  ![](../others/PSI的含义.bmp)"
   ]
  },
  {
   "cell_type": "code",
   "execution_count": 3,
   "metadata": {
    "collapsed": true
   },
   "outputs": [],
   "source": [
    "\"\"\"选择data_clean.csv中任何两个月份的PSI值小于0.1的特征,得到集合PSI_features\n",
    "\"\"\"\n",
    "m_df_choose = df_choose.shape[0]  \n",
    "n_df_choose = df_choose.shape[1]\n",
    "PSI_features = []\n",
    "for i in range(m_df_choose):\n",
    "    for j in range(5,n_df_choose):  #\"5\"表示PSI_1_2所在的列\n",
    "        if (df_choose.loc[i][j] < 0.1):\n",
    "            if j == n_df_choose - 1:\n",
    "                PSI_features.append(df_choose.feature[i])\n",
    "\"\"\"将data_clean.csv中计算出的nan_ratio大于一定阈值的特征删去，得到集合nan_feature\n",
    "\"\"\"\n",
    "df_del = df_choose[df_choose.nan_ratio < 0.05]  #将nan_ratio > 0.05的缺失严重的特征删掉\n",
    "nan_feature =  list(df_del.feature)\n",
    "\"\"\"求PSI_features和nan_feature两个集合的交集\"\"\"\n",
    "features = list(set(PSI_features).intersection(set(nan_feature)))"
   ]
  },
  {
   "cell_type": "code",
   "execution_count": 4,
   "metadata": {
    "scrolled": false
   },
   "outputs": [
    {
     "name": "stdout",
     "output_type": "stream",
     "text": [
      "Number of samples: 421095 40000\n",
      "Negative sample size:393594,\n",
      "Positive sample size:27501\n",
      "Imbalance ratio:0.070\n"
     ]
    },
    {
     "data": {
      "text/html": [
       "<div>\n",
       "<style>\n",
       "    .dataframe thead tr:only-child th {\n",
       "        text-align: right;\n",
       "    }\n",
       "\n",
       "    .dataframe thead th {\n",
       "        text-align: left;\n",
       "    }\n",
       "\n",
       "    .dataframe tbody tr th {\n",
       "        vertical-align: top;\n",
       "    }\n",
       "</style>\n",
       "<table border=\"1\" class=\"dataframe\">\n",
       "  <thead>\n",
       "    <tr style=\"text-align: right;\">\n",
       "      <th></th>\n",
       "      <th>pub_rec_bankruptcies</th>\n",
       "      <th>tax_liens</th>\n",
       "      <th>inq_last_6mths</th>\n",
       "      <th>tot_cur_bal</th>\n",
       "      <th>open_acc</th>\n",
       "      <th>pct_tl_nvr_dlq</th>\n",
       "      <th>num_rev_tl_bal_gt_0</th>\n",
       "      <th>fico_range_low</th>\n",
       "      <th>total_acc</th>\n",
       "      <th>num_bc_tl</th>\n",
       "      <th>...</th>\n",
       "      <th>num_rev_accts</th>\n",
       "      <th>num_tl_90g_dpd_24m</th>\n",
       "      <th>mo_sin_rcnt_tl</th>\n",
       "      <th>total_il_high_credit_limit</th>\n",
       "      <th>tot_hi_cred_lim</th>\n",
       "      <th>loan_amnt</th>\n",
       "      <th>delinq_amnt</th>\n",
       "      <th>dti</th>\n",
       "      <th>num_tl_op_past_12m</th>\n",
       "      <th>loan_status</th>\n",
       "    </tr>\n",
       "  </thead>\n",
       "  <tbody>\n",
       "    <tr>\n",
       "      <th>0</th>\n",
       "      <td>0</td>\n",
       "      <td>0</td>\n",
       "      <td>0</td>\n",
       "      <td>146867</td>\n",
       "      <td>17</td>\n",
       "      <td>91.3</td>\n",
       "      <td>4</td>\n",
       "      <td>685</td>\n",
       "      <td>46</td>\n",
       "      <td>6</td>\n",
       "      <td>...</td>\n",
       "      <td>11.0</td>\n",
       "      <td>0</td>\n",
       "      <td>3</td>\n",
       "      <td>71700</td>\n",
       "      <td>220950</td>\n",
       "      <td>35000</td>\n",
       "      <td>0</td>\n",
       "      <td>6.46</td>\n",
       "      <td>1</td>\n",
       "      <td>0</td>\n",
       "    </tr>\n",
       "    <tr>\n",
       "      <th>1</th>\n",
       "      <td>0</td>\n",
       "      <td>0</td>\n",
       "      <td>0</td>\n",
       "      <td>265836</td>\n",
       "      <td>13</td>\n",
       "      <td>100.0</td>\n",
       "      <td>6</td>\n",
       "      <td>720</td>\n",
       "      <td>29</td>\n",
       "      <td>12</td>\n",
       "      <td>...</td>\n",
       "      <td>21.0</td>\n",
       "      <td>0</td>\n",
       "      <td>9</td>\n",
       "      <td>45838</td>\n",
       "      <td>309638</td>\n",
       "      <td>16000</td>\n",
       "      <td>0</td>\n",
       "      <td>26.40</td>\n",
       "      <td>1</td>\n",
       "      <td>0</td>\n",
       "    </tr>\n",
       "    <tr>\n",
       "      <th>2</th>\n",
       "      <td>1</td>\n",
       "      <td>0</td>\n",
       "      <td>1</td>\n",
       "      <td>27957</td>\n",
       "      <td>14</td>\n",
       "      <td>95.7</td>\n",
       "      <td>9</td>\n",
       "      <td>685</td>\n",
       "      <td>23</td>\n",
       "      <td>10</td>\n",
       "      <td>...</td>\n",
       "      <td>19.0</td>\n",
       "      <td>0</td>\n",
       "      <td>1</td>\n",
       "      <td>30799</td>\n",
       "      <td>61099</td>\n",
       "      <td>10000</td>\n",
       "      <td>0</td>\n",
       "      <td>13.07</td>\n",
       "      <td>2</td>\n",
       "      <td>0</td>\n",
       "    </tr>\n",
       "  </tbody>\n",
       "</table>\n",
       "<p>3 rows × 50 columns</p>\n",
       "</div>"
      ],
      "text/plain": [
       "   pub_rec_bankruptcies  tax_liens  inq_last_6mths  tot_cur_bal  open_acc  \\\n",
       "0                     0          0               0       146867        17   \n",
       "1                     0          0               0       265836        13   \n",
       "2                     1          0               1        27957        14   \n",
       "\n",
       "   pct_tl_nvr_dlq  num_rev_tl_bal_gt_0  fico_range_low  total_acc  num_bc_tl  \\\n",
       "0            91.3                    4             685         46          6   \n",
       "1           100.0                    6             720         29         12   \n",
       "2            95.7                    9             685         23         10   \n",
       "\n",
       "      ...       num_rev_accts  num_tl_90g_dpd_24m  mo_sin_rcnt_tl  \\\n",
       "0     ...                11.0                   0               3   \n",
       "1     ...                21.0                   0               9   \n",
       "2     ...                19.0                   0               1   \n",
       "\n",
       "   total_il_high_credit_limit  tot_hi_cred_lim  loan_amnt  delinq_amnt    dti  \\\n",
       "0                       71700           220950      35000            0   6.46   \n",
       "1                       45838           309638      16000            0  26.40   \n",
       "2                       30799            61099      10000            0  13.07   \n",
       "\n",
       "   num_tl_op_past_12m  loan_status  \n",
       "0                   1            0  \n",
       "1                   1            0  \n",
       "2                   2            0  \n",
       "\n",
       "[3 rows x 50 columns]"
      ]
     },
     "execution_count": 4,
     "metadata": {},
     "output_type": "execute_result"
    }
   ],
   "source": [
    "df_train = raw_df_train[features + [\"loan_status\"]]\n",
    "\n",
    "# Simple strategy to fill the nan term\n",
    "df_train = df_train.fillna(value=0, inplace=False)\n",
    "\n",
    "print 'Number of samples:', df_train.shape[0], df_test.shape[0]\n",
    "sample_size_dict = dict(pd.value_counts(df_train['loan_status']))\n",
    "print \"Negative sample size:%d,\\nPositive sample size:%d\\nImbalance ratio:%.3f\" \\\n",
    "    % (sample_size_dict[0], sample_size_dict[1], float(sample_size_dict[1])/sample_size_dict[0])\n",
    "df_train.head(3)"
   ]
  },
  {
   "cell_type": "markdown",
   "metadata": {},
   "source": [
    "# 3. 数据预处理——标准化"
   ]
  },
  {
   "cell_type": "markdown",
   "metadata": {},
   "source": [
    "- 对训练数据标准化"
   ]
  },
  {
   "cell_type": "code",
   "execution_count": 5,
   "metadata": {
    "scrolled": false
   },
   "outputs": [
    {
     "name": "stdout",
     "output_type": "stream",
     "text": [
      "(421095L, 49L) (421095L,)\n"
     ]
    }
   ],
   "source": [
    "sscaler = StandardScaler() # StandardScaler from sklearn.preprocessing\n",
    "sscaler.fit(df_train[features]) # fit training data to get mean and variance of each feature term\n",
    "train_matrix = sscaler.transform(df_train[features]) # transform training data to standardized vectors\n",
    "\n",
    "train_labels = np.array(df_train['loan_status'])\n",
    "print train_matrix.shape, train_labels.shape"
   ]
  },
  {
   "cell_type": "markdown",
   "metadata": {},
   "source": [
    "- 用相同的均值和方差对测试数据标准化"
   ]
  },
  {
   "cell_type": "code",
   "execution_count": 6,
   "metadata": {},
   "outputs": [
    {
     "name": "stdout",
     "output_type": "stream",
     "text": [
      "(40000L, 49L) (40000L,)\n"
     ]
    },
    {
     "data": {
      "text/html": [
       "<div>\n",
       "<style>\n",
       "    .dataframe thead tr:only-child th {\n",
       "        text-align: right;\n",
       "    }\n",
       "\n",
       "    .dataframe thead th {\n",
       "        text-align: left;\n",
       "    }\n",
       "\n",
       "    .dataframe tbody tr th {\n",
       "        vertical-align: top;\n",
       "    }\n",
       "</style>\n",
       "<table border=\"1\" class=\"dataframe\">\n",
       "  <thead>\n",
       "    <tr style=\"text-align: right;\">\n",
       "      <th></th>\n",
       "      <th>pub_rec_bankruptcies</th>\n",
       "      <th>tax_liens</th>\n",
       "      <th>inq_last_6mths</th>\n",
       "      <th>tot_cur_bal</th>\n",
       "      <th>open_acc</th>\n",
       "      <th>pct_tl_nvr_dlq</th>\n",
       "      <th>num_rev_tl_bal_gt_0</th>\n",
       "      <th>fico_range_low</th>\n",
       "      <th>total_acc</th>\n",
       "      <th>num_bc_tl</th>\n",
       "      <th>...</th>\n",
       "      <th>mo_sin_old_il_acct</th>\n",
       "      <th>num_rev_accts</th>\n",
       "      <th>num_tl_90g_dpd_24m</th>\n",
       "      <th>mo_sin_rcnt_tl</th>\n",
       "      <th>total_il_high_credit_limit</th>\n",
       "      <th>tot_hi_cred_lim</th>\n",
       "      <th>loan_amnt</th>\n",
       "      <th>delinq_amnt</th>\n",
       "      <th>dti</th>\n",
       "      <th>num_tl_op_past_12m</th>\n",
       "    </tr>\n",
       "  </thead>\n",
       "  <tbody>\n",
       "    <tr>\n",
       "      <th>0</th>\n",
       "      <td>1</td>\n",
       "      <td>0</td>\n",
       "      <td>0</td>\n",
       "      <td>38767</td>\n",
       "      <td>9</td>\n",
       "      <td>100.0</td>\n",
       "      <td>4</td>\n",
       "      <td>670</td>\n",
       "      <td>28</td>\n",
       "      <td>6</td>\n",
       "      <td>...</td>\n",
       "      <td>140.0</td>\n",
       "      <td>17</td>\n",
       "      <td>0</td>\n",
       "      <td>10</td>\n",
       "      <td>31997</td>\n",
       "      <td>64797</td>\n",
       "      <td>30000</td>\n",
       "      <td>0</td>\n",
       "      <td>13.75</td>\n",
       "      <td>1</td>\n",
       "    </tr>\n",
       "    <tr>\n",
       "      <th>1</th>\n",
       "      <td>0</td>\n",
       "      <td>1</td>\n",
       "      <td>0</td>\n",
       "      <td>16290</td>\n",
       "      <td>8</td>\n",
       "      <td>100.0</td>\n",
       "      <td>5</td>\n",
       "      <td>670</td>\n",
       "      <td>15</td>\n",
       "      <td>5</td>\n",
       "      <td>...</td>\n",
       "      <td>129.0</td>\n",
       "      <td>12</td>\n",
       "      <td>0</td>\n",
       "      <td>38</td>\n",
       "      <td>10555</td>\n",
       "      <td>29955</td>\n",
       "      <td>8000</td>\n",
       "      <td>0</td>\n",
       "      <td>27.29</td>\n",
       "      <td>0</td>\n",
       "    </tr>\n",
       "    <tr>\n",
       "      <th>2</th>\n",
       "      <td>0</td>\n",
       "      <td>0</td>\n",
       "      <td>0</td>\n",
       "      <td>51082</td>\n",
       "      <td>16</td>\n",
       "      <td>100.0</td>\n",
       "      <td>5</td>\n",
       "      <td>680</td>\n",
       "      <td>26</td>\n",
       "      <td>3</td>\n",
       "      <td>...</td>\n",
       "      <td>88.0</td>\n",
       "      <td>8</td>\n",
       "      <td>0</td>\n",
       "      <td>6</td>\n",
       "      <td>48642</td>\n",
       "      <td>60442</td>\n",
       "      <td>4000</td>\n",
       "      <td>0</td>\n",
       "      <td>26.88</td>\n",
       "      <td>6</td>\n",
       "    </tr>\n",
       "  </tbody>\n",
       "</table>\n",
       "<p>3 rows × 49 columns</p>\n",
       "</div>"
      ],
      "text/plain": [
       "   pub_rec_bankruptcies  tax_liens  inq_last_6mths  tot_cur_bal  open_acc  \\\n",
       "0                     1          0               0        38767         9   \n",
       "1                     0          1               0        16290         8   \n",
       "2                     0          0               0        51082        16   \n",
       "\n",
       "   pct_tl_nvr_dlq  num_rev_tl_bal_gt_0  fico_range_low  total_acc  num_bc_tl  \\\n",
       "0           100.0                    4             670         28          6   \n",
       "1           100.0                    5             670         15          5   \n",
       "2           100.0                    5             680         26          3   \n",
       "\n",
       "          ...          mo_sin_old_il_acct  num_rev_accts  num_tl_90g_dpd_24m  \\\n",
       "0         ...                       140.0             17                   0   \n",
       "1         ...                       129.0             12                   0   \n",
       "2         ...                        88.0              8                   0   \n",
       "\n",
       "   mo_sin_rcnt_tl  total_il_high_credit_limit  tot_hi_cred_lim  loan_amnt  \\\n",
       "0              10                       31997            64797      30000   \n",
       "1              38                       10555            29955       8000   \n",
       "2               6                       48642            60442       4000   \n",
       "\n",
       "   delinq_amnt    dti  num_tl_op_past_12m  \n",
       "0            0  13.75                   1  \n",
       "1            0  27.29                   0  \n",
       "2            0  26.88                   6  \n",
       "\n",
       "[3 rows x 49 columns]"
      ]
     },
     "execution_count": 6,
     "metadata": {},
     "output_type": "execute_result"
    }
   ],
   "source": [
    "df_test = df_test.fillna(value=0, inplace=False) # simply fill the nan value with zero\n",
    "test_matrix = sscaler.transform(df_test[features]) # standardize test data\n",
    "test_labels = np.array(df_test['loan_status'])\n",
    "print test_matrix.shape, test_labels.shape\n",
    "df_test[features].head(3)"
   ]
  },
  {
   "cell_type": "markdown",
   "metadata": {},
   "source": [
    "# 4. Stacking模型\n",
    "- 训练一个模型来组合其他各个模型。首先先训练多个不同的模型，然后再以之前训练的各个模型的输出为输入来训练一个模型，以得到一个最终的输出。"
   ]
  },
  {
   "cell_type": "markdown",
   "metadata": {},
   "source": [
    "## 4.1 构造扩展类\n",
    "- 类SklearnHelper能够拓展所有Sklearn分类器的内置方法（包括train, predict and fit等），使得在第一级调用4种模型方法分类器时不会显得冗余（[见参考\n",
    "](https://www.kaggle.com/arthurtok/introduction-to-ensembling-stacking-in-python)）"
   ]
  },
  {
   "cell_type": "code",
   "execution_count": 7,
   "metadata": {
    "collapsed": true
   },
   "outputs": [],
   "source": [
    "# Some useful parameters which will come in handy later on\n",
    "ntrain = df_train.shape[0]\n",
    "ntest = df_test[features].shape[0]\n",
    "SEED = 0 # for reproducibility\n",
    "NFOLDS = 5 # set folds for out-of-fold prediction\n",
    "kf = KFold(ntrain, n_folds= NFOLDS, random_state=SEED)\n",
    "\n",
    "# Class to extend the Sklearn classifier\n",
    "class SklearnHelper(object):\n",
    "    def __init__(self, clf, seed=0, params=None):\n",
    "        params['random_state'] = seed\n",
    "        self.clf = clf(**params)\n",
    "\n",
    "    def train(self, x_train, y_train):\n",
    "        self.clf.fit(x_train, y_train)\n",
    "\n",
    "    def predict_proba(self, x):\n",
    "        return self.clf.predict_proba(x)[:, 1]\n",
    "    \n",
    "    def fit(self,x,y):\n",
    "        return self.clf.fit(x,y)\n",
    "    \n",
    "    def feature_importances(self,x,y):\n",
    "        print(self.clf.fit(x,y).feature_importances_) "
   ]
  },
  {
   "cell_type": "markdown",
   "metadata": {},
   "source": [
    "## 4.2 K-折交叉验证(k-fold CrossValidation)\n",
    "- 生成训练集和测试集的预测标签,[见参考](http://blog.csdn.net/yc1203968305/article/details/73526615)\n",
    "  ![](../others/Stacking.png)"
   ]
  },
  {
   "cell_type": "code",
   "execution_count": 8,
   "metadata": {
    "collapsed": true
   },
   "outputs": [],
   "source": [
    "def get_oof(clf, x_train, y_train, test_matrix,test_labels):\n",
    "    oof_train = np.zeros((ntrain,))\n",
    "    oof_test = np.zeros((ntest,))\n",
    "    oof_test_skf = np.empty((NFOLDS, ntest))\n",
    "\n",
    "    for i, (train_index, test_index) in enumerate(kf):\n",
    "        x_tr = x_train[train_index]\n",
    "        y_tr = y_train[train_index]\n",
    "        x_te = x_train[test_index]\n",
    "\n",
    "        clf.train(x_tr, y_tr)\n",
    "\n",
    "        oof_train[test_index] = clf.predict_proba(x_te)\n",
    "        oof_test_skf[i, :] = clf.predict_proba(test_matrix)\n",
    "        \n",
    "    oof_test[:] = oof_test_skf.mean(axis=0)\n",
    "    auc_score = metrics.roc_auc_score(y_true=test_labels, y_score=oof_test[:])\n",
    "    return oof_train.reshape(-1, 1), oof_test.reshape(-1, 1),auc_score"
   ]
  },
  {
   "cell_type": "markdown",
   "metadata": {},
   "source": [
    "## 4.3 创建第一级分类器\n",
    "- Random Forest classifier\n",
    "- AdaBoost classifier\n",
    "- Neural_network MLP classifier\n",
    "- GradientBoosting classifier"
   ]
  },
  {
   "cell_type": "code",
   "execution_count": 20,
   "metadata": {
    "collapsed": true
   },
   "outputs": [],
   "source": [
    "# Put in our parameters for said classifiers\n",
    "# Random Forest parameters\n",
    "rf_params = {\n",
    "    'n_jobs': -1,\n",
    "    'n_estimators': 100,\n",
    "     'criterion': 'entropy', \n",
    "    'max_depth': 11,\n",
    "}\n",
    "\n",
    "# AdaBoost parameters\n",
    "ada_params = {\n",
    "    'n_estimators': 200,\n",
    "    'learning_rate' : 0.75\n",
    "}\n",
    "\n",
    "# Neural_network MLP classifier\n",
    "mlp_params = {\n",
    "    'hidden_layer_sizes': (150),\n",
    "    'solver': 'adam',\n",
    "    'activation': 'logistic',\n",
    "    'alpha': 0.0001,\n",
    "    'verbose': 1,\n",
    "    'learning_rate_init': 0.01,\n",
    "    'warm_start': True,\n",
    "}\n",
    "\n",
    "# Gradientboosting classifier\n",
    "gb_params = {\n",
    "    'learning_rate':0.01,\n",
    "    'n_estimators': 1200,\n",
    "    'max_depth': 9, \n",
    "    'min_samples_split': 60,\n",
    "    'random_state': 10,\n",
    "    'subsample': 0.85,\n",
    "    'max_features':7,\n",
    "    'warm_start': True,\n",
    "}"
   ]
  },
  {
   "cell_type": "code",
   "execution_count": 21,
   "metadata": {
    "collapsed": true
   },
   "outputs": [],
   "source": [
    "# 通过类SklearnHelper创建4个models\n",
    "rf = SklearnHelper(clf=RandomForestClassifier, seed=SEED, params=rf_params)\n",
    "ada = SklearnHelper(clf=AdaBoostClassifier, seed=SEED, params=ada_params)\n",
    "mlp = SklearnHelper(clf=neural_network.MLPClassifier, seed=SEED, params=mlp_params)\n",
    "gb = SklearnHelper(clf=GradientBoostingClassifier, seed=SEED, params=gb_params)"
   ]
  },
  {
   "cell_type": "markdown",
   "metadata": {},
   "source": [
    "## 4.4 第一级分类器的预测标签输出\n",
    "- XX_oof_train和XX_oof_test分别表示第一级分类器的训练集和测试集的预测标签输出"
   ]
  },
  {
   "cell_type": "code",
   "execution_count": 29,
   "metadata": {
    "collapsed": true
   },
   "outputs": [],
   "source": [
    "# Create our OOF train and test predictions. These base results will be used as new features\n",
    "rf_oof_train, rf_oof_test, rf_auc_score = get_oof(rf, train_matrix,train_labels, test_matrix,test_labels) # Random Forest\n",
    "print(\"Random Forest is complete\")\n",
    "ada_oof_train, ada_oof_test, ada_auc_score = get_oof(ada,train_matrix,train_labels, test_matrix,test_labels) # AdaBoost \n",
    "print(\"AdaBoost  is complete\")\n",
    "mlp_oof_train, mlp_oof_test, mlp_auc_score = get_oof(mlp,train_matrix,train_labels, test_matrix,test_labels) # Neural_network MLP classifier\n",
    "print(\"Neural_network MLP  is complete\")\n",
    "gb_oof_train, gb_oof_test, gb_auc_score = get_oof(gb,train_matrix,train_labels, test_matrix,test_labels) # GradientBoosting classifier\n",
    "print(\"GradientBoosting is complete\")"
   ]
  },
  {
   "cell_type": "code",
   "execution_count": 30,
   "metadata": {},
   "outputs": [
    {
     "name": "stdout",
     "output_type": "stream",
     "text": [
      "Random Forest模型的AUC值:0.70178 \n",
      "AdaBoost模型的AUC值:0.70113 \n",
      "Neural_network MLP模型的AUC值:0.71706 \n",
      "GradientBoosting模型的AUC值:0.71790\n"
     ]
    }
   ],
   "source": [
    "print \"Random Forest模型的AUC值:%.5f \\nAdaBoost模型的AUC值:%.5f \\nNeural_network MLP模型的AUC值:%.5f \\nGradientBoosting模型的AUC值:%.5f\" \\\n",
    "    % (rf_auc_score, ada_auc_score,mlp_auc_score,gb_auc_score)"
   ]
  },
  {
   "cell_type": "markdown",
   "metadata": {},
   "source": [
    "## 4.5 合并第一级分类器的预测标签输出"
   ]
  },
  {
   "cell_type": "code",
   "execution_count": 36,
   "metadata": {
    "collapsed": true
   },
   "outputs": [],
   "source": [
    "x_train = np.concatenate(( rf_oof_train, ada_oof_train, mlp_oof_train,gb_oof_train), axis=1)\n",
    "x_test = np.concatenate(( rf_oof_test, ada_oof_test, mlp_oof_test,gb_oof_test), axis=1)"
   ]
  },
  {
   "cell_type": "markdown",
   "metadata": {},
   "source": [
    "## 4.6 第一级各分类器方法的相关程度\n",
    "corr() 相关系数，默认皮尔森 0<|r|<1表示存在不同程度线性相关：\n",
    "- 0.8-1.0 极强相关\n",
    "- 0.6-0.8 强相关\n",
    "- 0.4-0.6 中等程度相关\n",
    "- 0.2-0.4 弱相关\n",
    "- 0.0-0.2 极弱相关或无相关"
   ]
  },
  {
   "cell_type": "code",
   "execution_count": 32,
   "metadata": {},
   "outputs": [
    {
     "data": {
      "text/html": [
       "<div>\n",
       "<style>\n",
       "    .dataframe thead tr:only-child th {\n",
       "        text-align: right;\n",
       "    }\n",
       "\n",
       "    .dataframe thead th {\n",
       "        text-align: left;\n",
       "    }\n",
       "\n",
       "    .dataframe tbody tr th {\n",
       "        vertical-align: top;\n",
       "    }\n",
       "</style>\n",
       "<table border=\"1\" class=\"dataframe\">\n",
       "  <thead>\n",
       "    <tr style=\"text-align: right;\">\n",
       "      <th></th>\n",
       "      <th>rf</th>\n",
       "      <th>ada</th>\n",
       "      <th>mlp</th>\n",
       "      <th>gb</th>\n",
       "    </tr>\n",
       "  </thead>\n",
       "  <tbody>\n",
       "    <tr>\n",
       "      <th>rf</th>\n",
       "      <td>1.000000</td>\n",
       "      <td>0.673398</td>\n",
       "      <td>0.768406</td>\n",
       "      <td>0.744526</td>\n",
       "    </tr>\n",
       "    <tr>\n",
       "      <th>ada</th>\n",
       "      <td>0.673398</td>\n",
       "      <td>1.000000</td>\n",
       "      <td>0.579979</td>\n",
       "      <td>0.558328</td>\n",
       "    </tr>\n",
       "    <tr>\n",
       "      <th>mlp</th>\n",
       "      <td>0.768406</td>\n",
       "      <td>0.579979</td>\n",
       "      <td>1.000000</td>\n",
       "      <td>0.738716</td>\n",
       "    </tr>\n",
       "    <tr>\n",
       "      <th>gb</th>\n",
       "      <td>0.744526</td>\n",
       "      <td>0.558328</td>\n",
       "      <td>0.738716</td>\n",
       "      <td>1.000000</td>\n",
       "    </tr>\n",
       "  </tbody>\n",
       "</table>\n",
       "</div>"
      ],
      "text/plain": [
       "           rf       ada       mlp        gb\n",
       "rf   1.000000  0.673398  0.768406  0.744526\n",
       "ada  0.673398  1.000000  0.579979  0.558328\n",
       "mlp  0.768406  0.579979  1.000000  0.738716\n",
       "gb   0.744526  0.558328  0.738716  1.000000"
      ]
     },
     "execution_count": 32,
     "metadata": {},
     "output_type": "execute_result"
    }
   ],
   "source": [
    "df = pd.DataFrame(x_train, columns= ['rf','ada','mlp','gb'])\n",
    "df_test = pd.DataFrame(x_test, columns= ['rf','ada','mlp','gb'])\n",
    "df.corr()"
   ]
  },
  {
   "cell_type": "markdown",
   "metadata": {},
   "source": [
    "## 4.7 训练第二级模型\n",
    "- 第二级模型选用的是岭回归模型方法\n",
    "- 岭回归的目标函数：\n",
    "![](../others/函数.png)"
   ]
  },
  {
   "cell_type": "code",
   "execution_count": 87,
   "metadata": {},
   "outputs": [
    {
     "name": "stdout",
     "output_type": "stream",
     "text": [
      "Random Forest模型对最终预测结果的影响程度:0.04196 \n",
      "AdaBoost模型对最终预测结果的影响程度:0.05520 \n",
      "Neural_network MLP模型对最终预测结果的影响程度:0.08427 \n",
      "GradientBoosting模型对最终预测结果的影响程度:0.39638\n",
      "Stacking模型后最终的AUC值:0.72032 \n"
     ]
    }
   ],
   "source": [
    "combinerModel = Ridge(alpha = 5000, fit_intercept=False)\n",
    "combinerModel.fit(x_train, train_labels) \n",
    "print \"Random Forest模型对最终预测结果的影响程度:%.5f \\nAdaBoost模型对最终预测结果的影响程度:%.5f \\nNeural_network MLP模型对最终预测结果的影响程度:%.5f \\nGradientBoosting模型对最终预测结果的影响程度:%.5f\" \\\n",
    "    % (combinerModel.coef_[0], combinerModel.coef_[1], combinerModel.coef_[2], combinerModel.coef_[3])\n",
    "test_predictions = combinerModel.predict(x_test)\n",
    "Stacking_auc_score = metrics.roc_auc_score(y_true=test_labels, y_score=test_predictions)\n",
    "print \"Stacking模型后最终的AUC值:%.5f \" % (Stacking_auc_score)"
   ]
  },
  {
   "cell_type": "code",
   "execution_count": null,
   "metadata": {
    "collapsed": true
   },
   "outputs": [],
   "source": []
  }
 ],
 "metadata": {
  "anaconda-cloud": {},
  "kernelspec": {
   "display_name": "Python 2",
   "language": "python",
   "name": "python2"
  },
  "language_info": {
   "codemirror_mode": {
    "name": "ipython",
    "version": 2
   },
   "file_extension": ".py",
   "mimetype": "text/x-python",
   "name": "python",
   "nbconvert_exporter": "python",
   "pygments_lexer": "ipython2",
   "version": "2.7.13"
  }
 },
 "nbformat": 4,
 "nbformat_minor": 2
}
